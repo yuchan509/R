{
 "cells": [
  {
   "cell_type": "markdown",
   "metadata": {},
   "source": [
    "### 함수 기본 프로그래밍."
   ]
  },
  {
   "cell_type": "code",
   "execution_count": 39,
   "metadata": {
    "scrolled": true
   },
   "outputs": [
    {
     "data": {
      "text/html": [
       "7"
      ],
      "text/latex": [
       "7"
      ],
      "text/markdown": [
       "7"
      ],
      "text/plain": [
       "[1] 7"
      ]
     },
     "metadata": {},
     "output_type": "display_data"
    }
   ],
   "source": [
    "aa = function(x1, x2){\n",
    "    y = x1+3*x2\n",
    "    return(y)\n",
    "    }\n",
    "aa(1,2)"
   ]
  },
  {
   "cell_type": "markdown",
   "metadata": {},
   "source": [
    "### 팩토리얼."
   ]
  },
  {
   "cell_type": "code",
   "execution_count": 3,
   "metadata": {},
   "outputs": [
    {
     "data": {
      "text/html": [
       "3628800"
      ],
      "text/latex": [
       "3628800"
      ],
      "text/markdown": [
       "3628800"
      ],
      "text/plain": [
       "[1] 3628800"
      ]
     },
     "metadata": {},
     "output_type": "display_data"
    }
   ],
   "source": [
    "n_Fact=function(n){\n",
    "    n_fac=prod(1:n)\n",
    "    return(n_fac)\n",
    "    }\n",
    "n_Fact(10)"
   ]
  },
  {
   "cell_type": "markdown",
   "metadata": {},
   "source": [
    "### 조합."
   ]
  },
  {
   "cell_type": "code",
   "execution_count": 6,
   "metadata": {},
   "outputs": [
    {
     "data": {
      "text/html": [
       "120"
      ],
      "text/latex": [
       "120"
      ],
      "text/markdown": [
       "120"
      ],
      "text/plain": [
       "[1] 120"
      ]
     },
     "metadata": {},
     "output_type": "display_data"
    }
   ],
   "source": [
    "nCr=function(n,r){\n",
    "    ncr=n_Fact(n)/n_Fact(r)/n_Fact(n-r)\n",
    "    return(ncr)\n",
    "    }\n",
    "nCr(10,3)"
   ]
  },
  {
   "cell_type": "markdown",
   "metadata": {},
   "source": [
    "### 2차 방정식의 해를 구하는 함수 작성하기."
   ]
  },
  {
   "cell_type": "code",
   "execution_count": 35,
   "metadata": {},
   "outputs": [
    {
     "data": {
      "text/html": [
       "-1"
      ],
      "text/latex": [
       "-1"
      ],
      "text/markdown": [
       "-1"
      ],
      "text/plain": [
       "[1] -1"
      ]
     },
     "metadata": {},
     "output_type": "display_data"
    }
   ],
   "source": [
    "# 1단계.\n",
    "# rt = unique( (-b+c(1,-1)*sqrt(b^2-4*a*c))/(2*a) )\n",
    "\n",
    "# 2단계.\n",
    "# 판별식 여부.\n",
    "# discirm = b^2-4*a*c\n",
    "# if(discirm >= 0)\n",
    "# {\n",
    "#     rt = unique((-b+c(1,-1)*sqrt(b^2-4*a*c))/(2*a))\n",
    "# }else\n",
    "# {\n",
    "#     rt = null\n",
    "# }\n",
    "\n",
    "# 3단계.\n",
    "solveqd = function(a, b, c)\n",
    "{\n",
    " discirm = b^2-4*a*c\n",
    "if(discirm >= 0)\n",
    "{\n",
    "    rt = unique((-b+c(1,-1)*sqrt(b^2-4*a*c))/(2*a))\n",
    "}else\n",
    "{\n",
    "    rt = null\n",
    "}\n",
    "    return(rt)\n",
    "}\n",
    "\n",
    "solveqd(1, 2, 1)"
   ]
  },
  {
   "cell_type": "markdown",
   "metadata": {},
   "source": [
    "### Winsorised mean 구하기.(하위, 상위의 일부 값을 제외한 평균 계산.)"
   ]
  },
  {
   "cell_type": "code",
   "execution_count": 30,
   "metadata": {},
   "outputs": [
    {
     "data": {
      "text/html": [
       "4.5"
      ],
      "text/latex": [
       "4.5"
      ],
      "text/markdown": [
       "4.5"
      ],
      "text/plain": [
       "[1] 4.5"
      ]
     },
     "metadata": {},
     "output_type": "display_data"
    }
   ],
   "source": [
    "WM = function(x, k){\n",
    "    x = sort(x)\n",
    "    n = length(x)\n",
    "    x[1:k] = x[k+1]\n",
    "    x[(n-k+1):n] = x[n-k]\n",
    "    return(mean(x))\n",
    "}\n",
    "\n",
    "x = c(1,2,3,4,5,6,7,8)\n",
    "WM(x, 3)"
   ]
  },
  {
   "cell_type": "markdown",
   "metadata": {},
   "source": [
    "### 실습 1.1 임의의 벡터의 크기를 계산하는 함수를 작성하시오."
   ]
  },
  {
   "cell_type": "code",
   "execution_count": 36,
   "metadata": {},
   "outputs": [
    {
     "data": {
      "text/html": [
       "10"
      ],
      "text/latex": [
       "10"
      ],
      "text/markdown": [
       "10"
      ],
      "text/plain": [
       "[1] 10"
      ]
     },
     "metadata": {},
     "output_type": "display_data"
    }
   ],
   "source": [
    "vec = function(x){\n",
    "    return(sqrt(sum(x^2)))\n",
    "    }\n",
    "vec(10)"
   ]
  },
  {
   "cell_type": "markdown",
   "metadata": {},
   "source": [
    "### 실습 2.2 다음의 식을 함수로 작성하시오."
   ]
  },
  {
   "cell_type": "markdown",
   "metadata": {},
   "source": [
    "![problem](img/image2.png)"
   ]
  },
  {
   "cell_type": "code",
   "execution_count": 37,
   "metadata": {},
   "outputs": [
    {
     "data": {
      "text/html": [
       "2047"
      ],
      "text/latex": [
       "2047"
      ],
      "text/markdown": [
       "2047"
      ],
      "text/plain": [
       "[1] 2047"
      ]
     },
     "metadata": {},
     "output_type": "display_data"
    }
   ],
   "source": [
    "f = function(x, n){\n",
    "    return(sum(x^(0:n)))\n",
    "}\n",
    "f(2,10)"
   ]
  }
 ],
 "metadata": {
  "kernelspec": {
   "display_name": "R",
   "language": "R",
   "name": "ir"
  },
  "language_info": {
   "codemirror_mode": "r",
   "file_extension": ".r",
   "mimetype": "text/x-r-source",
   "name": "R",
   "pygments_lexer": "r",
   "version": "3.6.1"
  }
 },
 "nbformat": 4,
 "nbformat_minor": 4
}
