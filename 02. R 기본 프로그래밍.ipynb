{
 "cells": [
  {
   "cell_type": "markdown",
   "metadata": {},
   "source": [
    "### 조건문 \n",
    "- if(논리연산자가 ture인 경우){     }\n",
    "- if(논리문 계산){     }\n",
    "- else{     } : else문을 쓸 경우 if를 닫고 사용할 것."
   ]
  },
  {
   "cell_type": "code",
   "execution_count": 1,
   "metadata": {},
   "outputs": [
    {
     "data": {
      "text/html": [
       "-1"
      ],
      "text/latex": [
       "-1"
      ],
      "text/markdown": [
       "-1"
      ],
      "text/plain": [
       "[1] -1"
      ]
     },
     "metadata": {},
     "output_type": "display_data"
    }
   ],
   "source": [
    "x = -1\n",
    "if(x > 0){\n",
    "    x = -x\n",
    "}\n",
    "x"
   ]
  },
  {
   "cell_type": "markdown",
   "metadata": {},
   "source": [
    "### 반복문 \n",
    "- for(i in vector){    }"
   ]
  },
  {
   "cell_type": "code",
   "execution_count": 8,
   "metadata": {},
   "outputs": [
    {
     "name": "stdout",
     "output_type": "stream",
     "text": [
      "[1] 1\n",
      "[1] 2\n",
      "[1] 3\n",
      "[1] 4\n",
      "[1] 5\n",
      "[1] 6\n",
      "[1] 7\n",
      "[1] 8\n",
      "[1] 9\n",
      "[1] 10\n"
     ]
    }
   ],
   "source": [
    "for(i in 1:10){\n",
    "print(i)\n",
    "}"
   ]
  },
  {
   "cell_type": "code",
   "execution_count": 4,
   "metadata": {},
   "outputs": [
    {
     "name": "stdout",
     "output_type": "stream",
     "text": [
      "[1] 1\n",
      "[1] 3\n",
      "[1] 5\n"
     ]
    }
   ],
   "source": [
    "# 수치\n",
    "for(i in c(1,3,5)){\n",
    "print(i)\n",
    "}"
   ]
  },
  {
   "cell_type": "code",
   "execution_count": 5,
   "metadata": {},
   "outputs": [
    {
     "name": "stdout",
     "output_type": "stream",
     "text": [
      "[1] \"a\"\n",
      "[1] \"b\"\n",
      "[1] \"c\"\n"
     ]
    }
   ],
   "source": [
    "# 문자(가능)\n",
    "for(i in c(\"a\", \"b\", \"c\")){\n",
    "    print(i)\n",
    "}"
   ]
  },
  {
   "cell_type": "code",
   "execution_count": 7,
   "metadata": {},
   "outputs": [
    {
     "name": "stdout",
     "output_type": "stream",
     "text": [
      "[1] 1\n",
      "[1] 9\n",
      "[1] 25\n"
     ]
    }
   ],
   "source": [
    "x = NA # (기본 size=1) \n",
    "for(i in c(1,3,5)){\n",
    "    x[i] = i^2\n",
    "    print(x[i])\n",
    "}"
   ]
  },
  {
   "cell_type": "code",
   "execution_count": 10,
   "metadata": {},
   "outputs": [
    {
     "name": "stdout",
     "output_type": "stream",
     "text": [
      "The current loop element is 1 \n",
      "The cumulative total is 1 \n",
      "The current loop element is 3 \n",
      "The cumulative total is 4 \n",
      "The current loop element is 5 \n",
      "The cumulative total is 9 \n",
      "The current loop element is 7 \n",
      "The cumulative total is 16 \n",
      "The current loop element is 9 \n",
      "The cumulative total is 25 \n"
     ]
    }
   ],
   "source": [
    "# Ex1.\n",
    "x = seq(1, 9, by=2)\n",
    "sum_x = 0\n",
    "for(i in x){\n",
    "    sum_x = sum_x+i\n",
    "    cat(\"The current loop element is\", i, \"\\n\") # \"\\n\" : 줄바꿈 \n",
    "    cat(\"The cumulative total is\", sum_x, \"\\n\")\n",
    "}"
   ]
  },
  {
   "cell_type": "code",
   "execution_count": 12,
   "metadata": {},
   "outputs": [
    {
     "data": {
      "text/html": [
       "720"
      ],
      "text/latex": [
       "720"
      ],
      "text/markdown": [
       "720"
      ],
      "text/plain": [
       "[1] 720"
      ]
     },
     "metadata": {},
     "output_type": "display_data"
    },
    {
     "data": {
      "text/html": [
       "<ol class=list-inline>\n",
       "\t<li>1</li>\n",
       "\t<li>2</li>\n",
       "\t<li>6</li>\n",
       "\t<li>24</li>\n",
       "\t<li>120</li>\n",
       "\t<li>720</li>\n",
       "</ol>\n"
      ],
      "text/latex": [
       "\\begin{enumerate*}\n",
       "\\item 1\n",
       "\\item 2\n",
       "\\item 6\n",
       "\\item 24\n",
       "\\item 120\n",
       "\\item 720\n",
       "\\end{enumerate*}\n"
      ],
      "text/markdown": [
       "1. 1\n",
       "2. 2\n",
       "3. 6\n",
       "4. 24\n",
       "5. 120\n",
       "6. 720\n",
       "\n",
       "\n"
      ],
      "text/plain": [
       "[1]   1   2   6  24 120 720"
      ]
     },
     "metadata": {},
     "output_type": "display_data"
    }
   ],
   "source": [
    "# Ex2. factorial 계산\n",
    "n = 6\n",
    "n_fac = 1\n",
    "for(i in 1:n){\n",
    "    n_fac = n_fac*i\n",
    "}\n",
    "n_fac\n",
    "\n",
    "# 계산되는 과정까지 보려면 이와 같은 방식으로 구성.\n",
    "n = 6\n",
    "n_fac = 1\n",
    "for(i in 2:n){\n",
    "    n_fac[i] = n_fac[i-1]*i\n",
    "}\n",
    "n_fac"
   ]
  },
  {
   "cell_type": "markdown",
   "metadata": {},
   "source": [
    "### 조건부 반복문 "
   ]
  },
  {
   "cell_type": "code",
   "execution_count": 14,
   "metadata": {},
   "outputs": [
    {
     "data": {
      "text/html": [
       "36"
      ],
      "text/latex": [
       "36"
      ],
      "text/markdown": [
       "36"
      ],
      "text/plain": [
       "[1] 36"
      ]
     },
     "metadata": {},
     "output_type": "display_data"
    }
   ],
   "source": [
    "# 조건부 반복문 수행시 주의 사항.\n",
    "# i 번째를 출력해야하는가? i-1 번째를 출력해야하는가?에 대한 생각해볼 여지가 있음.\n",
    "x = 1:10\n",
    "sum_x = 0\n",
    "i = 0\n",
    "while(sum_x < 30){\n",
    "    i = i+1\n",
    "    sum_x = sum_x + x[i]\n",
    "    }\n",
    "sum_x"
   ]
  },
  {
   "cell_type": "code",
   "execution_count": 15,
   "metadata": {},
   "outputs": [
    {
     "data": {
      "text/html": [
       "<ol class=list-inline>\n",
       "\t<li>1</li>\n",
       "\t<li>1</li>\n",
       "\t<li>2</li>\n",
       "\t<li>3</li>\n",
       "\t<li>5</li>\n",
       "\t<li>8</li>\n",
       "\t<li>13</li>\n",
       "\t<li>21</li>\n",
       "\t<li>34</li>\n",
       "\t<li>55</li>\n",
       "\t<li>89</li>\n",
       "\t<li>144</li>\n",
       "</ol>\n"
      ],
      "text/latex": [
       "\\begin{enumerate*}\n",
       "\\item 1\n",
       "\\item 1\n",
       "\\item 2\n",
       "\\item 3\n",
       "\\item 5\n",
       "\\item 8\n",
       "\\item 13\n",
       "\\item 21\n",
       "\\item 34\n",
       "\\item 55\n",
       "\\item 89\n",
       "\\item 144\n",
       "\\end{enumerate*}\n"
      ],
      "text/markdown": [
       "1. 1\n",
       "2. 1\n",
       "3. 2\n",
       "4. 3\n",
       "5. 5\n",
       "6. 8\n",
       "7. 13\n",
       "8. 21\n",
       "9. 34\n",
       "10. 55\n",
       "11. 89\n",
       "12. 144\n",
       "\n",
       "\n"
      ],
      "text/plain": [
       " [1]   1   1   2   3   5   8  13  21  34  55  89 144"
      ]
     },
     "metadata": {},
     "output_type": "display_data"
    }
   ],
   "source": [
    "# Ex3. 피보나치 수열\n",
    "F = c(1,1)\n",
    "n = 2\n",
    "while(F[n] <= 100){\n",
    "    n = n+1\n",
    "    F[n] = F[n-1]+F[n-2]\n",
    "    }\n",
    "F"
   ]
  },
  {
   "cell_type": "code",
   "execution_count": 16,
   "metadata": {},
   "outputs": [
    {
     "data": {
      "text/html": [
       "338350"
      ],
      "text/latex": [
       "338350"
      ],
      "text/markdown": [
       "338350"
      ],
      "text/plain": [
       "[1] 338350"
      ]
     },
     "metadata": {},
     "output_type": "display_data"
    },
    {
     "data": {
      "text/html": [
       "<ol class=list-inline>\n",
       "\t<li>1</li>\n",
       "\t<li>5</li>\n",
       "\t<li>14</li>\n",
       "\t<li>30</li>\n",
       "\t<li>55</li>\n",
       "\t<li>91</li>\n",
       "\t<li>140</li>\n",
       "\t<li>204</li>\n",
       "\t<li>285</li>\n",
       "\t<li>385</li>\n",
       "\t<li>506</li>\n",
       "\t<li>650</li>\n",
       "\t<li>819</li>\n",
       "\t<li>1015</li>\n",
       "\t<li>1240</li>\n",
       "\t<li>1496</li>\n",
       "\t<li>1785</li>\n",
       "\t<li>2109</li>\n",
       "\t<li>2470</li>\n",
       "\t<li>2870</li>\n",
       "\t<li>3311</li>\n",
       "\t<li>3795</li>\n",
       "\t<li>4324</li>\n",
       "\t<li>4900</li>\n",
       "\t<li>5525</li>\n",
       "\t<li>6201</li>\n",
       "\t<li>6930</li>\n",
       "\t<li>7714</li>\n",
       "\t<li>8555</li>\n",
       "\t<li>9455</li>\n",
       "\t<li>10416</li>\n",
       "\t<li>11440</li>\n",
       "\t<li>12529</li>\n",
       "\t<li>13685</li>\n",
       "\t<li>14910</li>\n",
       "\t<li>16206</li>\n",
       "\t<li>17575</li>\n",
       "\t<li>19019</li>\n",
       "\t<li>20540</li>\n",
       "\t<li>22140</li>\n",
       "\t<li>23821</li>\n",
       "\t<li>25585</li>\n",
       "\t<li>27434</li>\n",
       "\t<li>29370</li>\n",
       "\t<li>31395</li>\n",
       "\t<li>33511</li>\n",
       "\t<li>35720</li>\n",
       "\t<li>38024</li>\n",
       "\t<li>40425</li>\n",
       "\t<li>42925</li>\n",
       "\t<li>45526</li>\n",
       "\t<li>48230</li>\n",
       "\t<li>51039</li>\n",
       "\t<li>53955</li>\n",
       "\t<li>56980</li>\n",
       "\t<li>60116</li>\n",
       "\t<li>63365</li>\n",
       "\t<li>66729</li>\n",
       "\t<li>70210</li>\n",
       "\t<li>73810</li>\n",
       "\t<li>77531</li>\n",
       "\t<li>81375</li>\n",
       "\t<li>85344</li>\n",
       "\t<li>89440</li>\n",
       "\t<li>93665</li>\n",
       "\t<li>98021</li>\n",
       "\t<li>102510</li>\n",
       "\t<li>107134</li>\n",
       "\t<li>111895</li>\n",
       "\t<li>116795</li>\n",
       "\t<li>121836</li>\n",
       "\t<li>127020</li>\n",
       "\t<li>132349</li>\n",
       "\t<li>137825</li>\n",
       "\t<li>143450</li>\n",
       "\t<li>149226</li>\n",
       "\t<li>155155</li>\n",
       "\t<li>161239</li>\n",
       "\t<li>167480</li>\n",
       "\t<li>173880</li>\n",
       "\t<li>180441</li>\n",
       "\t<li>187165</li>\n",
       "\t<li>194054</li>\n",
       "\t<li>201110</li>\n",
       "\t<li>208335</li>\n",
       "\t<li>215731</li>\n",
       "\t<li>223300</li>\n",
       "\t<li>231044</li>\n",
       "\t<li>238965</li>\n",
       "\t<li>247065</li>\n",
       "\t<li>255346</li>\n",
       "\t<li>263810</li>\n",
       "\t<li>272459</li>\n",
       "\t<li>281295</li>\n",
       "\t<li>290320</li>\n",
       "\t<li>299536</li>\n",
       "\t<li>308945</li>\n",
       "\t<li>318549</li>\n",
       "\t<li>328350</li>\n",
       "\t<li>338350</li>\n",
       "</ol>\n"
      ],
      "text/latex": [
       "\\begin{enumerate*}\n",
       "\\item 1\n",
       "\\item 5\n",
       "\\item 14\n",
       "\\item 30\n",
       "\\item 55\n",
       "\\item 91\n",
       "\\item 140\n",
       "\\item 204\n",
       "\\item 285\n",
       "\\item 385\n",
       "\\item 506\n",
       "\\item 650\n",
       "\\item 819\n",
       "\\item 1015\n",
       "\\item 1240\n",
       "\\item 1496\n",
       "\\item 1785\n",
       "\\item 2109\n",
       "\\item 2470\n",
       "\\item 2870\n",
       "\\item 3311\n",
       "\\item 3795\n",
       "\\item 4324\n",
       "\\item 4900\n",
       "\\item 5525\n",
       "\\item 6201\n",
       "\\item 6930\n",
       "\\item 7714\n",
       "\\item 8555\n",
       "\\item 9455\n",
       "\\item 10416\n",
       "\\item 11440\n",
       "\\item 12529\n",
       "\\item 13685\n",
       "\\item 14910\n",
       "\\item 16206\n",
       "\\item 17575\n",
       "\\item 19019\n",
       "\\item 20540\n",
       "\\item 22140\n",
       "\\item 23821\n",
       "\\item 25585\n",
       "\\item 27434\n",
       "\\item 29370\n",
       "\\item 31395\n",
       "\\item 33511\n",
       "\\item 35720\n",
       "\\item 38024\n",
       "\\item 40425\n",
       "\\item 42925\n",
       "\\item 45526\n",
       "\\item 48230\n",
       "\\item 51039\n",
       "\\item 53955\n",
       "\\item 56980\n",
       "\\item 60116\n",
       "\\item 63365\n",
       "\\item 66729\n",
       "\\item 70210\n",
       "\\item 73810\n",
       "\\item 77531\n",
       "\\item 81375\n",
       "\\item 85344\n",
       "\\item 89440\n",
       "\\item 93665\n",
       "\\item 98021\n",
       "\\item 102510\n",
       "\\item 107134\n",
       "\\item 111895\n",
       "\\item 116795\n",
       "\\item 121836\n",
       "\\item 127020\n",
       "\\item 132349\n",
       "\\item 137825\n",
       "\\item 143450\n",
       "\\item 149226\n",
       "\\item 155155\n",
       "\\item 161239\n",
       "\\item 167480\n",
       "\\item 173880\n",
       "\\item 180441\n",
       "\\item 187165\n",
       "\\item 194054\n",
       "\\item 201110\n",
       "\\item 208335\n",
       "\\item 215731\n",
       "\\item 223300\n",
       "\\item 231044\n",
       "\\item 238965\n",
       "\\item 247065\n",
       "\\item 255346\n",
       "\\item 263810\n",
       "\\item 272459\n",
       "\\item 281295\n",
       "\\item 290320\n",
       "\\item 299536\n",
       "\\item 308945\n",
       "\\item 318549\n",
       "\\item 328350\n",
       "\\item 338350\n",
       "\\end{enumerate*}\n"
      ],
      "text/markdown": [
       "1. 1\n",
       "2. 5\n",
       "3. 14\n",
       "4. 30\n",
       "5. 55\n",
       "6. 91\n",
       "7. 140\n",
       "8. 204\n",
       "9. 285\n",
       "10. 385\n",
       "11. 506\n",
       "12. 650\n",
       "13. 819\n",
       "14. 1015\n",
       "15. 1240\n",
       "16. 1496\n",
       "17. 1785\n",
       "18. 2109\n",
       "19. 2470\n",
       "20. 2870\n",
       "21. 3311\n",
       "22. 3795\n",
       "23. 4324\n",
       "24. 4900\n",
       "25. 5525\n",
       "26. 6201\n",
       "27. 6930\n",
       "28. 7714\n",
       "29. 8555\n",
       "30. 9455\n",
       "31. 10416\n",
       "32. 11440\n",
       "33. 12529\n",
       "34. 13685\n",
       "35. 14910\n",
       "36. 16206\n",
       "37. 17575\n",
       "38. 19019\n",
       "39. 20540\n",
       "40. 22140\n",
       "41. 23821\n",
       "42. 25585\n",
       "43. 27434\n",
       "44. 29370\n",
       "45. 31395\n",
       "46. 33511\n",
       "47. 35720\n",
       "48. 38024\n",
       "49. 40425\n",
       "50. 42925\n",
       "51. 45526\n",
       "52. 48230\n",
       "53. 51039\n",
       "54. 53955\n",
       "55. 56980\n",
       "56. 60116\n",
       "57. 63365\n",
       "58. 66729\n",
       "59. 70210\n",
       "60. 73810\n",
       "61. 77531\n",
       "62. 81375\n",
       "63. 85344\n",
       "64. 89440\n",
       "65. 93665\n",
       "66. 98021\n",
       "67. 102510\n",
       "68. 107134\n",
       "69. 111895\n",
       "70. 116795\n",
       "71. 121836\n",
       "72. 127020\n",
       "73. 132349\n",
       "74. 137825\n",
       "75. 143450\n",
       "76. 149226\n",
       "77. 155155\n",
       "78. 161239\n",
       "79. 167480\n",
       "80. 173880\n",
       "81. 180441\n",
       "82. 187165\n",
       "83. 194054\n",
       "84. 201110\n",
       "85. 208335\n",
       "86. 215731\n",
       "87. 223300\n",
       "88. 231044\n",
       "89. 238965\n",
       "90. 247065\n",
       "91. 255346\n",
       "92. 263810\n",
       "93. 272459\n",
       "94. 281295\n",
       "95. 290320\n",
       "96. 299536\n",
       "97. 308945\n",
       "98. 318549\n",
       "99. 328350\n",
       "100. 338350\n",
       "\n",
       "\n"
      ],
      "text/plain": [
       "  [1]      1      5     14     30     55     91    140    204    285    385\n",
       " [11]    506    650    819   1015   1240   1496   1785   2109   2470   2870\n",
       " [21]   3311   3795   4324   4900   5525   6201   6930   7714   8555   9455\n",
       " [31]  10416  11440  12529  13685  14910  16206  17575  19019  20540  22140\n",
       " [41]  23821  25585  27434  29370  31395  33511  35720  38024  40425  42925\n",
       " [51]  45526  48230  51039  53955  56980  60116  63365  66729  70210  73810\n",
       " [61]  77531  81375  85344  89440  93665  98021 102510 107134 111895 116795\n",
       " [71] 121836 127020 132349 137825 143450 149226 155155 161239 167480 173880\n",
       " [81] 180441 187165 194054 201110 208335 215731 223300 231044 238965 247065\n",
       " [91] 255346 263810 272459 281295 290320 299536 308945 318549 328350 338350"
      ]
     },
     "metadata": {},
     "output_type": "display_data"
    }
   ],
   "source": [
    "# Ex4. sum(i^2)\n",
    "n = 100\n",
    "s = 0\n",
    "for(i in 1:n){\n",
    "    s = s+i^2\n",
    "    }\n",
    "s\n",
    "\n",
    "n = 100\n",
    "s = 1\n",
    "for(i in 2:n){\n",
    "    s[i] <- s[i-1]+i^2\n",
    "    }\n",
    "s"
   ]
  },
  {
   "cell_type": "code",
   "execution_count": 17,
   "metadata": {},
   "outputs": [
    {
     "data": {
      "text/html": [
       "338350"
      ],
      "text/latex": [
       "338350"
      ],
      "text/markdown": [
       "338350"
      ],
      "text/plain": [
       "[1] 338350"
      ]
     },
     "metadata": {},
     "output_type": "display_data"
    }
   ],
   "source": [
    "# 행렬 연산을 통한 계산.\n",
    "n = 100\n",
    "sum((1:n)^2)"
   ]
  },
  {
   "cell_type": "code",
   "execution_count": 26,
   "metadata": {},
   "outputs": [
    {
     "data": {
      "text/html": [
       "<ol class=list-inline>\n",
       "\t<li>FALSE</li>\n",
       "\t<li>FALSE</li>\n",
       "\t<li>TRUE</li>\n",
       "\t<li>TRUE</li>\n",
       "</ol>\n"
      ],
      "text/latex": [
       "\\begin{enumerate*}\n",
       "\\item FALSE\n",
       "\\item FALSE\n",
       "\\item TRUE\n",
       "\\item TRUE\n",
       "\\end{enumerate*}\n"
      ],
      "text/markdown": [
       "1. FALSE\n",
       "2. FALSE\n",
       "3. TRUE\n",
       "4. TRUE\n",
       "\n",
       "\n"
      ],
      "text/plain": [
       "[1] FALSE FALSE  TRUE  TRUE"
      ]
     },
     "metadata": {},
     "output_type": "display_data"
    },
    {
     "name": "stdout",
     "output_type": "stream",
     "text": [
      "[1] \"Negative\"\n",
      "[1] \"Negative\"\n",
      "[1] \"Positive\"\n",
      "[1] \"Positive\"\n"
     ]
    }
   ],
   "source": [
    "# Ex5.\n",
    "x = c(-2,-1,1,2)\n",
    "x > 0\n",
    "for (i in 1:length(x)){\n",
    "    if (x[i] > 0) \n",
    "        print(\"Positive\")\n",
    "    else \n",
    "        print(\"Negative\")\n",
    "}"
   ]
  },
  {
   "cell_type": "code",
   "execution_count": 31,
   "metadata": {},
   "outputs": [
    {
     "data": {
      "text/html": [
       "<ol class=list-inline>\n",
       "\t<li>'Postive'</li>\n",
       "\t<li>'Negative'</li>\n",
       "\t<li>'Postive'</li>\n",
       "\t<li>'Negative'</li>\n",
       "</ol>\n"
      ],
      "text/latex": [
       "\\begin{enumerate*}\n",
       "\\item 'Postive'\n",
       "\\item 'Negative'\n",
       "\\item 'Postive'\n",
       "\\item 'Negative'\n",
       "\\end{enumerate*}\n"
      ],
      "text/markdown": [
       "1. 'Postive'\n",
       "2. 'Negative'\n",
       "3. 'Postive'\n",
       "4. 'Negative'\n",
       "\n",
       "\n"
      ],
      "text/plain": [
       "[1] \"Postive\"  \"Negative\" \"Postive\"  \"Negative\""
      ]
     },
     "metadata": {},
     "output_type": "display_data"
    }
   ],
   "source": [
    "## ifelse 함수. \n",
    "x = c(4,-1,1,-2)\n",
    "ifelse(x > 0, \"Postive\", \"Negative\")"
   ]
  },
  {
   "cell_type": "markdown",
   "metadata": {},
   "source": [
    "### 실습 1.1 if 문을 활용하여 다음 함수를 코드로 작성하고 확인 하시오."
   ]
  },
  {
   "cell_type": "markdown",
   "metadata": {},
   "source": [
    "![problem](img/image.png)"
   ]
  },
  {
   "cell_type": "code",
   "execution_count": 40,
   "metadata": {},
   "outputs": [
    {
     "name": "stderr",
     "output_type": "stream",
     "text": [
      "Warning message in if (x <= 0) {:\n",
      "\"length > 1 이라는 조건이 있고, 첫번째 요소만이 사용될 것입니다\"Warning message in if (x > 0 & x <= 1) {:\n",
      "\"length > 1 이라는 조건이 있고, 첫번째 요소만이 사용될 것입니다\"Warning message in if (x > 1) {:\n",
      "\"length > 1 이라는 조건이 있고, 첫번째 요소만이 사용될 것입니다\"Warning message in sqrt(x):\n",
      "\"NaN이 생성되었습니다\""
     ]
    }
   ],
   "source": [
    "if(x<=0){\n",
    "    y = -x^3\n",
    "}\n",
    "if(x>0 & x<=1){\n",
    "    y = x^2\n",
    "}\n",
    "if(x>1){\n",
    "    y = sqrt(x)\n",
    "}"
   ]
  },
  {
   "cell_type": "markdown",
   "metadata": {},
   "source": [
    "### 실습 1.2 for 문을 활용하여 적당한 구간에서의 함수값(y)을 계산하고, 그림으로 표현하시오."
   ]
  },
  {
   "cell_type": "code",
   "execution_count": 52,
   "metadata": {},
   "outputs": [
    {
     "data": {
      "image/png": "[encoded data removed]",
      "text/plain": [
       "plot without title"
      ]
     },
     "metadata": {},
     "output_type": "display_data"
    }
   ],
   "source": [
    "x = seq(-2, 2, by=1e-2)\n",
    "y = c()\n",
    "for (i in 1:length(x)){\n",
    "    if(x[i]<=0){\n",
    "        y[i] = -x[i]^3\n",
    "    }\n",
    "    else if(x[i]<=1){\n",
    "        y[i] = x[i]^2\n",
    "        }\n",
    "    else {\n",
    "        y[i] = sqrt(x[i])\n",
    "    }\n",
    "        }\n",
    "par(pin = c(3,3))\n",
    "plot(y, xlab = 'x')"
   ]
  },
  {
   "cell_type": "markdown",
   "metadata": {},
   "source": [
    "### 실습 2.1 적당한 x, n에 대하여 for 문으로 다음을 계산하시오."
   ]
  },
  {
   "cell_type": "markdown",
   "metadata": {},
   "source": [
    "![problem](img/image2.png)"
   ]
  },
  {
   "cell_type": "code",
   "execution_count": 54,
   "metadata": {},
   "outputs": [
    {
     "data": {
      "text/html": [
       "2047"
      ],
      "text/latex": [
       "2047"
      ],
      "text/markdown": [
       "2047"
      ],
      "text/plain": [
       "[1] 2047"
      ]
     },
     "metadata": {},
     "output_type": "display_data"
    }
   ],
   "source": [
    "n = 10\n",
    "s = 0\n",
    "for(i in 0:n){\n",
    "    s = s + 2^(i)\n",
    "    }\n",
    "s"
   ]
  },
  {
   "cell_type": "markdown",
   "metadata": {},
   "source": [
    "### 실습 2.2 실습 1의 내용을 행렬연산으로 단순화 하시오."
   ]
  },
  {
   "cell_type": "code",
   "execution_count": 55,
   "metadata": {},
   "outputs": [
    {
     "data": {
      "text/html": [
       "2047"
      ],
      "text/latex": [
       "2047"
      ],
      "text/markdown": [
       "2047"
      ],
      "text/plain": [
       "[1] 2047"
      ]
     },
     "metadata": {},
     "output_type": "display_data"
    },
    {
     "data": {
      "text/html": [
       "<table>\n",
       "<thead><tr><th scope=col>a</th><th scope=col>b</th></tr></thead>\n",
       "<tbody>\n",
       "\t<tr><td>220    </td><td>1398101</td></tr>\n",
       "</tbody>\n",
       "</table>\n"
      ],
      "text/latex": [
       "\\begin{tabular}{r|ll}\n",
       " a & b\\\\\n",
       "\\hline\n",
       "\t 220     & 1398101\\\\\n",
       "\\end{tabular}\n"
      ],
      "text/markdown": [
       "\n",
       "| a | b |\n",
       "|---|---|\n",
       "| 220     | 1398101 |\n",
       "\n"
      ],
      "text/plain": [
       "  a   b      \n",
       "1 220 1398101"
      ]
     },
     "metadata": {},
     "output_type": "display_data"
    }
   ],
   "source": [
    "x = 2\n",
    "n = 10\n",
    "sum(x^(0:n))\n",
    "\n",
    "a = sum(x^2*(0:n))   # false : 잘못된 연산.\n",
    "b = sum(x^(2*(0:n))) # true = > 가로 주의 할 것.\n",
    "data.frame(a, b)"
   ]
  }
 ],
 "metadata": {
  "kernelspec": {
   "display_name": "R",
   "language": "R",
   "name": "ir"
  },
  "language_info": {
   "codemirror_mode": "r",
   "file_extension": ".r",
   "mimetype": "text/x-r-source",
   "name": "R",
   "pygments_lexer": "r",
   "version": "3.6.1"
  }
 },
 "nbformat": 4,
 "nbformat_minor": 4
}
