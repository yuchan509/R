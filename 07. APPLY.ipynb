{
 "cells": [
  {
   "cell_type": "markdown",
   "metadata": {},
   "source": [
    "#### apply : R에서 반복된 작업을 간단하게 처리하는 함수."
   ]
  },
  {
   "cell_type": "code",
   "execution_count": 6,
   "metadata": {},
   "outputs": [
    {
     "data": {
      "text/html": [
       "<table>\n",
       "<tbody>\n",
       "\t<tr><td>1 </td><td>3 </td><td>5 </td><td>7 </td><td> 9</td></tr>\n",
       "\t<tr><td>2 </td><td>4 </td><td>6 </td><td>8 </td><td>10</td></tr>\n",
       "</tbody>\n",
       "</table>\n"
      ],
      "text/latex": [
       "\\begin{tabular}{lllll}\n",
       "\t 1  & 3  & 5  & 7  &  9\\\\\n",
       "\t 2  & 4  & 6  & 8  & 10\\\\\n",
       "\\end{tabular}\n"
      ],
      "text/markdown": [
       "\n",
       "| 1  | 3  | 5  | 7  |  9 |\n",
       "| 2  | 4  | 6  | 8  | 10 |\n",
       "\n"
      ],
      "text/plain": [
       "     [,1] [,2] [,3] [,4] [,5]\n",
       "[1,] 1    3    5    7     9  \n",
       "[2,] 2    4    6    8    10  "
      ]
     },
     "metadata": {},
     "output_type": "display_data"
    },
    {
     "data": {
      "text/html": [
       "<ol class=list-inline>\n",
       "\t<li>5</li>\n",
       "\t<li>6</li>\n",
       "</ol>\n"
      ],
      "text/latex": [
       "\\begin{enumerate*}\n",
       "\\item 5\n",
       "\\item 6\n",
       "\\end{enumerate*}\n"
      ],
      "text/markdown": [
       "1. 5\n",
       "2. 6\n",
       "\n",
       "\n"
      ],
      "text/plain": [
       "[1] 5 6"
      ]
     },
     "metadata": {},
     "output_type": "display_data"
    },
    {
     "data": {
      "text/html": [
       "<ol class=list-inline>\n",
       "\t<li>1.5</li>\n",
       "\t<li>3.5</li>\n",
       "\t<li>5.5</li>\n",
       "\t<li>7.5</li>\n",
       "\t<li>9.5</li>\n",
       "</ol>\n"
      ],
      "text/latex": [
       "\\begin{enumerate*}\n",
       "\\item 1.5\n",
       "\\item 3.5\n",
       "\\item 5.5\n",
       "\\item 7.5\n",
       "\\item 9.5\n",
       "\\end{enumerate*}\n"
      ],
      "text/markdown": [
       "1. 1.5\n",
       "2. 3.5\n",
       "3. 5.5\n",
       "4. 7.5\n",
       "5. 9.5\n",
       "\n",
       "\n"
      ],
      "text/plain": [
       "[1] 1.5 3.5 5.5 7.5 9.5"
      ]
     },
     "metadata": {},
     "output_type": "display_data"
    }
   ],
   "source": [
    "M = matrix(1:10, nrow=2)\n",
    "M\n",
    "\n",
    "# 행 평균을 구해줌.\n",
    "apply(M, 1, mean)\n",
    "\n",
    "# 열 평균을 구해줌.\n",
    "apply(M, 2, mean)"
   ]
  },
  {
   "cell_type": "markdown",
   "metadata": {},
   "source": [
    "#### taply : 자료의 부분집합에 대하여 함수를 수행하는 함수."
   ]
  },
  {
   "cell_type": "code",
   "execution_count": 10,
   "metadata": {},
   "outputs": [
    {
     "data": {
      "text/html": [
       "<table>\n",
       "<thead><tr><th scope=col>GROUP</th><th scope=col>SEASON</th><th scope=col>MOISTURE</th><th scope=col>LIPID</th><th scope=col>PROTEIN</th></tr></thead>\n",
       "<tbody>\n",
       "\t<tr><td>M-1      </td><td>3        </td><td>68.79    </td><td>10.542095</td><td>20.94    </td></tr>\n",
       "\t<tr><td>M-1      </td><td>3        </td><td>68.64    </td><td>10.891383</td><td>21.26    </td></tr>\n",
       "\t<tr><td>M-1      </td><td>3        </td><td>68.75    </td><td> 9.960100</td><td>18.77    </td></tr>\n",
       "\t<tr><td>M-1      </td><td>3        </td><td>69.90    </td><td> 7.202396</td><td>22.57    </td></tr>\n",
       "\t<tr><td>M-1      </td><td>3        </td><td>69.93    </td><td> 6.833447</td><td>18.47    </td></tr>\n",
       "\t<tr><td>M-1      </td><td>3        </td><td>69.88    </td><td> 7.748732</td><td>23.10    </td></tr>\n",
       "\t<tr><td>M-1      </td><td>3        </td><td>71.90    </td><td> 5.175482</td><td>21.05    </td></tr>\n",
       "</tbody>\n",
       "</table>\n"
      ],
      "text/latex": [
       "\\begin{tabular}{r|lllll}\n",
       " GROUP & SEASON & MOISTURE & LIPID & PROTEIN\\\\\n",
       "\\hline\n",
       "\t M-1       & 3         & 68.79     & 10.542095 & 20.94    \\\\\n",
       "\t M-1       & 3         & 68.64     & 10.891383 & 21.26    \\\\\n",
       "\t M-1       & 3         & 68.75     &  9.960100 & 18.77    \\\\\n",
       "\t M-1       & 3         & 69.90     &  7.202396 & 22.57    \\\\\n",
       "\t M-1       & 3         & 69.93     &  6.833447 & 18.47    \\\\\n",
       "\t M-1       & 3         & 69.88     &  7.748732 & 23.10    \\\\\n",
       "\t M-1       & 3         & 71.90     &  5.175482 & 21.05    \\\\\n",
       "\\end{tabular}\n"
      ],
      "text/markdown": [
       "\n",
       "| GROUP | SEASON | MOISTURE | LIPID | PROTEIN |\n",
       "|---|---|---|---|---|\n",
       "| M-1       | 3         | 68.79     | 10.542095 | 20.94     |\n",
       "| M-1       | 3         | 68.64     | 10.891383 | 21.26     |\n",
       "| M-1       | 3         | 68.75     |  9.960100 | 18.77     |\n",
       "| M-1       | 3         | 69.90     |  7.202396 | 22.57     |\n",
       "| M-1       | 3         | 69.93     |  6.833447 | 18.47     |\n",
       "| M-1       | 3         | 69.88     |  7.748732 | 23.10     |\n",
       "| M-1       | 3         | 71.90     |  5.175482 | 21.05     |\n",
       "\n"
      ],
      "text/plain": [
       "  GROUP SEASON MOISTURE LIPID     PROTEIN\n",
       "1 M-1   3      68.79    10.542095 20.94  \n",
       "2 M-1   3      68.64    10.891383 21.26  \n",
       "3 M-1   3      68.75     9.960100 18.77  \n",
       "4 M-1   3      69.90     7.202396 22.57  \n",
       "5 M-1   3      69.93     6.833447 18.47  \n",
       "6 M-1   3      69.88     7.748732 23.10  \n",
       "7 M-1   3      71.90     5.175482 21.05  "
      ]
     },
     "metadata": {},
     "output_type": "display_data"
    }
   ],
   "source": [
    "data = read.table(\"DATA_C3/DATA_ORI.txt\", header=T)\n",
    "data[1:7,]"
   ]
  },
  {
   "cell_type": "code",
   "execution_count": 14,
   "metadata": {},
   "outputs": [
    {
     "data": {
      "text/html": [
       "<table>\n",
       "<thead><tr><th></th><th scope=col>3</th><th scope=col>4</th><th scope=col>5</th><th scope=col>6</th><th scope=col>7</th></tr></thead>\n",
       "<tbody>\n",
       "\t<tr><th scope=row>M-1</th><td>71.00200</td><td>68.43519</td><td>65.30133</td><td>60.11836</td><td>57.84907</td></tr>\n",
       "\t<tr><th scope=row>M-2</th><td>72.23000</td><td>69.91247</td><td>67.88267</td><td>64.08902</td><td>65.48889</td></tr>\n",
       "\t<tr><th scope=row>M-3</th><td>73.38667</td><td>70.52430</td><td>71.10000</td><td>64.09186</td><td>67.01004</td></tr>\n",
       "\t<tr><th scope=row>M-4</th><td>74.05733</td><td>76.36617</td><td>75.88300</td><td>65.98042</td><td>65.09983</td></tr>\n",
       "</tbody>\n",
       "</table>\n"
      ],
      "text/latex": [
       "\\begin{tabular}{r|lllll}\n",
       "  & 3 & 4 & 5 & 6 & 7\\\\\n",
       "\\hline\n",
       "\tM-1 & 71.00200 & 68.43519 & 65.30133 & 60.11836 & 57.84907\\\\\n",
       "\tM-2 & 72.23000 & 69.91247 & 67.88267 & 64.08902 & 65.48889\\\\\n",
       "\tM-3 & 73.38667 & 70.52430 & 71.10000 & 64.09186 & 67.01004\\\\\n",
       "\tM-4 & 74.05733 & 76.36617 & 75.88300 & 65.98042 & 65.09983\\\\\n",
       "\\end{tabular}\n"
      ],
      "text/markdown": [
       "\n",
       "| <!--/--> | 3 | 4 | 5 | 6 | 7 |\n",
       "|---|---|---|---|---|---|\n",
       "| M-1 | 71.00200 | 68.43519 | 65.30133 | 60.11836 | 57.84907 |\n",
       "| M-2 | 72.23000 | 69.91247 | 67.88267 | 64.08902 | 65.48889 |\n",
       "| M-3 | 73.38667 | 70.52430 | 71.10000 | 64.09186 | 67.01004 |\n",
       "| M-4 | 74.05733 | 76.36617 | 75.88300 | 65.98042 | 65.09983 |\n",
       "\n"
      ],
      "text/plain": [
       "     SEASON\n",
       "GROUP 3        4        5        6        7       \n",
       "  M-1 71.00200 68.43519 65.30133 60.11836 57.84907\n",
       "  M-2 72.23000 69.91247 67.88267 64.08902 65.48889\n",
       "  M-3 73.38667 70.52430 71.10000 64.09186 67.01004\n",
       "  M-4 74.05733 76.36617 75.88300 65.98042 65.09983"
      ]
     },
     "metadata": {},
     "output_type": "display_data"
    }
   ],
   "source": [
    "# 그룹과 시즌에 따른 MOISTURE의 평균.\n",
    "tapply(data[, c(\"MOISTURE\")], data[, c(\"GROUP\",'SEASON')], mean)"
   ]
  },
  {
   "cell_type": "code",
   "execution_count": 16,
   "metadata": {},
   "outputs": [
    {
     "data": {
      "text/html": [
       "<table>\n",
       "<thead><tr><th></th><th scope=col>3</th><th scope=col>4</th><th scope=col>5</th><th scope=col>6</th><th scope=col>7</th></tr></thead>\n",
       "<tbody>\n",
       "\t<tr><th scope=row>M-1</th><td>2.152142</td><td>2.912742</td><td>3.712430</td><td>4.161458</td><td>2.694434</td></tr>\n",
       "\t<tr><th scope=row>M-2</th><td>3.413939</td><td>3.372408</td><td>2.416155</td><td>3.415157</td><td>3.097129</td></tr>\n",
       "\t<tr><th scope=row>M-3</th><td>3.539859</td><td>4.526688</td><td>2.266509</td><td>3.279968</td><td>2.057197</td></tr>\n",
       "\t<tr><th scope=row>M-4</th><td>3.868317</td><td>2.762639</td><td>1.603791</td><td>2.058970</td><td>2.412815</td></tr>\n",
       "</tbody>\n",
       "</table>\n"
      ],
      "text/latex": [
       "\\begin{tabular}{r|lllll}\n",
       "  & 3 & 4 & 5 & 6 & 7\\\\\n",
       "\\hline\n",
       "\tM-1 & 2.152142 & 2.912742 & 3.712430 & 4.161458 & 2.694434\\\\\n",
       "\tM-2 & 3.413939 & 3.372408 & 2.416155 & 3.415157 & 3.097129\\\\\n",
       "\tM-3 & 3.539859 & 4.526688 & 2.266509 & 3.279968 & 2.057197\\\\\n",
       "\tM-4 & 3.868317 & 2.762639 & 1.603791 & 2.058970 & 2.412815\\\\\n",
       "\\end{tabular}\n"
      ],
      "text/markdown": [
       "\n",
       "| <!--/--> | 3 | 4 | 5 | 6 | 7 |\n",
       "|---|---|---|---|---|---|\n",
       "| M-1 | 2.152142 | 2.912742 | 3.712430 | 4.161458 | 2.694434 |\n",
       "| M-2 | 3.413939 | 3.372408 | 2.416155 | 3.415157 | 3.097129 |\n",
       "| M-3 | 3.539859 | 4.526688 | 2.266509 | 3.279968 | 2.057197 |\n",
       "| M-4 | 3.868317 | 2.762639 | 1.603791 | 2.058970 | 2.412815 |\n",
       "\n"
      ],
      "text/plain": [
       "     SEASON\n",
       "GROUP 3        4        5        6        7       \n",
       "  M-1 2.152142 2.912742 3.712430 4.161458 2.694434\n",
       "  M-2 3.413939 3.372408 2.416155 3.415157 3.097129\n",
       "  M-3 3.539859 4.526688 2.266509 3.279968 2.057197\n",
       "  M-4 3.868317 2.762639 1.603791 2.058970 2.412815"
      ]
     },
     "metadata": {},
     "output_type": "display_data"
    }
   ],
   "source": [
    "# 그룹과 시즌에 따른 MOISTURE의 표준편차.\n",
    "tapply(data[, c(\"MOISTURE\")], data[, c(\"GROUP\",'SEASON')], sd)"
   ]
  },
  {
   "cell_type": "markdown",
   "metadata": {},
   "source": [
    "#### sapply : 여러 행/열에 함수를 동시에 적용하여 벡터(Vector)로 출력하는 함수."
   ]
  },
  {
   "cell_type": "code",
   "execution_count": 19,
   "metadata": {},
   "outputs": [
    {
     "data": {
      "text/html": [
       "<dl class=dl-horizontal>\n",
       "\t<dt>MOISTURE</dt>\n",
       "\t\t<dd>68.2904307911833</dd>\n",
       "\t<dt>LIPID</dt>\n",
       "\t\t<dd>9.68337037449667</dd>\n",
       "\t<dt>PROTEIN</dt>\n",
       "\t\t<dd>20.5497461928934</dd>\n",
       "</dl>\n"
      ],
      "text/latex": [
       "\\begin{description*}\n",
       "\\item[MOISTURE] 68.2904307911833\n",
       "\\item[LIPID] 9.68337037449667\n",
       "\\item[PROTEIN] 20.5497461928934\n",
       "\\end{description*}\n"
      ],
      "text/markdown": [
       "MOISTURE\n",
       ":   68.2904307911833LIPID\n",
       ":   9.68337037449667PROTEIN\n",
       ":   20.5497461928934\n",
       "\n"
      ],
      "text/plain": [
       "MOISTURE    LIPID  PROTEIN \n",
       "68.29043  9.68337 20.54975 "
      ]
     },
     "metadata": {},
     "output_type": "display_data"
    }
   ],
   "source": [
    "sapply(data[,3:5], mean, na.rm=T)"
   ]
  },
  {
   "cell_type": "markdown",
   "metadata": {},
   "source": [
    "#### lapply : 여러 행/열에 함수를 동시에 적용하여 리스트(List)로 출력하는 함수"
   ]
  },
  {
   "cell_type": "code",
   "execution_count": 20,
   "metadata": {},
   "outputs": [
    {
     "data": {
      "text/html": [
       "<dl>\n",
       "\t<dt>$MOISTURE</dt>\n",
       "\t\t<dd>68.2904307911833</dd>\n",
       "\t<dt>$LIPID</dt>\n",
       "\t\t<dd>9.68337037449667</dd>\n",
       "\t<dt>$PROTEIN</dt>\n",
       "\t\t<dd>20.5497461928934</dd>\n",
       "</dl>\n"
      ],
      "text/latex": [
       "\\begin{description}\n",
       "\\item[\\$MOISTURE] 68.2904307911833\n",
       "\\item[\\$LIPID] 9.68337037449667\n",
       "\\item[\\$PROTEIN] 20.5497461928934\n",
       "\\end{description}\n"
      ],
      "text/markdown": [
       "$MOISTURE\n",
       ":   68.2904307911833\n",
       "$LIPID\n",
       ":   9.68337037449667\n",
       "$PROTEIN\n",
       ":   20.5497461928934\n",
       "\n",
       "\n"
      ],
      "text/plain": [
       "$MOISTURE\n",
       "[1] 68.29043\n",
       "\n",
       "$LIPID\n",
       "[1] 9.68337\n",
       "\n",
       "$PROTEIN\n",
       "[1] 20.54975\n"
      ]
     },
     "metadata": {},
     "output_type": "display_data"
    }
   ],
   "source": [
    "lapply(data[,3:5], mean, na.rm=T)"
   ]
  },
  {
   "cell_type": "markdown",
   "metadata": {},
   "source": [
    "#### 실습 1.1 data_ori.txt 파일을 불러와서 다음의 작업을 진행하시오.\n",
    "\n",
    "- function 함수를 이용하여 Average absolute deviation을 계산하는 함수를 작성하시오.\n",
    "- tapply를 써서 GROUP별로 MOISTURE의 AAD값을 계산하시오.\n",
    "- sapply(lapply)를 써서 MOISTURE,LIPID,PROTEIN의 값을 계산하시오."
   ]
  },
  {
   "cell_type": "code",
   "execution_count": 25,
   "metadata": {},
   "outputs": [],
   "source": [
    "# Average absolute deviation 함수.\n",
    "aad = function(x){\n",
    "    x = na.omit(x)\n",
    "    return(mean(abs(x-mean(x))))\n",
    "}"
   ]
  },
  {
   "cell_type": "code",
   "execution_count": 34,
   "metadata": {},
   "outputs": [
    {
     "data": {
      "text/html": [
       "<dl class=dl-horizontal>\n",
       "\t<dt>M-1</dt>\n",
       "\t\t<dd>4.99811141333333</dd>\n",
       "\t<dt>M-2</dt>\n",
       "\t\t<dd>3.532175636</dd>\n",
       "\t<dt>M-3</dt>\n",
       "\t\t<dd>3.738295669328</dd>\n",
       "\t<dt>M-4</dt>\n",
       "\t\t<dd>5.08067886633333</dd>\n",
       "</dl>\n"
      ],
      "text/latex": [
       "\\begin{description*}\n",
       "\\item[M-1] 4.99811141333333\n",
       "\\item[M-2] 3.532175636\n",
       "\\item[M-3] 3.738295669328\n",
       "\\item[M-4] 5.08067886633333\n",
       "\\end{description*}\n"
      ],
      "text/markdown": [
       "M-1\n",
       ":   4.99811141333333M-2\n",
       ":   3.532175636M-3\n",
       ":   3.738295669328M-4\n",
       ":   5.08067886633333\n",
       "\n"
      ],
      "text/plain": [
       "     M-1      M-2      M-3      M-4 \n",
       "4.998111 3.532176 3.738296 5.080679 "
      ]
     },
     "metadata": {},
     "output_type": "display_data"
    }
   ],
   "source": [
    "tapply(data$MOISTURE, data$GROUP, aad)"
   ]
  },
  {
   "cell_type": "code",
   "execution_count": 36,
   "metadata": {},
   "outputs": [
    {
     "data": {
      "text/html": [
       "<dl class=dl-horizontal>\n",
       "\t<dt>MOISTURE</dt>\n",
       "\t\t<dd>4.63369907090267</dd>\n",
       "\t<dt>LIPID</dt>\n",
       "\t\t<dd>4.93158002564993</dd>\n",
       "\t<dt>PROTEIN</dt>\n",
       "\t\t<dd>0.857787283018544</dd>\n",
       "</dl>\n"
      ],
      "text/latex": [
       "\\begin{description*}\n",
       "\\item[MOISTURE] 4.63369907090267\n",
       "\\item[LIPID] 4.93158002564993\n",
       "\\item[PROTEIN] 0.857787283018544\n",
       "\\end{description*}\n"
      ],
      "text/markdown": [
       "MOISTURE\n",
       ":   4.63369907090267LIPID\n",
       ":   4.93158002564993PROTEIN\n",
       ":   0.857787283018544\n",
       "\n"
      ],
      "text/plain": [
       " MOISTURE     LIPID   PROTEIN \n",
       "4.6336991 4.9315800 0.8577873 "
      ]
     },
     "metadata": {},
     "output_type": "display_data"
    }
   ],
   "source": [
    "# na.rm이 직접 만든 함수 aad에는 없는 옵션이기 때문에 돌아가지 않음.\n",
    "# 따라서 함수 지정시 결측을 제거해줄 필요가 있음.\n",
    "# sapply(data[,3:5], aad, na.rm=T) : 위 경우 사용 불가능.\n",
    "sapply(data[,3:5], aad)"
   ]
  }
 ],
 "metadata": {
  "kernelspec": {
   "display_name": "R",
   "language": "R",
   "name": "ir"
  },
  "language_info": {
   "codemirror_mode": "r",
   "file_extension": ".r",
   "mimetype": "text/x-r-source",
   "name": "R",
   "pygments_lexer": "r",
   "version": "3.6.1"
  }
 },
 "nbformat": 4,
 "nbformat_minor": 4
}
