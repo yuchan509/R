{
 "cells": [
  {
   "cell_type": "markdown",
   "metadata": {},
   "source": [
    "#### 불편추정량인 표본평균에 대하여 수렴성 조사."
   ]
  },
  {
   "cell_type": "code",
   "execution_count": 2,
   "metadata": {},
   "outputs": [
    {
     "name": "stdout",
     "output_type": "stream",
     "text": [
      "[1] 1.423431\n",
      "[1] 1.112709\n",
      "[1] -0.1967966\n",
      "[1] 0.04822133\n",
      "[1] -0.003670889\n"
     ]
    }
   ],
   "source": [
    "pop = rnorm(1000000, 10, 5)\n",
    "ni = c(10,100,1000,10000, 100000)\n",
    "\n",
    "for(n in ni){\n",
    "    sample = pop[sample(1: length(pop),n, replace=F)]\n",
    "    print(mean(pop)-mean(sample))\n",
    "}"
   ]
  },
  {
   "cell_type": "markdown",
   "metadata": {},
   "source": [
    "#### 중심극한정리"
   ]
  },
  {
   "cell_type": "code",
   "execution_count": 5,
   "metadata": {},
   "outputs": [
    {
     "data": {
      "text/html": [
       "7.49741304709627"
      ],
      "text/latex": [
       "7.49741304709627"
      ],
      "text/markdown": [
       "7.49741304709627"
      ],
      "text/plain": [
       "[1] 7.497413"
      ]
     },
     "metadata": {},
     "output_type": "display_data"
    },
    {
     "data": {
      "text/html": [
       "1.44270142239182"
      ],
      "text/latex": [
       "1.44270142239182"
      ],
      "text/markdown": [
       "1.44270142239182"
      ],
      "text/plain": [
       "[1] 1.442701"
      ]
     },
     "metadata": {},
     "output_type": "display_data"
    },
    {
     "data": {
      "text/html": [
       "7.47612321030151"
      ],
      "text/latex": [
       "7.47612321030151"
      ],
      "text/markdown": [
       "7.47612321030151"
      ],
      "text/plain": [
       "[1] 7.476123"
      ]
     },
     "metadata": {},
     "output_type": "display_data"
    },
    {
     "data": {
      "text/html": [
       "0.13447224187265"
      ],
      "text/latex": [
       "0.13447224187265"
      ],
      "text/markdown": [
       "0.13447224187265"
      ],
      "text/plain": [
       "[1] 0.1344722"
      ]
     },
     "metadata": {},
     "output_type": "display_data"
    }
   ],
   "source": [
    "pop = runif(1000000,5,10)\n",
    "mean(pop); sd(pop)\n",
    "\n",
    "n = 100\n",
    "m = 100\n",
    "xb = rep(0,m)\n",
    "for(i in 1:m){\n",
    "    Sample = pop[sample(1: length(pop),n, replace=F)]\n",
    "    xb[i] = mean(Sample)\n",
    "}\n",
    "mean(xb); sd(xb)"
   ]
  },
  {
   "cell_type": "markdown",
   "metadata": {},
   "source": [
    "#### 신뢰구간"
   ]
  },
  {
   "cell_type": "code",
   "execution_count": 7,
   "metadata": {},
   "outputs": [
    {
     "data": {
      "text/html": [
       "0.94"
      ],
      "text/latex": [
       "0.94"
      ],
      "text/markdown": [
       "0.94"
      ],
      "text/plain": [
       "[1] 0.94"
      ]
     },
     "metadata": {},
     "output_type": "display_data"
    }
   ],
   "source": [
    "# 정규분포를 이용한 모평균에 대한 구간추정.\n",
    "pop = runif(1000000,5,10)\n",
    "mu = mean(pop)\n",
    "n = 100\n",
    "m = 100\n",
    "alp = 0.05\n",
    "chk = 0\n",
    "for(i in 1:m){\n",
    "    Sample =  pop[sample(1: length(pop),n, replace=F)]\n",
    "    xb =mean(Sample)\n",
    "    s = sd(Sample)\n",
    "    L = xb-qnorm(1-(alp/2),0,1)*s/sqrt(n)\n",
    "    U = xb+qnorm(1-(alp/2),0,1)*s/sqrt(n)\n",
    "    chk = chk+ (L<mu & mu<U)\n",
    "}\n",
    "chk/m"
   ]
  }
 ],
 "metadata": {
  "kernelspec": {
   "display_name": "R",
   "language": "R",
   "name": "ir"
  },
  "language_info": {
   "codemirror_mode": "r",
   "file_extension": ".r",
   "mimetype": "text/x-r-source",
   "name": "R",
   "pygments_lexer": "r",
   "version": "3.6.1"
  }
 },
 "nbformat": 4,
 "nbformat_minor": 4
}
