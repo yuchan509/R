{
 "cells": [
  {
   "cell_type": "markdown",
   "metadata": {},
   "source": [
    "* ddist() : 𝑃(𝑋=𝑥) 의 확률값을 계산하는 함수.\n",
    "* pdist() : 𝑃(𝑋≤𝑥)의 누적확률값을 계산하는 함수.\n",
    "* qdist() : 𝑃(𝑋≤𝑞)≥𝑝 인 q값을 계산하는 함수.\n",
    "* rdist() : 해당 분포로 부터 난수를 생성하는 함수. => 가장 많이 사용."
   ]
  },
  {
   "cell_type": "markdown",
   "metadata": {},
   "source": [
    "| 분포 | 함수 | 생성함수와 모수들     |\n",
    "|------|------|------|\n",
    "|`Bata`      | `rbata`  | `rbata(n, shape1, shape2)`  |\n",
    "|`Binomial`  | `rbinom` | `rbinom(n, size, prob)` |\n",
    "|`Cauchy`    |`rcauchy` | `rcauchy(n, location, scale)`|\n",
    "|`Chi-Square`| `rchisq` | `rchisq(n, df)` |\n",
    "|`Exponential`|`rexp` |   `rexp(n, rate)` |\n",
    "| `F` |     `rf`          |`rf(n, df1, df2)`|\n",
    "| `Gamma` | `rgamma` | `rgamma(n, shape, scale)`|\n",
    "| `Geometric` | `rgeom` | `rgeom(n, prob)` |\n",
    "| `Hypergeometric` | `rhyper`| `rhyper(n,m1, m2, k)`|\n",
    "| `Logistic` | `rlogis` | `rlogis(n, location, scale)` |\n",
    "| `Log Normal` |`rlnorm` |`rlnorm(n, meanlog, sdlog)`|\n",
    "| `Negative Binomial` | `rnbinom` | `rnbinom(n, size, prob, mu)` |\n",
    "| `Normal` |`rnorm` |`rnorm(n, mean, sd)`|\n",
    "| `Poisson` | `rpois`| `rpois(n, lamda)` |\n",
    "| `Student t` | `rt`| `rt(n, df)`|\n",
    "| `Uniform` | `runif` | `runif(n, min, max)`|\n",
    "| `Weibull` | `rweibull`| `rweibull(n, shape, scale)`|"
   ]
  },
  {
   "cell_type": "markdown",
   "metadata": {},
   "source": [
    "### ①. 이산확률변수"
   ]
  },
  {
   "cell_type": "markdown",
   "metadata": {},
   "source": [
    "#### 1). 이항분포(Binomial dist) (복원) : 성공의 확률이 p인 베르누이 시행을 n번 수행하였을 때, 성공의 횟수에 대한 분포."
   ]
  },
  {
   "cell_type": "code",
   "execution_count": 4,
   "metadata": {},
   "outputs": [
    {
     "data": {
      "text/html": [
       "0.266827932"
      ],
      "text/latex": [
       "0.266827932"
      ],
      "text/markdown": [
       "0.266827932"
      ],
      "text/plain": [
       "[1] 0.2668279"
      ]
     },
     "metadata": {},
     "output_type": "display_data"
    }
   ],
   "source": [
    "# 누적 - 확률값=  특정 x에서의 확률값 계산 가능(이산이므로)\n",
    "# dbinom(x, size, p) \n",
    "dbinom(3, size=10, prob=0.3) \n",
    "\n",
    "# pbinom(q, size, p)  \n",
    "# pbinom(3, size=10, prob=0.3) \n",
    "# qbinom(p, size, p)\n",
    "# rbinom(n, size, p)"
   ]
  },
  {
   "cell_type": "markdown",
   "metadata": {},
   "source": [
    "#### 2). 기하분포(Geometric dist) : 성공의 확률이 p인 베르누이 시행에서 최초 성공발생까지의 실패횟수에 대한 분포. "
   ]
  },
  {
   "cell_type": "code",
   "execution_count": 3,
   "metadata": {},
   "outputs": [
    {
     "data": {
      "text/html": [
       "0.1029"
      ],
      "text/latex": [
       "0.1029"
      ],
      "text/markdown": [
       "0.1029"
      ],
      "text/plain": [
       "[1] 0.1029"
      ]
     },
     "metadata": {},
     "output_type": "display_data"
    }
   ],
   "source": [
    "# dgeom(x, prob)\n",
    "dgeom(3, prob=0.3) \n",
    "\n",
    "# pgeom(q, prob)\n",
    "# qgeom(p, prob)\n",
    "# rgeom(n, prob)"
   ]
  },
  {
   "cell_type": "markdown",
   "metadata": {},
   "source": [
    "#### 3). 음이항 분포(Negative Binomial dist) (복원) : 성공의 확률이 p인 베르누이 시행에서 r번째 성공발생까지의 실패횟수에 대한 분포."
   ]
  },
  {
   "cell_type": "code",
   "execution_count": 6,
   "metadata": {},
   "outputs": [
    {
     "data": {
      "text/html": [
       "0.1024"
      ],
      "text/latex": [
       "0.1024"
      ],
      "text/markdown": [
       "0.1024"
      ],
      "text/plain": [
       "[1] 0.1024"
      ]
     },
     "metadata": {},
     "output_type": "display_data"
    }
   ],
   "source": [
    "# dnbinom(x, r, prob)\n",
    "dnbinom(3, 1, prob=0.2)\n",
    "\n",
    "# pnbinom(q, r, prob)\n",
    "# qnbinom(p, r, prob)\n",
    "# rnbinom(size, r, p)"
   ]
  },
  {
   "cell_type": "markdown",
   "metadata": {},
   "source": [
    "#### 4). 포아송분포(poisson dist) : 주어진 단위에서 사건의 발생 횟수에 대한 분포."
   ]
  },
  {
   "cell_type": "code",
   "execution_count": 7,
   "metadata": {},
   "outputs": [
    {
     "data": {
      "text/html": [
       "0.183939720585721"
      ],
      "text/latex": [
       "0.183939720585721"
      ],
      "text/markdown": [
       "0.183939720585721"
      ],
      "text/plain": [
       "[1] 0.1839397"
      ]
     },
     "metadata": {},
     "output_type": "display_data"
    }
   ],
   "source": [
    "# dpois(x, lambda)\n",
    "dpois(2, lambda=1)\n",
    "\n",
    "# ppois(q, lambda)\n",
    "# qpois(p, lambda)\n",
    "# rpois(size, lambda)"
   ]
  },
  {
   "cell_type": "markdown",
   "metadata": {},
   "source": [
    "### ②. 연속확률변수"
   ]
  },
  {
   "cell_type": "markdown",
   "metadata": {},
   "source": [
    "#### 1). 균일분포(Uniform dist) : 구간[a,b]에서 균일한 확률을 가지는 분포."
   ]
  },
  {
   "cell_type": "code",
   "execution_count": 11,
   "metadata": {},
   "outputs": [
    {
     "data": {
      "text/html": [
       "0.333333333333333"
      ],
      "text/latex": [
       "0.333333333333333"
      ],
      "text/markdown": [
       "0.333333333333333"
      ],
      "text/plain": [
       "[1] 0.3333333"
      ]
     },
     "metadata": {},
     "output_type": "display_data"
    }
   ],
   "source": [
    "# dunif(x, min, max)\n",
    "dunif(3, min=1, max=4)\n",
    "\n",
    "# punif(q, min, max)\n",
    "# qunif(p, min, max)\n",
    "# runif(n, min, max)"
   ]
  },
  {
   "cell_type": "markdown",
   "metadata": {},
   "source": [
    "#### 2). 정규분포(Normal dist) : 평균과 표준편차로 이루어진 대수법칙에 의하여 설명되는 확률 분포."
   ]
  },
  {
   "cell_type": "code",
   "execution_count": 12,
   "metadata": {},
   "outputs": [
    {
     "data": {
      "text/html": [
       "0.241970724519143"
      ],
      "text/latex": [
       "0.241970724519143"
      ],
      "text/markdown": [
       "0.241970724519143"
      ],
      "text/plain": [
       "[1] 0.2419707"
      ]
     },
     "metadata": {},
     "output_type": "display_data"
    }
   ],
   "source": [
    "# dnorm(x, mean, sd)\n",
    "dnorm(2, mean=3, sd=1)\n",
    "\n",
    "# pnorm(q, mean, sd)\n",
    "# qnorm\n",
    "# rnorm(n, mean, sd)(p, mean, sd)"
   ]
  },
  {
   "cell_type": "markdown",
   "metadata": {},
   "source": [
    "#### 3). 카이제곱 분포(Chisq dist) : 표준정규분포의 제곱값의 합으로 정의된 확률 분포."
   ]
  },
  {
   "cell_type": "code",
   "execution_count": 18,
   "metadata": {},
   "outputs": [
    {
     "data": {
      "text/html": [
       "0.103776874355149"
      ],
      "text/latex": [
       "0.103776874355149"
      ],
      "text/markdown": [
       "0.103776874355149"
      ],
      "text/plain": [
       "[1] 0.1037769"
      ]
     },
     "metadata": {},
     "output_type": "display_data"
    }
   ],
   "source": [
    "# dchisq(x, df)\n",
    "dchisq(2, 1)\n",
    "\n",
    "# pchisq(q, df)\n",
    "# qchisq(p, df)\n",
    "# rchisq(size, df)"
   ]
  },
  {
   "cell_type": "markdown",
   "metadata": {},
   "source": [
    "### 실습1.1 이항분포에 대하여, dbinom과 pbinom을 활용하여 누적 확률값을 확인하시오. "
   ]
  },
  {
   "cell_type": "code",
   "execution_count": 19,
   "metadata": {},
   "outputs": [
    {
     "data": {
      "text/html": [
       "0.6496107184"
      ],
      "text/latex": [
       "0.6496107184"
      ],
      "text/markdown": [
       "0.6496107184"
      ],
      "text/plain": [
       "[1] 0.6496107"
      ]
     },
     "metadata": {},
     "output_type": "display_data"
    }
   ],
   "source": [
    "dbinom(0, size=10, prob=0.3) + dbinom(1, size=10, prob=0.3) + dbinom(2, size=10, prob=0.3) + dbinom(3, size=10, prob=0.3)  "
   ]
  },
  {
   "cell_type": "code",
   "execution_count": 20,
   "metadata": {},
   "outputs": [
    {
     "data": {
      "text/html": [
       "0.6496107184"
      ],
      "text/latex": [
       "0.6496107184"
      ],
      "text/markdown": [
       "0.6496107184"
      ],
      "text/plain": [
       "[1] 0.6496107"
      ]
     },
     "metadata": {},
     "output_type": "display_data"
    }
   ],
   "source": [
    "pbinom(3, size=10, prob=0.3) "
   ]
  },
  {
   "cell_type": "markdown",
   "metadata": {},
   "source": [
    "### 실습1.2 다음의 확률을 계산하시오.\n",
    "$$ P(2.5 < X < 3.5) $$"
   ]
  },
  {
   "cell_type": "code",
   "execution_count": 21,
   "metadata": {},
   "outputs": [
    {
     "data": {
      "text/html": [
       "0.241730337457129"
      ],
      "text/latex": [
       "0.241730337457129"
      ],
      "text/markdown": [
       "0.241730337457129"
      ],
      "text/plain": [
       "[1] 0.2417303"
      ]
     },
     "metadata": {},
     "output_type": "display_data"
    }
   ],
   "source": [
    "pnorm(3.5, 2, 1)-pnorm(2.5, 2, 1)"
   ]
  },
  {
   "cell_type": "code",
   "execution_count": 22,
   "metadata": {},
   "outputs": [],
   "source": [
    "### 실습1.3 적당한 확률 변수를 생성하여 분포 모양을 확인하시오."
   ]
  },
  {
   "cell_type": "code",
   "execution_count": 25,
   "metadata": {},
   "outputs": [
    {
     "data": {
      "image/png": "[encoded data removed]",
      "text/plain": [
       "Plot with title \"Histogram of x\""
      ]
     },
     "metadata": {},
     "output_type": "display_data"
    }
   ],
   "source": [
    "x = rnorm(100, 2, 1)\n",
    "hist(x)"
   ]
  }
 ],
 "metadata": {
  "kernelspec": {
   "display_name": "R",
   "language": "R",
   "name": "ir"
  },
  "language_info": {
   "codemirror_mode": "r",
   "file_extension": ".r",
   "mimetype": "text/x-r-source",
   "name": "R",
   "pygments_lexer": "r",
   "version": "3.6.1"
  }
 },
 "nbformat": 4,
 "nbformat_minor": 4
}
