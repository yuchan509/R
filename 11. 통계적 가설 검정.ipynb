{
 "cells": [
  {
   "cell_type": "markdown",
   "metadata": {},
   "source": [
    "### Z-Test"
   ]
  },
  {
   "cell_type": "markdown",
   "metadata": {},
   "source": [
    "#### 평균 10 표준편차 2의 정규분포를 따르는 모집단 1000000개로부터 표본을 30개 추출하여, Z검정 통계량을 통해, 가설검정을 실시하고자 한다. 이 때 유의수준은 5%로 한다."
   ]
  },
  {
   "cell_type": "code",
   "execution_count": 2,
   "metadata": {},
   "outputs": [
    {
     "data": {
      "text/html": [
       "TRUE"
      ],
      "text/latex": [
       "TRUE"
      ],
      "text/markdown": [
       "TRUE"
      ],
      "text/plain": [
       "[1] TRUE"
      ]
     },
     "metadata": {},
     "output_type": "display_data"
    }
   ],
   "source": [
    "pop = rnorm(1000000,10,2)\n",
    "n = 30\n",
    "Sam = sample(pop,n) \n",
    "mu0 = 10; sig=2\n",
    "Z = (mean(Sam)-mu0)/(sig/sqrt(n))\n",
    "alph = 0.05\n",
    "\n",
    "#양측 검정\n",
    "abs(Z)>= qnorm(alph/2, lower.tail=F)"
   ]
  },
  {
   "cell_type": "code",
   "execution_count": 5,
   "metadata": {},
   "outputs": [
    {
     "data": {
      "text/html": [
       "TRUE"
      ],
      "text/latex": [
       "TRUE"
      ],
      "text/markdown": [
       "TRUE"
      ],
      "text/plain": [
       "[1] TRUE"
      ]
     },
     "metadata": {},
     "output_type": "display_data"
    },
    {
     "data": {
      "text/html": [
       "0.04"
      ],
      "text/latex": [
       "0.04"
      ],
      "text/markdown": [
       "0.04"
      ],
      "text/plain": [
       "[1] 0.04"
      ]
     },
     "metadata": {},
     "output_type": "display_data"
    }
   ],
   "source": [
    "pop = rnorm(1000000,10,2)\n",
    "n = 30\n",
    "Sam = sample(pop,n) \n",
    "mu0=8; sig=2\n",
    "Z = (mean(Sam)-mu0)/(sig/sqrt(n))\n",
    "alph = 0.05\n",
    "\n",
    "# 양측 검정.\n",
    "abs(Z) >= qnorm(alph/2, lower.tail=F)\n",
    "\n",
    "# 유의 수준 확인.\n",
    "# 동일 모집단에 대한 반복 표본 추출에 따른 Z-검정의 결과 확인.\n",
    "m = 100\n",
    "chk = 0\n",
    "mu0=10; sig=2\n",
    "for (i in 1:m){\n",
    "    Sam =sample(pop,n)\n",
    "    Z = (mean(Sam)-mu0)/(sig/sqrt(n))\n",
    "    chk = chk+(abs(Z)>=qnorm(alph/2, lower.tail=F))\n",
    "}\n",
    "chk/m"
   ]
  },
  {
   "cell_type": "markdown",
   "metadata": {},
   "source": [
    "### T-test"
   ]
  },
  {
   "cell_type": "code",
   "execution_count": 13,
   "metadata": {},
   "outputs": [
    {
     "data": {
      "text/html": [
       "0.416311279618457"
      ],
      "text/latex": [
       "0.416311279618457"
      ],
      "text/markdown": [
       "0.416311279618457"
      ],
      "text/plain": [
       "[1] 0.4163113"
      ]
     },
     "metadata": {},
     "output_type": "display_data"
    },
    {
     "data": {
      "text/html": [
       "FALSE"
      ],
      "text/latex": [
       "FALSE"
      ],
      "text/markdown": [
       "FALSE"
      ],
      "text/plain": [
       "[1] FALSE"
      ]
     },
     "metadata": {},
     "output_type": "display_data"
    },
    {
     "data": {
      "text/html": [
       "0.340123671981137"
      ],
      "text/latex": [
       "0.340123671981137"
      ],
      "text/markdown": [
       "0.340123671981137"
      ],
      "text/plain": [
       "[1] 0.3401237"
      ]
     },
     "metadata": {},
     "output_type": "display_data"
    },
    {
     "data": {
      "text/html": [
       "FALSE"
      ],
      "text/latex": [
       "FALSE"
      ],
      "text/markdown": [
       "FALSE"
      ],
      "text/plain": [
       "[1] FALSE"
      ]
     },
     "metadata": {},
     "output_type": "display_data"
    },
    {
     "data": {
      "text/html": [
       "0.659876328018863"
      ],
      "text/latex": [
       "0.659876328018863"
      ],
      "text/markdown": [
       "0.659876328018863"
      ],
      "text/plain": [
       "[1] 0.6598763"
      ]
     },
     "metadata": {},
     "output_type": "display_data"
    },
    {
     "data": {
      "text/html": [
       "FALSE"
      ],
      "text/latex": [
       "FALSE"
      ],
      "text/markdown": [
       "FALSE"
      ],
      "text/plain": [
       "[1] FALSE"
      ]
     },
     "metadata": {},
     "output_type": "display_data"
    },
    {
     "data": {
      "text/html": [
       "0.680247343962275"
      ],
      "text/latex": [
       "0.680247343962275"
      ],
      "text/markdown": [
       "0.680247343962275"
      ],
      "text/plain": [
       "[1] 0.6802473"
      ]
     },
     "metadata": {},
     "output_type": "display_data"
    }
   ],
   "source": [
    "# 임의로 생성된 정규 모집단.\n",
    "pop = rnorm(1000000,10,2)\n",
    "n = 30\n",
    "Sam = sample(pop,n) \n",
    "mu0 = 10; \n",
    "df = n-1\n",
    "t = (mean(Sam)-mu0)/(sd(Sam)/sqrt(n))\n",
    "alph = 0.05\n",
    "t \n",
    "\n",
    "# 단측 검정.\n",
    "# lower.tail=F 경우.\n",
    "t >= qt(alph, df, lower.tail=F)\n",
    "pt(t, df, lower.tail=F)\n",
    "\n",
    "# lower.tail=T 경우.\n",
    "t <= qt(alph, df, lower.tail=T)\n",
    "pt(t, df, lower.tail=T)\n",
    "\n",
    "# 양측 검정.\n",
    "abs(t) >= qt(alph/2, df, lower.tail=F)\n",
    "(1-pt(abs(t), df, lower.tail=T))*2"
   ]
  },
  {
   "cell_type": "markdown",
   "metadata": {},
   "source": [
    "#### 일표본 t-test "
   ]
  },
  {
   "cell_type": "code",
   "execution_count": 15,
   "metadata": {},
   "outputs": [
    {
     "data": {
      "text/plain": [
       "\n",
       "\tOne Sample t-test\n",
       "\n",
       "data:  Sam\n",
       "t = 0.41631, df = 29, p-value = 0.3401\n",
       "alternative hypothesis: true mean is greater than 10\n",
       "95 percent confidence interval:\n",
       " 9.570761      Inf\n",
       "sample estimates:\n",
       "mean of x \n",
       "  10.1393 \n"
      ]
     },
     "metadata": {},
     "output_type": "display_data"
    },
    {
     "data": {
      "text/plain": [
       "\n",
       "\tOne Sample t-test\n",
       "\n",
       "data:  Sam\n",
       "t = 0.41631, df = 29, p-value = 0.6599\n",
       "alternative hypothesis: true mean is less than 10\n",
       "95 percent confidence interval:\n",
       "     -Inf 10.70784\n",
       "sample estimates:\n",
       "mean of x \n",
       "  10.1393 \n"
      ]
     },
     "metadata": {},
     "output_type": "display_data"
    },
    {
     "data": {
      "text/plain": [
       "\n",
       "\tOne Sample t-test\n",
       "\n",
       "data:  Sam\n",
       "t = 0.41631, df = 29, p-value = 0.6802\n",
       "alternative hypothesis: true mean is not equal to 10\n",
       "95 percent confidence interval:\n",
       "  9.454953 10.823648\n",
       "sample estimates:\n",
       "mean of x \n",
       "  10.1393 \n"
      ]
     },
     "metadata": {},
     "output_type": "display_data"
    }
   ],
   "source": [
    "t.test(Sam, mu=10, alternative=\"greater\")\n",
    "t.test(Sam, mu=10, alternative=\"less\")\n",
    "t.test(Sam, mu=10, alternative=\"two.sided\")"
   ]
  },
  {
   "cell_type": "markdown",
   "metadata": {},
   "source": [
    "#### 독립 t-test : 등분산 가정, 두집단은 엄밀히 독립적인 관계에 놓여 있다. 절대 수식적으로 대응으로 풀 수 없음."
   ]
  },
  {
   "cell_type": "code",
   "execution_count": 19,
   "metadata": {},
   "outputs": [
    {
     "data": {
      "text/html": [
       "FALSE"
      ],
      "text/latex": [
       "FALSE"
      ],
      "text/markdown": [
       "FALSE"
      ],
      "text/plain": [
       "[1] FALSE"
      ]
     },
     "metadata": {},
     "output_type": "display_data"
    },
    {
     "data": {
      "text/html": [
       "0.120227306916344"
      ],
      "text/latex": [
       "0.120227306916344"
      ],
      "text/markdown": [
       "0.120227306916344"
      ],
      "text/plain": [
       "[1] 0.1202273"
      ]
     },
     "metadata": {},
     "output_type": "display_data"
    },
    {
     "data": {
      "text/html": [
       "FALSE"
      ],
      "text/latex": [
       "FALSE"
      ],
      "text/markdown": [
       "FALSE"
      ],
      "text/plain": [
       "[1] FALSE"
      ]
     },
     "metadata": {},
     "output_type": "display_data"
    },
    {
     "data": {
      "text/html": [
       "0.879772693083656"
      ],
      "text/latex": [
       "0.879772693083656"
      ],
      "text/markdown": [
       "0.879772693083656"
      ],
      "text/plain": [
       "[1] 0.8797727"
      ]
     },
     "metadata": {},
     "output_type": "display_data"
    },
    {
     "data": {
      "text/html": [
       "FALSE"
      ],
      "text/latex": [
       "FALSE"
      ],
      "text/markdown": [
       "FALSE"
      ],
      "text/plain": [
       "[1] FALSE"
      ]
     },
     "metadata": {},
     "output_type": "display_data"
    },
    {
     "data": {
      "text/html": [
       "0.240454613832687"
      ],
      "text/latex": [
       "0.240454613832687"
      ],
      "text/markdown": [
       "0.240454613832687"
      ],
      "text/plain": [
       "[1] 0.2404546"
      ]
     },
     "metadata": {},
     "output_type": "display_data"
    },
    {
     "data": {
      "text/plain": [
       "\n",
       "\tTwo Sample t-test\n",
       "\n",
       "data:  Samx and Samy\n",
       "t = 1.1872, df = 53, p-value = 0.1202\n",
       "alternative hypothesis: true difference in means is greater than 0\n",
       "95 percent confidence interval:\n",
       " -0.2342023        Inf\n",
       "sample estimates:\n",
       "mean of x mean of y \n",
       "10.381007  9.810026 \n"
      ]
     },
     "metadata": {},
     "output_type": "display_data"
    },
    {
     "data": {
      "text/plain": [
       "\n",
       "\tTwo Sample t-test\n",
       "\n",
       "data:  Samx and Samy\n",
       "t = 1.1872, df = 53, p-value = 0.8798\n",
       "alternative hypothesis: true difference in means is less than 0\n",
       "95 percent confidence interval:\n",
       "     -Inf 1.376166\n",
       "sample estimates:\n",
       "mean of x mean of y \n",
       "10.381007  9.810026 \n"
      ]
     },
     "metadata": {},
     "output_type": "display_data"
    },
    {
     "data": {
      "text/plain": [
       "\n",
       "\tTwo Sample t-test\n",
       "\n",
       "data:  Samx and Samy\n",
       "t = 1.1872, df = 53, p-value = 0.2405\n",
       "alternative hypothesis: true difference in means is not equal to 0\n",
       "95 percent confidence interval:\n",
       " -0.3937032  1.5356667\n",
       "sample estimates:\n",
       "mean of x mean of y \n",
       "10.381007  9.810026 \n"
      ]
     },
     "metadata": {},
     "output_type": "display_data"
    }
   ],
   "source": [
    "pop = rnorm(1000000,10,2)\n",
    "n1 = 30; n2 = 25\n",
    "Samx = sample(pop,n1) \n",
    "Samy = sample(pop,n2) \n",
    "del0 = 0\n",
    "df = n1+n2-2\n",
    "sp = ((n1-1)*sd(Samx)^2+(n2-1)*sd(Samy)^2)/df\n",
    "t = (mean(Samx)-mean(Samy)-del0)/(sqrt(sp)*sqrt(1/n1+1/n2))\n",
    "alph = 0.05\n",
    "\n",
    "#단측 검정\n",
    "t >= qt(alph, df, lower.tail=F)\n",
    "pt(t, df, lower.tail=F)\n",
    "\n",
    "t <= qt(alph, df, lower.tail=T)\n",
    "pt(t, df, lower.tail=T)\n",
    "\n",
    "# 양측 검정\n",
    "abs(t) >=qt(alph/2, df, lower.tail=F)\n",
    "(1-pt(abs(t), df, lower.tail=T))*2\n",
    "\n",
    "t.test(Samx, Samy, alternative=\"greater\", var.equal=T)\n",
    "t.test(Samx, Samy, alternative=\"less\", var.equal=T)\n",
    "t.test(Samx, Samy, alternative=\"two.sided\", var.equal=T)"
   ]
  },
  {
   "cell_type": "markdown",
   "metadata": {},
   "source": [
    "#### 대응(짝) t-test : 두 집단이기는 하지만 엄밀히 한개의 집단인 개념. 그러나 수식적으로는 독립으로 풀수는 있음.\n",
    "- 자유도가 독립보다 적으므로, 분산이 적게 나올가능성이 있음. 그러므로 분석적으로 독립 T-test보다는 유용함.\n",
    "- 단 표본의 성질이 대응(짝)인 성질을 가지고 있어야함."
   ]
  },
  {
   "cell_type": "code",
   "execution_count": 20,
   "metadata": {},
   "outputs": [
    {
     "data": {
      "text/html": [
       "FALSE"
      ],
      "text/latex": [
       "FALSE"
      ],
      "text/markdown": [
       "FALSE"
      ],
      "text/plain": [
       "[1] FALSE"
      ]
     },
     "metadata": {},
     "output_type": "display_data"
    },
    {
     "data": {
      "text/html": [
       "0.235141456698142"
      ],
      "text/latex": [
       "0.235141456698142"
      ],
      "text/markdown": [
       "0.235141456698142"
      ],
      "text/plain": [
       "[1] 0.2351415"
      ]
     },
     "metadata": {},
     "output_type": "display_data"
    },
    {
     "data": {
      "text/html": [
       "FALSE"
      ],
      "text/latex": [
       "FALSE"
      ],
      "text/markdown": [
       "FALSE"
      ],
      "text/plain": [
       "[1] FALSE"
      ]
     },
     "metadata": {},
     "output_type": "display_data"
    },
    {
     "data": {
      "text/html": [
       "0.764858543301858"
      ],
      "text/latex": [
       "0.764858543301858"
      ],
      "text/markdown": [
       "0.764858543301858"
      ],
      "text/plain": [
       "[1] 0.7648585"
      ]
     },
     "metadata": {},
     "output_type": "display_data"
    },
    {
     "data": {
      "text/html": [
       "FALSE"
      ],
      "text/latex": [
       "FALSE"
      ],
      "text/markdown": [
       "FALSE"
      ],
      "text/plain": [
       "[1] FALSE"
      ]
     },
     "metadata": {},
     "output_type": "display_data"
    },
    {
     "data": {
      "text/html": [
       "0.470282913396285"
      ],
      "text/latex": [
       "0.470282913396285"
      ],
      "text/markdown": [
       "0.470282913396285"
      ],
      "text/plain": [
       "[1] 0.4702829"
      ]
     },
     "metadata": {},
     "output_type": "display_data"
    },
    {
     "data": {
      "text/plain": [
       "\n",
       "\tPaired t-test\n",
       "\n",
       "data:  Sam1 and Sam2\n",
       "t = 0.7316, df = 29, p-value = 0.2351\n",
       "alternative hypothesis: true difference in means is greater than 0\n",
       "95 percent confidence interval:\n",
       " -0.4940264        Inf\n",
       "sample estimates:\n",
       "mean of the differences \n",
       "              0.3735616 \n"
      ]
     },
     "metadata": {},
     "output_type": "display_data"
    },
    {
     "data": {
      "text/plain": [
       "\n",
       "\tPaired t-test\n",
       "\n",
       "data:  Sam1 and Sam2\n",
       "t = 0.7316, df = 29, p-value = 0.7649\n",
       "alternative hypothesis: true difference in means is less than 0\n",
       "95 percent confidence interval:\n",
       "    -Inf 1.24115\n",
       "sample estimates:\n",
       "mean of the differences \n",
       "              0.3735616 \n"
      ]
     },
     "metadata": {},
     "output_type": "display_data"
    },
    {
     "data": {
      "text/plain": [
       "\n",
       "\tPaired t-test\n",
       "\n",
       "data:  Sam1 and Sam2\n",
       "t = 0.7316, df = 29, p-value = 0.4703\n",
       "alternative hypothesis: true difference in means is not equal to 0\n",
       "95 percent confidence interval:\n",
       " -0.6707491  1.4178723\n",
       "sample estimates:\n",
       "mean of the differences \n",
       "              0.3735616 \n"
      ]
     },
     "metadata": {},
     "output_type": "display_data"
    }
   ],
   "source": [
    "pop = rnorm(1000000,10,2)\n",
    "n = 30\n",
    "Sam1 = sample(pop,n) \n",
    "Sam2 = sample(pop,n) \n",
    "D_i = Sam1-Sam2\n",
    "D_sd = sd(D_i)\n",
    "del0 = 0\n",
    "df = n-1\n",
    "t = (mean(D_i)-del0)/(D_sd/sqrt(n))\n",
    "alph = 0.05\n",
    "\n",
    "t >= qt(alph, df, lower.tail=F)\n",
    "pt(t, df, lower.tail=F)\n",
    "\n",
    "t <= qt(alph, df, lower.tail=T)\n",
    "pt(t, df, lower.tail=T)\n",
    "\n",
    "\n",
    "abs(t) >=qt(alph/2, df, lower.tail=F)\n",
    "(1-pt(abs(t), df, lower.tail=T))*2\n",
    "\n",
    "t.test(Sam1, Sam2, alternative=\"greater\", paired=T)\n",
    "t.test(Sam1, Sam2, alternative=\"less\", paired=T)\n",
    "t.test(Sam1, Sam2, alternative=\"two.sided\", paired=T)"
   ]
  },
  {
   "cell_type": "markdown",
   "metadata": {},
   "source": [
    "#### 실습1 독립표본 t-검정에서 등분산 가정이 안될경우,다음의 Welch 공통분산추정치를 사용하여 검정하시오. \n",
    "- var.equal : 등분산 가정(T), 등분산 불만족(F)"
   ]
  },
  {
   "cell_type": "code",
   "execution_count": 21,
   "metadata": {},
   "outputs": [
    {
     "data": {
      "text/html": [
       "0.0344765464192366"
      ],
      "text/latex": [
       "0.0344765464192366"
      ],
      "text/markdown": [
       "0.0344765464192366"
      ],
      "text/plain": [
       "[1] 0.03447655"
      ]
     },
     "metadata": {},
     "output_type": "display_data"
    },
    {
     "data": {
      "text/html": [
       "FALSE"
      ],
      "text/latex": [
       "FALSE"
      ],
      "text/markdown": [
       "FALSE"
      ],
      "text/plain": [
       "[1] FALSE"
      ]
     },
     "metadata": {},
     "output_type": "display_data"
    },
    {
     "data": {
      "text/html": [
       "0.486320979222413"
      ],
      "text/latex": [
       "0.486320979222413"
      ],
      "text/markdown": [
       "0.486320979222413"
      ],
      "text/plain": [
       "[1] 0.486321"
      ]
     },
     "metadata": {},
     "output_type": "display_data"
    },
    {
     "data": {
      "text/html": [
       "FALSE"
      ],
      "text/latex": [
       "FALSE"
      ],
      "text/markdown": [
       "FALSE"
      ],
      "text/plain": [
       "[1] FALSE"
      ]
     },
     "metadata": {},
     "output_type": "display_data"
    },
    {
     "data": {
      "text/html": [
       "0.513679020777587"
      ],
      "text/latex": [
       "0.513679020777587"
      ],
      "text/markdown": [
       "0.513679020777587"
      ],
      "text/plain": [
       "[1] 0.513679"
      ]
     },
     "metadata": {},
     "output_type": "display_data"
    },
    {
     "data": {
      "text/html": [
       "FALSE"
      ],
      "text/latex": [
       "FALSE"
      ],
      "text/markdown": [
       "FALSE"
      ],
      "text/plain": [
       "[1] FALSE"
      ]
     },
     "metadata": {},
     "output_type": "display_data"
    },
    {
     "data": {
      "text/html": [
       "0.972641958444827"
      ],
      "text/latex": [
       "0.972641958444827"
      ],
      "text/markdown": [
       "0.972641958444827"
      ],
      "text/plain": [
       "[1] 0.972642"
      ]
     },
     "metadata": {},
     "output_type": "display_data"
    },
    {
     "data": {
      "text/plain": [
       "\n",
       "\tWelch Two Sample t-test\n",
       "\n",
       "data:  Samx and Samy\n",
       "t = 0.034477, df = 47.389, p-value = 0.4863\n",
       "alternative hypothesis: true difference in means is greater than 0\n",
       "95 percent confidence interval:\n",
       " -0.9503878        Inf\n",
       "sample estimates:\n",
       "mean of x mean of y \n",
       " 9.783733  9.763793 \n"
      ]
     },
     "metadata": {},
     "output_type": "display_data"
    },
    {
     "data": {
      "text/plain": [
       "\n",
       "\tWelch Two Sample t-test\n",
       "\n",
       "data:  Samx and Samy\n",
       "t = 0.034477, df = 47.389, p-value = 0.5137\n",
       "alternative hypothesis: true difference in means is less than 0\n",
       "95 percent confidence interval:\n",
       "      -Inf 0.9902692\n",
       "sample estimates:\n",
       "mean of x mean of y \n",
       " 9.783733  9.763793 \n"
      ]
     },
     "metadata": {},
     "output_type": "display_data"
    },
    {
     "data": {
      "text/plain": [
       "\n",
       "\tWelch Two Sample t-test\n",
       "\n",
       "data:  Samx and Samy\n",
       "t = 0.034477, df = 47.389, p-value = 0.9726\n",
       "alternative hypothesis: true difference in means is not equal to 0\n",
       "95 percent confidence interval:\n",
       " -1.143369  1.183250\n",
       "sample estimates:\n",
       "mean of x mean of y \n",
       " 9.783733  9.763793 \n"
      ]
     },
     "metadata": {},
     "output_type": "display_data"
    }
   ],
   "source": [
    "# seed 값 설정.\n",
    "set.seed(20200114)\n",
    "pop = rnorm(1000000,10,2)\n",
    "n1 = 30; n2 = 25; del0 = 0 \n",
    "Samx = sample(pop,n1); Samy = sample(pop,n2) \n",
    "del0 = 0\n",
    "sdx = sd(Samx)\n",
    "sdy = sd(Samy)\n",
    "a = (sdx^2/n1)+(sdy^2/n2)\n",
    "b = (sdx)^4/((n1^2)*(n1-1))+(sdy)^4/((n2^2)*(n2-1))\n",
    "W_df = a^2/b\n",
    "t = (mean(Samx)-mean(Samy)-del0)/sqrt(a)\n",
    "alpha = 0.05\n",
    "t\n",
    "\n",
    "t >=qt(alpha, W_df, lower.tail=F)\n",
    "pt(t, W_df, lower.tail=F)\n",
    "\n",
    "t <=qt(alpha, W_df, lower.tail=T)\n",
    "pt(t, W_df, lower.tail=T)\n",
    "\n",
    "abs(t) >=qt(alpha/2, W_df, lower.tail=F)\n",
    "(1-pt(abs(t), W_df, lower.tail=T))*2\n",
    "\n",
    "t.test(Samx, Samy, alternative=\"greater\", var.equal=F)\n",
    "t.test(Samx, Samy, alternative=\"less\", var.equal=F)\n",
    "t.test(Samx, Samy, alternative=\"two.sided\", var.equal=F)"
   ]
  }
 ],
 "metadata": {
  "kernelspec": {
   "display_name": "R",
   "language": "R",
   "name": "ir"
  },
  "language_info": {
   "codemirror_mode": "r",
   "file_extension": ".r",
   "mimetype": "text/x-r-source",
   "name": "R",
   "pygments_lexer": "r",
   "version": "3.6.1"
  }
 },
 "nbformat": 4,
 "nbformat_minor": 4
}
