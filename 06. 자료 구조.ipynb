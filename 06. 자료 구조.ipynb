{
 "cells": [
  {
   "cell_type": "markdown",
   "metadata": {},
   "source": [
    "#### Factors : 범주형 자료(객관식)의 입력과 표현 : level지정에서 character와 차이."
   ]
  },
  {
   "cell_type": "code",
   "execution_count": 1,
   "metadata": {},
   "outputs": [
    {
     "data": {
      "text/html": [
       "TRUE"
      ],
      "text/latex": [
       "TRUE"
      ],
      "text/markdown": [
       "TRUE"
      ],
      "text/plain": [
       "[1] TRUE"
      ]
     },
     "metadata": {},
     "output_type": "display_data"
    },
    {
     "data": {
      "text/plain": [
       "NULL"
      ]
     },
     "metadata": {},
     "output_type": "display_data"
    }
   ],
   "source": [
    "hair = c(\"blond\",\"black\",\"brown\",\"brown\",\"black\",\"gray\",\"none\") \n",
    "is.character(hair) # 이 데이터가 문자인가? : T\n",
    "levels(hair)       # 문자열 변수이기 때문에 null로 생성."
   ]
  },
  {
   "cell_type": "code",
   "execution_count": 2,
   "metadata": {},
   "outputs": [
    {
     "data": {
      "text/html": [
       "FALSE"
      ],
      "text/latex": [
       "FALSE"
      ],
      "text/markdown": [
       "FALSE"
      ],
      "text/plain": [
       "[1] FALSE"
      ]
     },
     "metadata": {},
     "output_type": "display_data"
    },
    {
     "data": {
      "text/html": [
       "<ol class=list-inline>\n",
       "\t<li>'black'</li>\n",
       "\t<li>'blond'</li>\n",
       "\t<li>'brown'</li>\n",
       "\t<li>'gray'</li>\n",
       "\t<li>'none'</li>\n",
       "</ol>\n"
      ],
      "text/latex": [
       "\\begin{enumerate*}\n",
       "\\item 'black'\n",
       "\\item 'blond'\n",
       "\\item 'brown'\n",
       "\\item 'gray'\n",
       "\\item 'none'\n",
       "\\end{enumerate*}\n"
      ],
      "text/markdown": [
       "1. 'black'\n",
       "2. 'blond'\n",
       "3. 'brown'\n",
       "4. 'gray'\n",
       "5. 'none'\n",
       "\n",
       "\n"
      ],
      "text/plain": [
       "[1] \"black\" \"blond\" \"brown\" \"gray\"  \"none\" "
      ]
     },
     "metadata": {},
     "output_type": "display_data"
    }
   ],
   "source": [
    "is.factor(hair)\n",
    "hair = factor(hair) # 범주형 변수로 지정. \n",
    "levels(hair)        # 5개의 변수가 범주로서 지정됨."
   ]
  },
  {
   "cell_type": "markdown",
   "metadata": {},
   "source": [
    "#### 범주 지정 factor는 levels을 줌으로써, 없었던 변수를 넣을 수 있음."
   ]
  },
  {
   "cell_type": "code",
   "execution_count": 3,
   "metadata": {},
   "outputs": [
    {
     "data": {
      "text/html": [
       "<ol class=list-inline>\n",
       "\t<li>'blond'</li>\n",
       "\t<li>'black'</li>\n",
       "\t<li>'brown'</li>\n",
       "\t<li>'gray'</li>\n",
       "\t<li>'none'</li>\n",
       "\t<li>'white'</li>\n",
       "</ol>\n"
      ],
      "text/latex": [
       "\\begin{enumerate*}\n",
       "\\item 'blond'\n",
       "\\item 'black'\n",
       "\\item 'brown'\n",
       "\\item 'gray'\n",
       "\\item 'none'\n",
       "\\item 'white'\n",
       "\\end{enumerate*}\n"
      ],
      "text/markdown": [
       "1. 'blond'\n",
       "2. 'black'\n",
       "3. 'brown'\n",
       "4. 'gray'\n",
       "5. 'none'\n",
       "6. 'white'\n",
       "\n",
       "\n"
      ],
      "text/plain": [
       "[1] \"blond\" \"black\" \"brown\" \"gray\"  \"none\"  \"white\""
      ]
     },
     "metadata": {},
     "output_type": "display_data"
    },
    {
     "data": {
      "text/plain": [
       "hair1\n",
       "blond black brown  gray  none white \n",
       "    1     2     2     1     1     0 "
      ]
     },
     "metadata": {},
     "output_type": "display_data"
    }
   ],
   "source": [
    "hair1 = factor(hair, levels=c(\"blond\",\"black\",\"brown\",\"gray\",\"none\",\"white\"))\n",
    "levels(hair1)\n",
    "\n",
    "# 데이터에 대한 테이블 생성.\n",
    "table(hair1)"
   ]
  },
  {
   "cell_type": "code",
   "execution_count": 4,
   "metadata": {},
   "outputs": [
    {
     "data": {
      "text/html": [
       "<ol class=list-inline>\n",
       "\t<li>'a'</li>\n",
       "\t<li>'b'</li>\n",
       "\t<li>'c'</li>\n",
       "</ol>\n"
      ],
      "text/latex": [
       "\\begin{enumerate*}\n",
       "\\item 'a'\n",
       "\\item 'b'\n",
       "\\item 'c'\n",
       "\\end{enumerate*}\n"
      ],
      "text/markdown": [
       "1. 'a'\n",
       "2. 'b'\n",
       "3. 'c'\n",
       "\n",
       "\n"
      ],
      "text/plain": [
       "[1] \"a\" \"b\" \"c\""
      ]
     },
     "metadata": {},
     "output_type": "display_data"
    }
   ],
   "source": [
    "a = c(\"a\",\"a\",\"b\", \"b\")\n",
    "a = factor(a, levels=c(\"a\",\"b\",\"c\"))\n",
    "a[5] = \"c\"\n",
    "levels(a)"
   ]
  },
  {
   "cell_type": "markdown",
   "metadata": {},
   "source": [
    "#### 순서형 변수"
   ]
  },
  {
   "cell_type": "code",
   "execution_count": 5,
   "metadata": {},
   "outputs": [
    {
     "name": "stderr",
     "output_type": "stream",
     "text": [
      "Warning message in Ops.factor(grade, \"L\"):\n",
      "\"'>' not meaningful for factors\""
     ]
    },
    {
     "data": {
      "text/html": [
       "<ol class=list-inline>\n",
       "\t<li>&lt;NA&gt;</li>\n",
       "\t<li>&lt;NA&gt;</li>\n",
       "\t<li>&lt;NA&gt;</li>\n",
       "\t<li>&lt;NA&gt;</li>\n",
       "\t<li>&lt;NA&gt;</li>\n",
       "\t<li>&lt;NA&gt;</li>\n",
       "</ol>\n"
      ],
      "text/latex": [
       "\\begin{enumerate*}\n",
       "\\item <NA>\n",
       "\\item <NA>\n",
       "\\item <NA>\n",
       "\\item <NA>\n",
       "\\item <NA>\n",
       "\\item <NA>\n",
       "\\end{enumerate*}\n"
      ],
      "text/markdown": [
       "1. &lt;NA&gt;\n",
       "2. &lt;NA&gt;\n",
       "3. &lt;NA&gt;\n",
       "4. &lt;NA&gt;\n",
       "5. &lt;NA&gt;\n",
       "6. &lt;NA&gt;\n",
       "\n",
       "\n"
      ],
      "text/plain": [
       "[1] NA NA NA NA NA NA"
      ]
     },
     "metadata": {},
     "output_type": "display_data"
    }
   ],
   "source": [
    "# 순서가 지정되지 않기에 돌아가지 않는 코드.\n",
    "grade = c(\"L\",\"H\",\"H\",\"L\",\"M\",\"M\")\n",
    "grade = factor(grade,levels=c(\"L\",\"M\",\"H\"))\n",
    "grade > \"L\""
   ]
  },
  {
   "cell_type": "code",
   "execution_count": 6,
   "metadata": {},
   "outputs": [
    {
     "data": {
      "text/html": [
       "<ol class=list-inline>\n",
       "\t<li>FALSE</li>\n",
       "\t<li>TRUE</li>\n",
       "\t<li>TRUE</li>\n",
       "\t<li>FALSE</li>\n",
       "\t<li>TRUE</li>\n",
       "\t<li>TRUE</li>\n",
       "</ol>\n"
      ],
      "text/latex": [
       "\\begin{enumerate*}\n",
       "\\item FALSE\n",
       "\\item TRUE\n",
       "\\item TRUE\n",
       "\\item FALSE\n",
       "\\item TRUE\n",
       "\\item TRUE\n",
       "\\end{enumerate*}\n"
      ],
      "text/markdown": [
       "1. FALSE\n",
       "2. TRUE\n",
       "3. TRUE\n",
       "4. FALSE\n",
       "5. TRUE\n",
       "6. TRUE\n",
       "\n",
       "\n"
      ],
      "text/plain": [
       "[1] FALSE  TRUE  TRUE FALSE  TRUE  TRUE"
      ]
     },
     "metadata": {},
     "output_type": "display_data"
    }
   ],
   "source": [
    "# ordered를 줌으로서 순서(단 ordered를 주기 위해서 levels 지정이 꼭 필요)\n",
    "grade = factor(grade,levels=c(\"L\",\"M\",\"H\"),ordered=T)\n",
    "grade >\"L\""
   ]
  },
  {
   "cell_type": "code",
   "execution_count": 7,
   "metadata": {},
   "outputs": [
    {
     "data": {
      "text/plain": [
       "grade\n",
       "L M H \n",
       "2 2 2 "
      ]
     },
     "metadata": {},
     "output_type": "display_data"
    },
    {
     "data": {
      "text/plain": [
       "grade\n",
       "   Low Medium   high \n",
       "     2      2      2 "
      ]
     },
     "metadata": {},
     "output_type": "display_data"
    }
   ],
   "source": [
    "# 같은 코드 : 순서가 따로지정되지 않으면 알파벳 순으로 출력됨.\n",
    "# 단, labels : 결과를 보여줄 때만 지정된 값으로 표출. 데이터는 L,M,H로 이루어짐.\n",
    "table(grade)\n",
    "grade = factor(grade,levels=c(\"L\",\"M\",\"H\"),labels=c(\"Low\",\"Medium\",\"high\"),ordered=T)\n",
    "table(grade)"
   ]
  },
  {
   "cell_type": "markdown",
   "metadata": {},
   "source": [
    "#### data.frame"
   ]
  },
  {
   "cell_type": "code",
   "execution_count": 8,
   "metadata": {},
   "outputs": [
    {
     "data": {
      "text/html": [
       "<table>\n",
       "<thead><tr><th scope=col>GROUP</th><th scope=col>SEASON</th><th scope=col>MOISTURE</th><th scope=col>LIPID</th><th scope=col>PROTEIN</th></tr></thead>\n",
       "<tbody>\n",
       "\t<tr><td>M-1      </td><td>3        </td><td>68.79    </td><td>10.542095</td><td>20.94    </td></tr>\n",
       "\t<tr><td>M-1      </td><td>3        </td><td>68.64    </td><td>10.891383</td><td>21.26    </td></tr>\n",
       "\t<tr><td>M-1      </td><td>3        </td><td>68.75    </td><td> 9.960100</td><td>18.77    </td></tr>\n",
       "\t<tr><td>M-1      </td><td>3        </td><td>69.90    </td><td> 7.202396</td><td>22.57    </td></tr>\n",
       "\t<tr><td>M-1      </td><td>3        </td><td>69.93    </td><td> 6.833447</td><td>18.47    </td></tr>\n",
       "\t<tr><td>M-1      </td><td>3        </td><td>69.88    </td><td> 7.748732</td><td>23.10    </td></tr>\n",
       "</tbody>\n",
       "</table>\n"
      ],
      "text/latex": [
       "\\begin{tabular}{r|lllll}\n",
       " GROUP & SEASON & MOISTURE & LIPID & PROTEIN\\\\\n",
       "\\hline\n",
       "\t M-1       & 3         & 68.79     & 10.542095 & 20.94    \\\\\n",
       "\t M-1       & 3         & 68.64     & 10.891383 & 21.26    \\\\\n",
       "\t M-1       & 3         & 68.75     &  9.960100 & 18.77    \\\\\n",
       "\t M-1       & 3         & 69.90     &  7.202396 & 22.57    \\\\\n",
       "\t M-1       & 3         & 69.93     &  6.833447 & 18.47    \\\\\n",
       "\t M-1       & 3         & 69.88     &  7.748732 & 23.10    \\\\\n",
       "\\end{tabular}\n"
      ],
      "text/markdown": [
       "\n",
       "| GROUP | SEASON | MOISTURE | LIPID | PROTEIN |\n",
       "|---|---|---|---|---|\n",
       "| M-1       | 3         | 68.79     | 10.542095 | 20.94     |\n",
       "| M-1       | 3         | 68.64     | 10.891383 | 21.26     |\n",
       "| M-1       | 3         | 68.75     |  9.960100 | 18.77     |\n",
       "| M-1       | 3         | 69.90     |  7.202396 | 22.57     |\n",
       "| M-1       | 3         | 69.93     |  6.833447 | 18.47     |\n",
       "| M-1       | 3         | 69.88     |  7.748732 | 23.10     |\n",
       "\n"
      ],
      "text/plain": [
       "  GROUP SEASON MOISTURE LIPID     PROTEIN\n",
       "1 M-1   3      68.79    10.542095 20.94  \n",
       "2 M-1   3      68.64    10.891383 21.26  \n",
       "3 M-1   3      68.75     9.960100 18.77  \n",
       "4 M-1   3      69.90     7.202396 22.57  \n",
       "5 M-1   3      69.93     6.833447 18.47  \n",
       "6 M-1   3      69.88     7.748732 23.10  "
      ]
     },
     "metadata": {},
     "output_type": "display_data"
    },
    {
     "data": {
      "text/html": [
       "<table>\n",
       "<thead><tr><th></th><th scope=col>GROUP</th><th scope=col>SEASON</th><th scope=col>MOISTURE</th><th scope=col>LIPID</th><th scope=col>PROTEIN</th></tr></thead>\n",
       "<tbody>\n",
       "\t<tr><th scope=row>595</th><td>M-4    </td><td>7      </td><td>60.4183</td><td>18.9872</td><td>19.54  </td></tr>\n",
       "\t<tr><th scope=row>596</th><td>M-4    </td><td>7      </td><td>61.2029</td><td>18.8002</td><td>18.98  </td></tr>\n",
       "\t<tr><th scope=row>597</th><td>M-4    </td><td>7      </td><td>60.8175</td><td>18.6977</td><td>19.29  </td></tr>\n",
       "\t<tr><th scope=row>598</th><td>M-4    </td><td>7      </td><td>63.3667</td><td>13.9113</td><td>20.34  </td></tr>\n",
       "\t<tr><th scope=row>599</th><td>M-4    </td><td>7      </td><td>63.6561</td><td>14.0033</td><td>20.42  </td></tr>\n",
       "\t<tr><th scope=row>600</th><td>M-4    </td><td>7      </td><td>64.2829</td><td>14.3548</td><td>20.67  </td></tr>\n",
       "</tbody>\n",
       "</table>\n"
      ],
      "text/latex": [
       "\\begin{tabular}{r|lllll}\n",
       "  & GROUP & SEASON & MOISTURE & LIPID & PROTEIN\\\\\n",
       "\\hline\n",
       "\t595 & M-4     & 7       & 60.4183 & 18.9872 & 19.54  \\\\\n",
       "\t596 & M-4     & 7       & 61.2029 & 18.8002 & 18.98  \\\\\n",
       "\t597 & M-4     & 7       & 60.8175 & 18.6977 & 19.29  \\\\\n",
       "\t598 & M-4     & 7       & 63.3667 & 13.9113 & 20.34  \\\\\n",
       "\t599 & M-4     & 7       & 63.6561 & 14.0033 & 20.42  \\\\\n",
       "\t600 & M-4     & 7       & 64.2829 & 14.3548 & 20.67  \\\\\n",
       "\\end{tabular}\n"
      ],
      "text/markdown": [
       "\n",
       "| <!--/--> | GROUP | SEASON | MOISTURE | LIPID | PROTEIN |\n",
       "|---|---|---|---|---|---|\n",
       "| 595 | M-4     | 7       | 60.4183 | 18.9872 | 19.54   |\n",
       "| 596 | M-4     | 7       | 61.2029 | 18.8002 | 18.98   |\n",
       "| 597 | M-4     | 7       | 60.8175 | 18.6977 | 19.29   |\n",
       "| 598 | M-4     | 7       | 63.3667 | 13.9113 | 20.34   |\n",
       "| 599 | M-4     | 7       | 63.6561 | 14.0033 | 20.42   |\n",
       "| 600 | M-4     | 7       | 64.2829 | 14.3548 | 20.67   |\n",
       "\n"
      ],
      "text/plain": [
       "    GROUP SEASON MOISTURE LIPID   PROTEIN\n",
       "595 M-4   7      60.4183  18.9872 19.54  \n",
       "596 M-4   7      61.2029  18.8002 18.98  \n",
       "597 M-4   7      60.8175  18.6977 19.29  \n",
       "598 M-4   7      63.3667  13.9113 20.34  \n",
       "599 M-4   7      63.6561  14.0033 20.42  \n",
       "600 M-4   7      64.2829  14.3548 20.67  "
      ]
     },
     "metadata": {},
     "output_type": "display_data"
    },
    {
     "name": "stdout",
     "output_type": "stream",
     "text": [
      "'data.frame':\t600 obs. of  5 variables:\n",
      " $ GROUP   : Factor w/ 4 levels \"M-1\",\"M-2\",\"M-3\",..: 1 1 1 1 1 1 1 1 1 1 ...\n",
      " $ SEASON  : int  3 3 3 3 3 3 3 3 3 3 ...\n",
      " $ MOISTURE: num  68.8 68.6 68.8 69.9 69.9 ...\n",
      " $ LIPID   : num  10.54 10.89 9.96 7.2 6.83 ...\n",
      " $ PROTEIN : num  20.9 21.3 18.8 22.6 18.5 ...\n"
     ]
    },
    {
     "data": {
      "text/html": [
       "<ol class=list-inline>\n",
       "\t<li>'GROUP'</li>\n",
       "\t<li>'SEASON'</li>\n",
       "\t<li>'MOISTURE'</li>\n",
       "\t<li>'LIPID'</li>\n",
       "\t<li>'PROTEIN'</li>\n",
       "</ol>\n"
      ],
      "text/latex": [
       "\\begin{enumerate*}\n",
       "\\item 'GROUP'\n",
       "\\item 'SEASON'\n",
       "\\item 'MOISTURE'\n",
       "\\item 'LIPID'\n",
       "\\item 'PROTEIN'\n",
       "\\end{enumerate*}\n"
      ],
      "text/markdown": [
       "1. 'GROUP'\n",
       "2. 'SEASON'\n",
       "3. 'MOISTURE'\n",
       "4. 'LIPID'\n",
       "5. 'PROTEIN'\n",
       "\n",
       "\n"
      ],
      "text/plain": [
       "[1] \"GROUP\"    \"SEASON\"   \"MOISTURE\" \"LIPID\"    \"PROTEIN\" "
      ]
     },
     "metadata": {},
     "output_type": "display_data"
    },
    {
     "data": {
      "text/html": [
       "<ol class=list-inline>\n",
       "\t<li>'G'</li>\n",
       "\t<li>'S'</li>\n",
       "\t<li>'M'</li>\n",
       "\t<li>'L'</li>\n",
       "\t<li>'P'</li>\n",
       "</ol>\n"
      ],
      "text/latex": [
       "\\begin{enumerate*}\n",
       "\\item 'G'\n",
       "\\item 'S'\n",
       "\\item 'M'\n",
       "\\item 'L'\n",
       "\\item 'P'\n",
       "\\end{enumerate*}\n"
      ],
      "text/markdown": [
       "1. 'G'\n",
       "2. 'S'\n",
       "3. 'M'\n",
       "4. 'L'\n",
       "5. 'P'\n",
       "\n",
       "\n"
      ],
      "text/plain": [
       "[1] \"G\" \"S\" \"M\" \"L\" \"P\""
      ]
     },
     "metadata": {},
     "output_type": "display_data"
    },
    {
     "data": {
      "text/html": [
       "<table>\n",
       "<thead><tr><th scope=col>G</th><th scope=col>S</th><th scope=col>M</th><th scope=col>L</th><th scope=col>P</th><th scope=col>A</th></tr></thead>\n",
       "<tbody>\n",
       "\t<tr><td>M-1      </td><td>3        </td><td>68.79    </td><td>10.542095</td><td>20.94    </td><td>3.285100 </td></tr>\n",
       "\t<tr><td>M-1      </td><td>3        </td><td>68.64    </td><td>10.891383</td><td>21.26    </td><td>3.228598 </td></tr>\n",
       "\t<tr><td>M-1      </td><td>3        </td><td>68.75    </td><td> 9.960100</td><td>18.77    </td><td>3.662760 </td></tr>\n",
       "\t<tr><td>M-1      </td><td>3        </td><td>69.90    </td><td> 7.202396</td><td>22.57    </td><td>3.097031 </td></tr>\n",
       "\t<tr><td>M-1      </td><td>3        </td><td>69.93    </td><td> 6.833447</td><td>18.47    </td><td>3.786140 </td></tr>\n",
       "\t<tr><td>M-1      </td><td>3        </td><td>69.88    </td><td> 7.748732</td><td>23.10    </td><td>3.025108 </td></tr>\n",
       "\t<tr><td>M-1      </td><td>3        </td><td>71.90    </td><td> 5.175482</td><td>21.05    </td><td>3.415677 </td></tr>\n",
       "\t<tr><td>M-1      </td><td>3        </td><td>71.59    </td><td> 6.242545</td><td>20.60    </td><td>3.475243 </td></tr>\n",
       "\t<tr><td>M-1      </td><td>3        </td><td>71.91    </td><td> 5.484032</td><td>21.15    </td><td>3.400000 </td></tr>\n",
       "\t<tr><td>M-1      </td><td>3        </td><td>70.30    </td><td> 6.140744</td><td>22.39    </td><td>3.139795 </td></tr>\n",
       "</tbody>\n",
       "</table>\n"
      ],
      "text/latex": [
       "\\begin{tabular}{r|llllll}\n",
       " G & S & M & L & P & A\\\\\n",
       "\\hline\n",
       "\t M-1       & 3         & 68.79     & 10.542095 & 20.94     & 3.285100 \\\\\n",
       "\t M-1       & 3         & 68.64     & 10.891383 & 21.26     & 3.228598 \\\\\n",
       "\t M-1       & 3         & 68.75     &  9.960100 & 18.77     & 3.662760 \\\\\n",
       "\t M-1       & 3         & 69.90     &  7.202396 & 22.57     & 3.097031 \\\\\n",
       "\t M-1       & 3         & 69.93     &  6.833447 & 18.47     & 3.786140 \\\\\n",
       "\t M-1       & 3         & 69.88     &  7.748732 & 23.10     & 3.025108 \\\\\n",
       "\t M-1       & 3         & 71.90     &  5.175482 & 21.05     & 3.415677 \\\\\n",
       "\t M-1       & 3         & 71.59     &  6.242545 & 20.60     & 3.475243 \\\\\n",
       "\t M-1       & 3         & 71.91     &  5.484032 & 21.15     & 3.400000 \\\\\n",
       "\t M-1       & 3         & 70.30     &  6.140744 & 22.39     & 3.139795 \\\\\n",
       "\\end{tabular}\n"
      ],
      "text/markdown": [
       "\n",
       "| G | S | M | L | P | A |\n",
       "|---|---|---|---|---|---|\n",
       "| M-1       | 3         | 68.79     | 10.542095 | 20.94     | 3.285100  |\n",
       "| M-1       | 3         | 68.64     | 10.891383 | 21.26     | 3.228598  |\n",
       "| M-1       | 3         | 68.75     |  9.960100 | 18.77     | 3.662760  |\n",
       "| M-1       | 3         | 69.90     |  7.202396 | 22.57     | 3.097031  |\n",
       "| M-1       | 3         | 69.93     |  6.833447 | 18.47     | 3.786140  |\n",
       "| M-1       | 3         | 69.88     |  7.748732 | 23.10     | 3.025108  |\n",
       "| M-1       | 3         | 71.90     |  5.175482 | 21.05     | 3.415677  |\n",
       "| M-1       | 3         | 71.59     |  6.242545 | 20.60     | 3.475243  |\n",
       "| M-1       | 3         | 71.91     |  5.484032 | 21.15     | 3.400000  |\n",
       "| M-1       | 3         | 70.30     |  6.140744 | 22.39     | 3.139795  |\n",
       "\n"
      ],
      "text/plain": [
       "   G   S M     L         P     A       \n",
       "1  M-1 3 68.79 10.542095 20.94 3.285100\n",
       "2  M-1 3 68.64 10.891383 21.26 3.228598\n",
       "3  M-1 3 68.75  9.960100 18.77 3.662760\n",
       "4  M-1 3 69.90  7.202396 22.57 3.097031\n",
       "5  M-1 3 69.93  6.833447 18.47 3.786140\n",
       "6  M-1 3 69.88  7.748732 23.10 3.025108\n",
       "7  M-1 3 71.90  5.175482 21.05 3.415677\n",
       "8  M-1 3 71.59  6.242545 20.60 3.475243\n",
       "9  M-1 3 71.91  5.484032 21.15 3.400000\n",
       "10 M-1 3 70.30  6.140744 22.39 3.139795"
      ]
     },
     "metadata": {},
     "output_type": "display_data"
    }
   ],
   "source": [
    "data = read.table(\"DATA_C3/DATA_ORI.txt\",header=T)\n",
    "head(data) # 앞에서 6번째 까지 표출.\n",
    "tail(data) # 뒤에서 6번째 까지 표출.\n",
    "\n",
    "# 기본적인 data.frame을 표출, 자료변수 특징.(변수가 적을 때 유용) \n",
    "str(data) \n",
    "\n",
    "# 변수명 확인.\n",
    "names(data)\n",
    "# as.character(name) \n",
    "\n",
    "colnames(data) = names(data) # data의 열이름(일반적으로) : 변수명이라고 생각.  \n",
    "names(data) = c(\"G\",\"S\",\"M\",\"L\",\"P\")\n",
    "colnames(data)\n",
    "\n",
    "# vector의 개념 이용해서 변수 생성도 가능.\n",
    "data$A = data$M/data$P\n",
    "\n",
    "# A 변수가 새로 생긴 것을 볼 수 있음.\n",
    "data[1:10,]\n"
   ]
  },
  {
   "cell_type": "markdown",
   "metadata": {},
   "source": [
    "#### attach() : 데이터 변수명을 작업공간에 인식시켜, 변수명만으로 작업 가능."
   ]
  },
  {
   "cell_type": "code",
   "execution_count": 9,
   "metadata": {},
   "outputs": [
    {
     "data": {
      "text/plain": [
       "G\n",
       "M-1 M-2 M-3 M-4 \n",
       "150 150 150 150 "
      ]
     },
     "metadata": {},
     "output_type": "display_data"
    },
    {
     "data": {
      "text/html": [
       "<table>\n",
       "<thead><tr><th scope=col>G</th><th scope=col>S</th><th scope=col>M</th><th scope=col>L</th><th scope=col>P</th><th scope=col>A</th></tr></thead>\n",
       "<tbody>\n",
       "\t<tr><td>M-1      </td><td>3        </td><td>68.79    </td><td>10.542095</td><td>20.94    </td><td>3.285100 </td></tr>\n",
       "\t<tr><td>M-1      </td><td>3        </td><td>68.64    </td><td>10.891383</td><td>21.26    </td><td>3.228598 </td></tr>\n",
       "\t<tr><td>M-1      </td><td>3        </td><td>68.75    </td><td> 9.960100</td><td>18.77    </td><td>3.662760 </td></tr>\n",
       "\t<tr><td>M-1      </td><td>3        </td><td>69.90    </td><td> 7.202396</td><td>22.57    </td><td>3.097031 </td></tr>\n",
       "\t<tr><td>M-1      </td><td>3        </td><td>69.93    </td><td> 6.833447</td><td>18.47    </td><td>3.786140 </td></tr>\n",
       "\t<tr><td>M-1      </td><td>3        </td><td>69.88    </td><td> 7.748732</td><td>23.10    </td><td>3.025108 </td></tr>\n",
       "</tbody>\n",
       "</table>\n"
      ],
      "text/latex": [
       "\\begin{tabular}{r|llllll}\n",
       " G & S & M & L & P & A\\\\\n",
       "\\hline\n",
       "\t M-1       & 3         & 68.79     & 10.542095 & 20.94     & 3.285100 \\\\\n",
       "\t M-1       & 3         & 68.64     & 10.891383 & 21.26     & 3.228598 \\\\\n",
       "\t M-1       & 3         & 68.75     &  9.960100 & 18.77     & 3.662760 \\\\\n",
       "\t M-1       & 3         & 69.90     &  7.202396 & 22.57     & 3.097031 \\\\\n",
       "\t M-1       & 3         & 69.93     &  6.833447 & 18.47     & 3.786140 \\\\\n",
       "\t M-1       & 3         & 69.88     &  7.748732 & 23.10     & 3.025108 \\\\\n",
       "\\end{tabular}\n"
      ],
      "text/markdown": [
       "\n",
       "| G | S | M | L | P | A |\n",
       "|---|---|---|---|---|---|\n",
       "| M-1       | 3         | 68.79     | 10.542095 | 20.94     | 3.285100  |\n",
       "| M-1       | 3         | 68.64     | 10.891383 | 21.26     | 3.228598  |\n",
       "| M-1       | 3         | 68.75     |  9.960100 | 18.77     | 3.662760  |\n",
       "| M-1       | 3         | 69.90     |  7.202396 | 22.57     | 3.097031  |\n",
       "| M-1       | 3         | 69.93     |  6.833447 | 18.47     | 3.786140  |\n",
       "| M-1       | 3         | 69.88     |  7.748732 | 23.10     | 3.025108  |\n",
       "\n"
      ],
      "text/plain": [
       "  G   S M     L         P     A       \n",
       "1 M-1 3 68.79 10.542095 20.94 3.285100\n",
       "2 M-1 3 68.64 10.891383 21.26 3.228598\n",
       "3 M-1 3 68.75  9.960100 18.77 3.662760\n",
       "4 M-1 3 69.90  7.202396 22.57 3.097031\n",
       "5 M-1 3 69.93  6.833447 18.47 3.786140\n",
       "6 M-1 3 69.88  7.748732 23.10 3.025108"
      ]
     },
     "metadata": {},
     "output_type": "display_data"
    }
   ],
   "source": [
    "attach(data)\n",
    "table(G)\n",
    "head(data)"
   ]
  },
  {
   "cell_type": "code",
   "execution_count": 10,
   "metadata": {},
   "outputs": [
    {
     "data": {
      "text/html": [
       "<ol class=list-inline>\n",
       "\t<li>'G'</li>\n",
       "\t<li>'S'</li>\n",
       "\t<li>'M'</li>\n",
       "\t<li>'L'</li>\n",
       "\t<li>'P'</li>\n",
       "\t<li>'A'</li>\n",
       "\t<li>'B'</li>\n",
       "</ol>\n"
      ],
      "text/latex": [
       "\\begin{enumerate*}\n",
       "\\item 'G'\n",
       "\\item 'S'\n",
       "\\item 'M'\n",
       "\\item 'L'\n",
       "\\item 'P'\n",
       "\\item 'A'\n",
       "\\item 'B'\n",
       "\\end{enumerate*}\n"
      ],
      "text/markdown": [
       "1. 'G'\n",
       "2. 'S'\n",
       "3. 'M'\n",
       "4. 'L'\n",
       "5. 'P'\n",
       "6. 'A'\n",
       "7. 'B'\n",
       "\n",
       "\n"
      ],
      "text/plain": [
       "[1] \"G\" \"S\" \"M\" \"L\" \"P\" \"A\" \"B\""
      ]
     },
     "metadata": {},
     "output_type": "display_data"
    }
   ],
   "source": [
    "# attach를 이용해서 위와 같은 방식으로도 이용이 가능.\n",
    "data$B = A*100\n",
    "names(data)"
   ]
  },
  {
   "cell_type": "markdown",
   "metadata": {},
   "source": [
    "#### detach() : attach의 반대 개념."
   ]
  },
  {
   "cell_type": "code",
   "execution_count": 11,
   "metadata": {},
   "outputs": [
    {
     "ename": "ERROR",
     "evalue": "Error in table(G): 객체 'G'를 찾을 수 없습니다\n",
     "output_type": "error",
     "traceback": [
      "Error in table(G): 객체 'G'를 찾을 수 없습니다\nTraceback:\n",
      "1. table(G)"
     ]
    }
   ],
   "source": [
    "# 다시 원상 복귀 시킨 것을 알 수 있음.\n",
    "detach(data) \n",
    "table(G)"
   ]
  },
  {
   "cell_type": "markdown",
   "metadata": {},
   "source": [
    "#### list : 다양한 형태의 객체를 하나의 객체로 표현."
   ]
  },
  {
   "cell_type": "code",
   "execution_count": 12,
   "metadata": {},
   "outputs": [
    {
     "data": {
      "text/html": [
       "<ol>\n",
       "\t<li>'one'</li>\n",
       "\t<li>TRUE</li>\n",
       "\t<li>3</li>\n",
       "\t<li><ol class=list-inline>\n",
       "\t<li>'f'</li>\n",
       "\t<li>'o'</li>\n",
       "\t<li>'u'</li>\n",
       "\t<li>'r'</li>\n",
       "</ol>\n",
       "</li>\n",
       "</ol>\n"
      ],
      "text/latex": [
       "\\begin{enumerate}\n",
       "\\item 'one'\n",
       "\\item TRUE\n",
       "\\item 3\n",
       "\\item \\begin{enumerate*}\n",
       "\\item 'f'\n",
       "\\item 'o'\n",
       "\\item 'u'\n",
       "\\item 'r'\n",
       "\\end{enumerate*}\n",
       "\n",
       "\\end{enumerate}\n"
      ],
      "text/markdown": [
       "1. 'one'\n",
       "2. TRUE\n",
       "3. 3\n",
       "4. 1. 'f'\n",
       "2. 'o'\n",
       "3. 'u'\n",
       "4. 'r'\n",
       "\n",
       "\n",
       "\n",
       "\n",
       "\n"
      ],
      "text/plain": [
       "[[1]]\n",
       "[1] \"one\"\n",
       "\n",
       "[[2]]\n",
       "[1] TRUE\n",
       "\n",
       "[[3]]\n",
       "[1] 3\n",
       "\n",
       "[[4]]\n",
       "[1] \"f\" \"o\" \"u\" \"r\"\n"
      ]
     },
     "metadata": {},
     "output_type": "display_data"
    },
    {
     "data": {
      "text/html": [
       "TRUE"
      ],
      "text/latex": [
       "TRUE"
      ],
      "text/markdown": [
       "TRUE"
      ],
      "text/plain": [
       "[1] TRUE"
      ]
     },
     "metadata": {},
     "output_type": "display_data"
    },
    {
     "data": {
      "text/html": [
       "'one'"
      ],
      "text/latex": [
       "'one'"
      ],
      "text/markdown": [
       "'one'"
      ],
      "text/plain": [
       "[1] \"one\""
      ]
     },
     "metadata": {},
     "output_type": "display_data"
    },
    {
     "data": {
      "text/html": [
       "<ol>\n",
       "\t<li><ol class=list-inline>\n",
       "\t<li>'f'</li>\n",
       "\t<li>'o'</li>\n",
       "\t<li>'u'</li>\n",
       "\t<li>'r'</li>\n",
       "</ol>\n",
       "</li>\n",
       "</ol>\n"
      ],
      "text/latex": [
       "\\begin{enumerate}\n",
       "\\item \\begin{enumerate*}\n",
       "\\item 'f'\n",
       "\\item 'o'\n",
       "\\item 'u'\n",
       "\\item 'r'\n",
       "\\end{enumerate*}\n",
       "\n",
       "\\end{enumerate}\n"
      ],
      "text/markdown": [
       "1. 1. 'f'\n",
       "2. 'o'\n",
       "3. 'u'\n",
       "4. 'r'\n",
       "\n",
       "\n",
       "\n",
       "\n",
       "\n"
      ],
      "text/plain": [
       "[[1]]\n",
       "[1] \"f\" \"o\" \"u\" \"r\"\n"
      ]
     },
     "metadata": {},
     "output_type": "display_data"
    },
    {
     "data": {
      "text/html": [
       "'f'"
      ],
      "text/latex": [
       "'f'"
      ],
      "text/markdown": [
       "'f'"
      ],
      "text/plain": [
       "[1] \"f\""
      ]
     },
     "metadata": {},
     "output_type": "display_data"
    },
    {
     "data": {
      "text/html": [
       "<ol>\n",
       "\t<li><ol class=list-inline>\n",
       "\t<li>'f'</li>\n",
       "\t<li>'o'</li>\n",
       "\t<li>'u'</li>\n",
       "\t<li>'r'</li>\n",
       "</ol>\n",
       "</li>\n",
       "</ol>\n"
      ],
      "text/latex": [
       "\\begin{enumerate}\n",
       "\\item \\begin{enumerate*}\n",
       "\\item 'f'\n",
       "\\item 'o'\n",
       "\\item 'u'\n",
       "\\item 'r'\n",
       "\\end{enumerate*}\n",
       "\n",
       "\\end{enumerate}\n"
      ],
      "text/markdown": [
       "1. 1. 'f'\n",
       "2. 'o'\n",
       "3. 'u'\n",
       "4. 'r'\n",
       "\n",
       "\n",
       "\n",
       "\n",
       "\n"
      ],
      "text/plain": [
       "[[1]]\n",
       "[1] \"f\" \"o\" \"u\" \"r\"\n"
      ]
     },
     "metadata": {},
     "output_type": "display_data"
    }
   ],
   "source": [
    "my.list = list(\"one\", TRUE, 3, c(\"f\",\"o\",\"u\",\"r\"))\n",
    "my.list\n",
    "my.list[[2]] \n",
    "\n",
    "# [[]] : list를 가져오는 것을 의미\n",
    "my.list[[1]]\n",
    "\n",
    "# my.list[4][1] 와 같은 결과 값을 가져옴.\n",
    "my.list[4] \n",
    "\n",
    "# list 서랍을 열어서 1번째를 가져온 것.\n",
    "my.list[[4]][1] \n",
    "\n",
    "# list 서랍 자체를 가져온 것.\n",
    "my.list[4][1]   "
   ]
  },
  {
   "cell_type": "code",
   "execution_count": 16,
   "metadata": {},
   "outputs": [
    {
     "name": "stdout",
     "output_type": "stream",
     "text": [
      "$fst\n",
      "[1] \"one\"\n",
      "\n",
      "$snd\n",
      "[1] TRUE\n",
      "\n",
      "$trd\n",
      "[1] 3\n",
      "\n",
      "$fth\n",
      "[1] \"f\" \"o\" \"u\" \"r\"\n",
      "\n",
      "[1] \"one\"\n",
      "[1] \"r\"\n"
     ]
    }
   ],
   "source": [
    "## 사용할 때 이렇게 사용 추천.\n",
    "my.list = list(fst=\"one\", snd=TRUE, trd=3, fth=c(\"f\",\"o\",\"u\",\"r\"))\n",
    "print( my.list )\n",
    "\n",
    "print( my.list$fst )\n",
    "print( my.list$fth[4] )"
   ]
  },
  {
   "cell_type": "code",
   "execution_count": 15,
   "metadata": {},
   "outputs": [
    {
     "name": "stdout",
     "output_type": "stream",
     "text": [
      "   fst    snd    trd   fth1   fth2   fth3   fth4 \n",
      " \"one\" \"TRUE\"    \"3\"    \"f\"    \"o\"    \"u\"    \"r\" \n"
     ]
    }
   ],
   "source": [
    "# 하나의 벡터로 변환.\n",
    "print( unlist(my.list) )"
   ]
  },
  {
   "cell_type": "markdown",
   "metadata": {},
   "source": [
    "#### 실습1 “DATA_ORI.txt”파일을 불러와서 다음의 list를 만드시오.\n",
    "\n",
    "* 자료를 ‘data‘ 이름으로 list에 입력하시오\n",
    "    * (1). GROUP의 범주 이름을 ‘group_name’으로 list에 추가하시오.\n",
    "    * (2). MOISTURE, PROTEIN, LIPID의 summary결과를 list에 추가하시오.\n",
    "    * (3). MOISTURE와 PROTEIN의 비를 RATIO로 list에 추가하시오"
   ]
  },
  {
   "cell_type": "code",
   "execution_count": 17,
   "metadata": {},
   "outputs": [
    {
     "data": {
      "text/html": [
       "<ol class=list-inline>\n",
       "\t<li>'data'</li>\n",
       "\t<li>'group_name'</li>\n",
       "</ol>\n"
      ],
      "text/latex": [
       "\\begin{enumerate*}\n",
       "\\item 'data'\n",
       "\\item 'group\\_name'\n",
       "\\end{enumerate*}\n"
      ],
      "text/markdown": [
       "1. 'data'\n",
       "2. 'group_name'\n",
       "\n",
       "\n"
      ],
      "text/plain": [
       "[1] \"data\"       \"group_name\""
      ]
     },
     "metadata": {},
     "output_type": "display_data"
    },
    {
     "data": {
      "text/html": [
       "<ol class=list-inline>\n",
       "\t<li>'data'</li>\n",
       "\t<li>'group_name'</li>\n",
       "\t<li>'M_results'</li>\n",
       "\t<li>'P_results'</li>\n",
       "\t<li>'L_results'</li>\n",
       "\t<li>'RATIO'</li>\n",
       "</ol>\n"
      ],
      "text/latex": [
       "\\begin{enumerate*}\n",
       "\\item 'data'\n",
       "\\item 'group\\_name'\n",
       "\\item 'M\\_results'\n",
       "\\item 'P\\_results'\n",
       "\\item 'L\\_results'\n",
       "\\item 'RATIO'\n",
       "\\end{enumerate*}\n"
      ],
      "text/markdown": [
       "1. 'data'\n",
       "2. 'group_name'\n",
       "3. 'M_results'\n",
       "4. 'P_results'\n",
       "5. 'L_results'\n",
       "6. 'RATIO'\n",
       "\n",
       "\n"
      ],
      "text/plain": [
       "[1] \"data\"       \"group_name\" \"M_results\"  \"P_results\"  \"L_results\" \n",
       "[6] \"RATIO\"     "
      ]
     },
     "metadata": {},
     "output_type": "display_data"
    }
   ],
   "source": [
    "data = read.table(\"DATA_C3/DATA_ORI.txt\", header=T)\n",
    "\n",
    "list = list(data=data)\n",
    "list$group_name = levels(data$GROUP)\n",
    "names(list)\n",
    "\n",
    "list$M_results = summary(data$MOISTURE)\n",
    "list$P_results = summary(data$PROTEIN)\n",
    "list$L_results = summary(data$LAPID)\n",
    "data$A = (data$MOISTURE)/(data$PROTEIN)\n",
    "list$RATIO = data$A\n",
    "names(list)"
   ]
  }
 ],
 "metadata": {
  "kernelspec": {
   "display_name": "R",
   "language": "R",
   "name": "ir"
  },
  "language_info": {
   "codemirror_mode": "r",
   "file_extension": ".r",
   "mimetype": "text/x-r-source",
   "name": "R",
   "pygments_lexer": "r",
   "version": "3.6.1"
  }
 },
 "nbformat": 4,
 "nbformat_minor": 4
}
