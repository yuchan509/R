{
 "cells": [
  {
   "cell_type": "markdown",
   "metadata": {},
   "source": [
    "### Work space \n",
    "- data name = setwd(\"파일명\")\n",
    "- data name1 = read.csv(\"파일명\")"
   ]
  },
  {
   "cell_type": "markdown",
   "metadata": {},
   "source": [
    "### Data frame \n",
    "- data1 = data.frame(이름지정, 이름지정,,,,,,)\n",
    "- data$(보여야할 변수 지정)\n"
   ]
  },
  {
   "cell_type": "markdown",
   "metadata": {},
   "source": [
    "### Vector "
   ]
  },
  {
   "cell_type": "code",
   "execution_count": 8,
   "metadata": {},
   "outputs": [
    {
     "data": {
      "text/html": [
       "<ol class=list-inline>\n",
       "\t<li>67</li>\n",
       "\t<li>83</li>\n",
       "\t<li>96</li>\n",
       "\t<li>90</li>\n",
       "\t<li>85</li>\n",
       "</ol>\n"
      ],
      "text/latex": [
       "\\begin{enumerate*}\n",
       "\\item 67\n",
       "\\item 83\n",
       "\\item 96\n",
       "\\item 90\n",
       "\\item 85\n",
       "\\end{enumerate*}\n"
      ],
      "text/markdown": [
       "1. 67\n",
       "2. 83\n",
       "3. 96\n",
       "4. 90\n",
       "5. 85\n",
       "\n",
       "\n"
      ],
      "text/plain": [
       "[1] 67 83 96 90 85"
      ]
     },
     "metadata": {},
     "output_type": "display_data"
    },
    {
     "data": {
      "text/html": [
       "83"
      ],
      "text/latex": [
       "83"
      ],
      "text/markdown": [
       "83"
      ],
      "text/plain": [
       "[1] 83"
      ]
     },
     "metadata": {},
     "output_type": "display_data"
    },
    {
     "data": {
      "text/html": [
       "<ol class=list-inline>\n",
       "\t<li>67</li>\n",
       "\t<li>83</li>\n",
       "\t<li>96</li>\n",
       "\t<li>90</li>\n",
       "\t<li>90</li>\n",
       "</ol>\n"
      ],
      "text/latex": [
       "\\begin{enumerate*}\n",
       "\\item 67\n",
       "\\item 83\n",
       "\\item 96\n",
       "\\item 90\n",
       "\\item 90\n",
       "\\end{enumerate*}\n"
      ],
      "text/markdown": [
       "1. 67\n",
       "2. 83\n",
       "3. 96\n",
       "4. 90\n",
       "5. 90\n",
       "\n",
       "\n"
      ],
      "text/plain": [
       "[1] 67 83 96 90 90"
      ]
     },
     "metadata": {},
     "output_type": "display_data"
    }
   ],
   "source": [
    "x = c(67, 83, 96, 90, 85)\n",
    "x\n",
    "x[2];\n",
    "x[5] = 90\n",
    "x"
   ]
  },
  {
   "cell_type": "markdown",
   "metadata": {},
   "source": [
    "### Matrix \n",
    "- matrix(data=NA(일반적으로 수열로 데이터 입력), nrow=행의 수, ncol=열의 수, byrow=FALSE(열부터 채움))\n",
    "* < 행렬(matrix)의 병합 >\n",
    "    * cbind : 열로 병합.\n",
    "    * rbind : 행으로 병합.\n",
    "    * solve() : 역행렬 함수"
   ]
  },
  {
   "cell_type": "code",
   "execution_count": 7,
   "metadata": {},
   "outputs": [
    {
     "data": {
      "text/html": [
       "<table>\n",
       "<tbody>\n",
       "\t<tr><td>1</td><td>4</td><td>7</td></tr>\n",
       "\t<tr><td>2</td><td>5</td><td>8</td></tr>\n",
       "\t<tr><td>3</td><td>6</td><td>9</td></tr>\n",
       "</tbody>\n",
       "</table>\n"
      ],
      "text/latex": [
       "\\begin{tabular}{lll}\n",
       "\t 1 & 4 & 7\\\\\n",
       "\t 2 & 5 & 8\\\\\n",
       "\t 3 & 6 & 9\\\\\n",
       "\\end{tabular}\n"
      ],
      "text/markdown": [
       "\n",
       "| 1 | 4 | 7 |\n",
       "| 2 | 5 | 8 |\n",
       "| 3 | 6 | 9 |\n",
       "\n"
      ],
      "text/plain": [
       "     [,1] [,2] [,3]\n",
       "[1,] 1    4    7   \n",
       "[2,] 2    5    8   \n",
       "[3,] 3    6    9   "
      ]
     },
     "metadata": {},
     "output_type": "display_data"
    },
    {
     "data": {
      "text/html": [
       "<table>\n",
       "<tbody>\n",
       "\t<tr><td>1</td><td>2</td><td>3</td></tr>\n",
       "\t<tr><td>4</td><td>5</td><td>6</td></tr>\n",
       "\t<tr><td>7</td><td>8</td><td>9</td></tr>\n",
       "</tbody>\n",
       "</table>\n"
      ],
      "text/latex": [
       "\\begin{tabular}{lll}\n",
       "\t 1 & 2 & 3\\\\\n",
       "\t 4 & 5 & 6\\\\\n",
       "\t 7 & 8 & 9\\\\\n",
       "\\end{tabular}\n"
      ],
      "text/markdown": [
       "\n",
       "| 1 | 2 | 3 |\n",
       "| 4 | 5 | 6 |\n",
       "| 7 | 8 | 9 |\n",
       "\n"
      ],
      "text/plain": [
       "     [,1] [,2] [,3]\n",
       "[1,] 1    2    3   \n",
       "[2,] 4    5    6   \n",
       "[3,] 7    8    9   "
      ]
     },
     "metadata": {},
     "output_type": "display_data"
    }
   ],
   "source": [
    "M = matrix(seq(1, 9),  3)\n",
    "M_1 = matrix(seq(1, 9),  3, byrow=T)\n",
    "M ; M_1"
   ]
  },
  {
   "cell_type": "markdown",
   "metadata": {},
   "source": [
    "### 사칙연산 기본 연산 \n",
    "\n",
    "- (1+1/100)^100\n",
    "\n",
    "- 17%%5 : 나머지(%%)\n",
    "\n",
    "- 17%/%5 : 몫(%/%)\n",
    "\n",
    "- exp()\n",
    "\n",
    "- option(difits=(자리수))\n",
    "\n",
    "- pi\n",
    "\n",
    "- sin(pi/6)\n",
    "\n",
    "- floor() : 올림함수\n",
    "\n",
    "- ceiling() : 반올림함수\n",
    "\n",
    "- round(숫자, digits=0(~번째 소수점)): 반올림\n",
    "\n",
    "- seq(from=, to=, by=등차 수, length.out=출력(길이) 수) : 수열\n",
    "\n",
    "- rep((데이터), (반복 횟수)) : 반복\n",
    "\n",
    "- sqrt : 제곱근\n",
    "\n",
    "- mean : 평균\n",
    "\n",
    "- rank : 순위\n",
    "\n",
    "- sort() : 보통 이것 대신 패키지 사용하여 활용."
   ]
  },
  {
   "cell_type": "code",
   "execution_count": 14,
   "metadata": {},
   "outputs": [
    {
     "data": {
      "text/html": [
       "<ol class=list-inline>\n",
       "\t<li>100</li>\n",
       "\t<li>101</li>\n",
       "\t<li>102</li>\n",
       "</ol>\n"
      ],
      "text/latex": [
       "\\begin{enumerate*}\n",
       "\\item 100\n",
       "\\item 101\n",
       "\\item 102\n",
       "\\end{enumerate*}\n"
      ],
      "text/markdown": [
       "1. 100\n",
       "2. 101\n",
       "3. 102\n",
       "\n",
       "\n"
      ],
      "text/plain": [
       "[1] 100 101 102"
      ]
     },
     "metadata": {},
     "output_type": "display_data"
    },
    {
     "data": {
      "text/html": [
       "<ol class=list-inline>\n",
       "\t<li>103</li>\n",
       "\t<li>104</li>\n",
       "\t<li>105</li>\n",
       "\t<li>106</li>\n",
       "\t<li>107</li>\n",
       "\t<li>108</li>\n",
       "\t<li>109</li>\n",
       "\t<li>110</li>\n",
       "</ol>\n"
      ],
      "text/latex": [
       "\\begin{enumerate*}\n",
       "\\item 103\n",
       "\\item 104\n",
       "\\item 105\n",
       "\\item 106\n",
       "\\item 107\n",
       "\\item 108\n",
       "\\item 109\n",
       "\\item 110\n",
       "\\end{enumerate*}\n"
      ],
      "text/markdown": [
       "1. 103\n",
       "2. 104\n",
       "3. 105\n",
       "4. 106\n",
       "5. 107\n",
       "6. 108\n",
       "7. 109\n",
       "8. 110\n",
       "\n",
       "\n"
      ],
      "text/plain": [
       "[1] 103 104 105 106 107 108 109 110"
      ]
     },
     "metadata": {},
     "output_type": "display_data"
    },
    {
     "data": {
      "text/html": [
       "11"
      ],
      "text/latex": [
       "11"
      ],
      "text/markdown": [
       "11"
      ],
      "text/plain": [
       "[1] 11"
      ]
     },
     "metadata": {},
     "output_type": "display_data"
    }
   ],
   "source": [
    "x = 100 : 110\n",
    "i = c(1,2,3)\n",
    "x[i]\n",
    "\n",
    "# -index는 그것 제외를 의미.\n",
    "j = c(-1, -2, -3) \n",
    "x[j]\n",
    "\n",
    "# 벡터의 길이\n",
    "length(x) "
   ]
  },
  {
   "cell_type": "markdown",
   "metadata": {},
   "source": [
    "### 주의 : x*y; x/y; x^y (수학적 개념을 벗어남) => 길이가 다른 벡터의 합은 구할 수 없다. 그러나 R에서는 돌아감. "
   ]
  },
  {
   "cell_type": "code",
   "execution_count": 17,
   "metadata": {},
   "outputs": [
    {
     "data": {
      "text/html": [
       "<ol class=list-inline>\n",
       "\t<li>5</li>\n",
       "\t<li>7</li>\n",
       "\t<li>9</li>\n",
       "</ol>\n"
      ],
      "text/latex": [
       "\\begin{enumerate*}\n",
       "\\item 5\n",
       "\\item 7\n",
       "\\item 9\n",
       "\\end{enumerate*}\n"
      ],
      "text/markdown": [
       "1. 5\n",
       "2. 7\n",
       "3. 9\n",
       "\n",
       "\n"
      ],
      "text/plain": [
       "[1] 5 7 9"
      ]
     },
     "metadata": {},
     "output_type": "display_data"
    },
    {
     "data": {
      "text/html": [
       "<ol class=list-inline>\n",
       "\t<li>-3</li>\n",
       "\t<li>-3</li>\n",
       "\t<li>-3</li>\n",
       "</ol>\n"
      ],
      "text/latex": [
       "\\begin{enumerate*}\n",
       "\\item -3\n",
       "\\item -3\n",
       "\\item -3\n",
       "\\end{enumerate*}\n"
      ],
      "text/markdown": [
       "1. -3\n",
       "2. -3\n",
       "3. -3\n",
       "\n",
       "\n"
      ],
      "text/plain": [
       "[1] -3 -3 -3"
      ]
     },
     "metadata": {},
     "output_type": "display_data"
    },
    {
     "data": {
      "text/html": [
       "<ol class=list-inline>\n",
       "\t<li>2</li>\n",
       "\t<li>4</li>\n",
       "\t<li>4</li>\n",
       "\t<li>6</li>\n",
       "</ol>\n"
      ],
      "text/latex": [
       "\\begin{enumerate*}\n",
       "\\item 2\n",
       "\\item 4\n",
       "\\item 4\n",
       "\\item 6\n",
       "\\end{enumerate*}\n"
      ],
      "text/markdown": [
       "1. 2\n",
       "2. 4\n",
       "3. 4\n",
       "4. 6\n",
       "\n",
       "\n"
      ],
      "text/plain": [
       "[1] 2 4 4 6"
      ]
     },
     "metadata": {},
     "output_type": "display_data"
    },
    {
     "data": {
      "text/html": [
       "<ol class=list-inline>\n",
       "\t<li>3</li>\n",
       "\t<li>4</li>\n",
       "\t<li>5</li>\n",
       "</ol>\n"
      ],
      "text/latex": [
       "\\begin{enumerate*}\n",
       "\\item 3\n",
       "\\item 4\n",
       "\\item 5\n",
       "\\end{enumerate*}\n"
      ],
      "text/markdown": [
       "1. 3\n",
       "2. 4\n",
       "3. 5\n",
       "\n",
       "\n"
      ],
      "text/plain": [
       "[1] 3 4 5"
      ]
     },
     "metadata": {},
     "output_type": "display_data"
    },
    {
     "data": {
      "text/html": [
       "<ol class=list-inline>\n",
       "\t<li>1</li>\n",
       "\t<li>4</li>\n",
       "\t<li>9</li>\n",
       "\t<li>16</li>\n",
       "\t<li>25</li>\n",
       "\t<li>36</li>\n",
       "\t<li>49</li>\n",
       "\t<li>64</li>\n",
       "\t<li>81</li>\n",
       "\t<li>100</li>\n",
       "</ol>\n"
      ],
      "text/latex": [
       "\\begin{enumerate*}\n",
       "\\item 1\n",
       "\\item 4\n",
       "\\item 9\n",
       "\\item 16\n",
       "\\item 25\n",
       "\\item 36\n",
       "\\item 49\n",
       "\\item 64\n",
       "\\item 81\n",
       "\\item 100\n",
       "\\end{enumerate*}\n"
      ],
      "text/markdown": [
       "1. 1\n",
       "2. 4\n",
       "3. 9\n",
       "4. 16\n",
       "5. 25\n",
       "6. 36\n",
       "7. 49\n",
       "8. 64\n",
       "9. 81\n",
       "10. 100\n",
       "\n",
       "\n"
      ],
      "text/plain": [
       " [1]   1   4   9  16  25  36  49  64  81 100"
      ]
     },
     "metadata": {},
     "output_type": "display_data"
    },
    {
     "data": {
      "text/html": [
       "<ol class=list-inline>\n",
       "\t<li>1</li>\n",
       "\t<li>4</li>\n",
       "\t<li>3</li>\n",
       "\t<li>16</li>\n",
       "\t<li>5</li>\n",
       "\t<li>36</li>\n",
       "\t<li>7</li>\n",
       "\t<li>64</li>\n",
       "\t<li>9</li>\n",
       "\t<li>100</li>\n",
       "</ol>\n"
      ],
      "text/latex": [
       "\\begin{enumerate*}\n",
       "\\item 1\n",
       "\\item 4\n",
       "\\item 3\n",
       "\\item 16\n",
       "\\item 5\n",
       "\\item 36\n",
       "\\item 7\n",
       "\\item 64\n",
       "\\item 9\n",
       "\\item 100\n",
       "\\end{enumerate*}\n"
      ],
      "text/markdown": [
       "1. 1\n",
       "2. 4\n",
       "3. 3\n",
       "4. 16\n",
       "5. 5\n",
       "6. 36\n",
       "7. 7\n",
       "8. 64\n",
       "9. 9\n",
       "10. 100\n",
       "\n",
       "\n"
      ],
      "text/plain": [
       " [1]   1   4   3  16   5  36   7  64   9 100"
      ]
     },
     "metadata": {},
     "output_type": "display_data"
    }
   ],
   "source": [
    "x = c(1, 2, 3)\n",
    "y = c(4, 5, 6)\n",
    "x+y\n",
    "x-y\n",
    "\n",
    "# 수학적 개념을 벗어나는 연산.\n",
    "c(1, 2, 3, 4) + c(1, 2)\n",
    "2 + c(1, 2, 3)\n",
    "(1:10)^2\n",
    "(1:10)^c(1, 2)"
   ]
  },
  {
   "cell_type": "markdown",
   "metadata": {},
   "source": [
    "### 결측값"
   ]
  },
  {
   "cell_type": "code",
   "execution_count": 27,
   "metadata": {},
   "outputs": [
    {
     "data": {
      "text/html": [
       "&lt;NA&gt;"
      ],
      "text/latex": [
       "<NA>"
      ],
      "text/markdown": [
       "&lt;NA&gt;"
      ],
      "text/plain": [
       "[1] NA"
      ]
     },
     "metadata": {},
     "output_type": "display_data"
    },
    {
     "data": {
      "text/html": [
       "1.5"
      ],
      "text/latex": [
       "1.5"
      ],
      "text/markdown": [
       "1.5"
      ],
      "text/plain": [
       "[1] 1.5"
      ]
     },
     "metadata": {},
     "output_type": "display_data"
    },
    {
     "data": {
      "text/html": [
       "1.5"
      ],
      "text/latex": [
       "1.5"
      ],
      "text/markdown": [
       "1.5"
      ],
      "text/plain": [
       "[1] 1.5"
      ]
     },
     "metadata": {},
     "output_type": "display_data"
    }
   ],
   "source": [
    "# c = NA\n",
    "d = c(1, NA, 2)\n",
    "\n",
    "# is.na(c) : c에 NA(결측)이 존재하는가?  \n",
    "# is.na(d) : d에 NA(결측)이 존재하는가?  \n",
    "\n",
    "# 평균의 데이터에 결측이 있으면 NA 반출.\n",
    "mean(d)\n",
    "\n",
    "# NA가 있으면 제외시키고 평균을 구하시오.\n",
    "mean(d,na.rm=T)  \n",
    "mean(na.omit(d))"
   ]
  },
  {
   "cell_type": "markdown",
   "metadata": {},
   "source": [
    "### 논리 연산자 "
   ]
  },
  {
   "cell_type": "code",
   "execution_count": 28,
   "metadata": {},
   "outputs": [
    {
     "data": {
      "text/html": [
       "<ol class=list-inline>\n",
       "\t<li>FALSE</li>\n",
       "\t<li>&lt;NA&gt;</li>\n",
       "\t<li>TRUE</li>\n",
       "\t<li>TRUE</li>\n",
       "\t<li>TRUE</li>\n",
       "</ol>\n"
      ],
      "text/latex": [
       "\\begin{enumerate*}\n",
       "\\item FALSE\n",
       "\\item <NA>\n",
       "\\item TRUE\n",
       "\\item TRUE\n",
       "\\item TRUE\n",
       "\\end{enumerate*}\n"
      ],
      "text/markdown": [
       "1. FALSE\n",
       "2. &lt;NA&gt;\n",
       "3. TRUE\n",
       "4. TRUE\n",
       "5. TRUE\n",
       "\n",
       "\n"
      ],
      "text/plain": [
       "[1] FALSE    NA  TRUE  TRUE  TRUE"
      ]
     },
     "metadata": {},
     "output_type": "display_data"
    },
    {
     "data": {
      "text/html": [
       "<ol class=list-inline>\n",
       "\t<li>1</li>\n",
       "\t<li>4</li>\n",
       "</ol>\n"
      ],
      "text/latex": [
       "\\begin{enumerate*}\n",
       "\\item 1\n",
       "\\item 4\n",
       "\\end{enumerate*}\n"
      ],
      "text/markdown": [
       "1. 1\n",
       "2. 4\n",
       "\n",
       "\n"
      ],
      "text/plain": [
       "[1] 1 4"
      ]
     },
     "metadata": {},
     "output_type": "display_data"
    }
   ],
   "source": [
    "x = c(1,NA,4,3,4)\n",
    "\n",
    "# 결측 부분은 결측으로 반환.\n",
    "x > 2\n",
    "\n",
    "# subset(x(데이터:벡터 데이터 프레임 행렬 등), x>2(조건))\n",
    "\n",
    "\n",
    "# 2로 나누었을 때 나머지가 1이 되는 위치\n",
    "which(x%%2==1)"
   ]
  },
  {
   "cell_type": "code",
   "execution_count": 25,
   "metadata": {},
   "outputs": [
    {
     "data": {
      "text/html": [
       "FALSE"
      ],
      "text/latex": [
       "FALSE"
      ],
      "text/markdown": [
       "FALSE"
      ],
      "text/plain": [
       "[1] FALSE"
      ]
     },
     "metadata": {},
     "output_type": "display_data"
    },
    {
     "data": {
      "text/html": [
       "TRUE"
      ],
      "text/latex": [
       "TRUE"
      ],
      "text/markdown": [
       "TRUE"
      ],
      "text/plain": [
       "[1] TRUE"
      ]
     },
     "metadata": {},
     "output_type": "display_data"
    }
   ],
   "source": [
    "## 주의\n",
    "# sqrt 무한소수이기 때문에 실제로 FALSE로 반환됨.\n",
    "sqrt(2)*sqrt(2)==2\n",
    "\n",
    "## 결론 => 이와 같은 방식을 사용함.\n",
    "all.equal(sqrt(2)*sqrt(2), 2)"
   ]
  },
  {
   "cell_type": "markdown",
   "metadata": {},
   "source": [
    "### 실습 1.1 정적분(구분구적법)을 활용하여 다음을 계산 하시오."
   ]
  },
  {
   "cell_type": "markdown",
   "metadata": {},
   "source": [
    "$$ \\int_{0}^{\\pi/6} \\cos x\\, dx $$"
   ]
  },
  {
   "cell_type": "code",
   "execution_count": 29,
   "metadata": {},
   "outputs": [
    {
     "data": {
      "text/html": [
       "0.501548650625546"
      ],
      "text/latex": [
       "0.501548650625546"
      ],
      "text/markdown": [
       "0.501548650625546"
      ],
      "text/plain": [
       "[1] 0.5015487"
      ]
     },
     "metadata": {},
     "output_type": "display_data"
    }
   ],
   "source": [
    "dx =.005\n",
    "x = seq(0, pi/6, dx)\n",
    "f = cos(x)\n",
    "sum(f)*dx # (높이의 합* 밑변)"
   ]
  },
  {
   "cell_type": "markdown",
   "metadata": {},
   "source": [
    "※ 밑(dx)를 좀 더 작게 나눈다면??"
   ]
  },
  {
   "cell_type": "code",
   "execution_count": 30,
   "metadata": {},
   "outputs": [
    {
     "data": {
      "text/html": [
       "<table>\n",
       "<thead><tr><th scope=col>x1</th><th scope=col>x2</th><th scope=col>x3</th><th scope=col>x4</th></tr></thead>\n",
       "<tbody>\n",
       "\t<tr><td>0.5729051</td><td>0.5062151</td><td>0.5004145</td><td>0.5000078</td></tr>\n",
       "</tbody>\n",
       "</table>\n"
      ],
      "text/latex": [
       "\\begin{tabular}{r|llll}\n",
       " x1 & x2 & x3 & x4\\\\\n",
       "\\hline\n",
       "\t 0.5729051 & 0.5062151 & 0.5004145 & 0.5000078\\\\\n",
       "\\end{tabular}\n"
      ],
      "text/markdown": [
       "\n",
       "| x1 | x2 | x3 | x4 |\n",
       "|---|---|---|---|\n",
       "| 0.5729051 | 0.5062151 | 0.5004145 | 0.5000078 |\n",
       "\n"
      ],
      "text/plain": [
       "  x1        x2        x3        x4       \n",
       "1 0.5729051 0.5062151 0.5004145 0.5000078"
      ]
     },
     "metadata": {},
     "output_type": "display_data"
    }
   ],
   "source": [
    "# 어디로 수렴하는가에 대해서도 생각해보기.\n",
    "dx1 =.1\n",
    "dx2 = 1e-2\n",
    "dx3 = 1e-3\n",
    "dx4 = 1e-4\n",
    "\n",
    "x1 = seq(0,pi/6,dx1)\n",
    "x2 = seq(0,pi/6,dx2)\n",
    "x3 = seq(0,pi/6,dx3)\n",
    "x4 =seq(0,pi/6,dx4)\n",
    "\n",
    "f1 = cos(x1)\n",
    "f2 = cos(x2)\n",
    "f3 = cos(x3)\n",
    "f4 = cos(x4)\n",
    "\n",
    "x1 = sum(f1)*dx1\n",
    "x2 = sum(f2)*dx2\n",
    "x3 = sum(f3)*dx3\n",
    "x4 = sum(f4)*dx4\n",
    "\n",
    "data.frame(x1,x2,x3,x4)"
   ]
  },
  {
   "cell_type": "markdown",
   "metadata": {},
   "source": [
    "### 실습 1.2 다음 함수의 극한값 조사하시오."
   ]
  },
  {
   "cell_type": "markdown",
   "metadata": {},
   "source": [
    "$$ \\lim_{x \\to \\infty}(x+\\frac{1}{x})^x $$"
   ]
  },
  {
   "cell_type": "code",
   "execution_count": 32,
   "metadata": {},
   "outputs": [
    {
     "data": {
      "text/html": [
       "<ol class=list-inline>\n",
       "\t<li>2</li>\n",
       "\t<li>2.71436171594851</li>\n",
       "\t<li>2.71631633986155</li>\n",
       "\t<li>2.71697029103306</li>\n",
       "\t<li>2.71729772036743</li>\n",
       "\t<li>2.71749432341229</li>\n",
       "\t<li>2.71762545276671</li>\n",
       "\t<li>2.71771914631985</li>\n",
       "\t<li>2.71778943274747</li>\n",
       "\t<li>2.71784410961092</li>\n",
       "\t<li>2.71788785717759</li>\n",
       "\t<li>2.71792365465829</li>\n",
       "\t<li>2.71795348865652</li>\n",
       "\t<li>2.71797873476849</li>\n",
       "\t<li>2.71800037572341</li>\n",
       "\t<li>2.71801913228907</li>\n",
       "\t<li>2.71803554509826</li>\n",
       "\t<li>2.71805002761873</li>\n",
       "\t<li>2.71806290146536</li>\n",
       "\t<li>2.71807442056942</li>\n",
       "\t<li>2.71808478808118</li>\n",
       "\t<li>2.71809416847647</li>\n",
       "\t<li>2.71810269631746</li>\n",
       "\t<li>2.71811048279281</li>\n",
       "\t<li>2.71811762054333</li>\n",
       "\t<li>2.71812418739869</li>\n",
       "\t<li>2.71813024921833</li>\n",
       "\t<li>2.71813586211218</li>\n",
       "\t<li>2.71814107415795</li>\n",
       "\t<li>2.71814592682493</li>\n",
       "</ol>\n"
      ],
      "text/latex": [
       "\\begin{enumerate*}\n",
       "\\item 2\n",
       "\\item 2.71436171594851\n",
       "\\item 2.71631633986155\n",
       "\\item 2.71697029103306\n",
       "\\item 2.71729772036743\n",
       "\\item 2.71749432341229\n",
       "\\item 2.71762545276671\n",
       "\\item 2.71771914631985\n",
       "\\item 2.71778943274747\n",
       "\\item 2.71784410961092\n",
       "\\item 2.71788785717759\n",
       "\\item 2.71792365465829\n",
       "\\item 2.71795348865652\n",
       "\\item 2.71797873476849\n",
       "\\item 2.71800037572341\n",
       "\\item 2.71801913228907\n",
       "\\item 2.71803554509826\n",
       "\\item 2.71805002761873\n",
       "\\item 2.71806290146536\n",
       "\\item 2.71807442056942\n",
       "\\item 2.71808478808118\n",
       "\\item 2.71809416847647\n",
       "\\item 2.71810269631746\n",
       "\\item 2.71811048279281\n",
       "\\item 2.71811762054333\n",
       "\\item 2.71812418739869\n",
       "\\item 2.71813024921833\n",
       "\\item 2.71813586211218\n",
       "\\item 2.71814107415795\n",
       "\\item 2.71814592682493\n",
       "\\end{enumerate*}\n"
      ],
      "text/markdown": [
       "1. 2\n",
       "2. 2.71436171594851\n",
       "3. 2.71631633986155\n",
       "4. 2.71697029103306\n",
       "5. 2.71729772036743\n",
       "6. 2.71749432341229\n",
       "7. 2.71762545276671\n",
       "8. 2.71771914631985\n",
       "9. 2.71778943274747\n",
       "10. 2.71784410961092\n",
       "11. 2.71788785717759\n",
       "12. 2.71792365465829\n",
       "13. 2.71795348865652\n",
       "14. 2.71797873476849\n",
       "15. 2.71800037572341\n",
       "16. 2.71801913228907\n",
       "17. 2.71803554509826\n",
       "18. 2.71805002761873\n",
       "19. 2.71806290146536\n",
       "20. 2.71807442056942\n",
       "21. 2.71808478808118\n",
       "22. 2.71809416847647\n",
       "23. 2.71810269631746\n",
       "24. 2.71811048279281\n",
       "25. 2.71811762054333\n",
       "26. 2.71812418739869\n",
       "27. 2.71813024921833\n",
       "28. 2.71813586211218\n",
       "29. 2.71814107415795\n",
       "30. 2.71814592682493\n",
       "\n",
       "\n"
      ],
      "text/plain": [
       " [1] 2.000000 2.714362 2.716316 2.716970 2.717298 2.717494 2.717625 2.717719\n",
       " [9] 2.717789 2.717844 2.717888 2.717924 2.717953 2.717979 2.718000 2.718019\n",
       "[17] 2.718036 2.718050 2.718063 2.718074 2.718085 2.718094 2.718103 2.718110\n",
       "[25] 2.718118 2.718124 2.718130 2.718136 2.718141 2.718146"
      ]
     },
     "metadata": {},
     "output_type": "display_data"
    }
   ],
   "source": [
    "x = seq(1,10000, length.out=30)\n",
    "(1+1/x)^x"
   ]
  },
  {
   "cell_type": "markdown",
   "metadata": {},
   "source": [
    "### 실습 2.1 \n",
    "- 결측이 포함된 다음 자료 x=1, 2, NA, 4, 5, 6, 7, 8, NA, 110에서 다음을 계산하시오.\n",
    "\n",
    "1. 결측을 제외한 평균\n",
    "2. 결측을 평균으로 보정한 평균\n",
    "3. 위의 결과에서 이상치라고 판단되는 110을 제외한 평균을 계산하시오.\n"
   ]
  },
  {
   "cell_type": "code",
   "execution_count": 33,
   "metadata": {},
   "outputs": [
    {
     "data": {
      "text/html": [
       "17.875"
      ],
      "text/latex": [
       "17.875"
      ],
      "text/markdown": [
       "17.875"
      ],
      "text/plain": [
       "[1] 17.875"
      ]
     },
     "metadata": {},
     "output_type": "display_data"
    },
    {
     "data": {
      "text/html": [
       "7.63888888888889"
      ],
      "text/latex": [
       "7.63888888888889"
      ],
      "text/markdown": [
       "7.63888888888889"
      ],
      "text/plain": [
       "[1] 7.638889"
      ]
     },
     "metadata": {},
     "output_type": "display_data"
    },
    {
     "data": {
      "text/html": [
       "7.63888888888889"
      ],
      "text/latex": [
       "7.63888888888889"
      ],
      "text/markdown": [
       "7.63888888888889"
      ],
      "text/plain": [
       "[1] 7.638889"
      ]
     },
     "metadata": {},
     "output_type": "display_data"
    }
   ],
   "source": [
    "x = c(1, 2, NA, 4, 5, 6, 7, 8, NA, 110)\n",
    "\n",
    "# 결측을 평균으로 보정.\n",
    "y = mean(x, na.rm=T)\n",
    "x[is.na(x)] = y\n",
    "\n",
    "mean(x)\n",
    "mean(x[-10], na.rm=T)\n",
    "mean(subset(x, x<=y))"
   ]
  },
  {
   "cell_type": "code",
   "execution_count": 37,
   "metadata": {},
   "outputs": [
    {
     "data": {
      "text/html": [
       "17.875"
      ],
      "text/latex": [
       "17.875"
      ],
      "text/markdown": [
       "17.875"
      ],
      "text/plain": [
       "[1] 17.875"
      ]
     },
     "metadata": {},
     "output_type": "display_data"
    },
    {
     "data": {
      "text/html": [
       "15.4"
      ],
      "text/latex": [
       "15.4"
      ],
      "text/markdown": [
       "15.4"
      ],
      "text/plain": [
       "[1] 15.4"
      ]
     },
     "metadata": {},
     "output_type": "display_data"
    },
    {
     "data": {
      "text/html": [
       "4.88888888888889"
      ],
      "text/latex": [
       "4.88888888888889"
      ],
      "text/markdown": [
       "4.88888888888889"
      ],
      "text/plain": [
       "[1] 4.888889"
      ]
     },
     "metadata": {},
     "output_type": "display_data"
    }
   ],
   "source": [
    "x = c(1, 2, NA, 4, 5, 6, 7, 8, NA, 110)\n",
    "mean(x, na.rm=T)\n",
    "\n",
    "# 결측을 중앙값으로 보정.\n",
    "x[is.na(x)] = median(x, na.rm=T)\n",
    "\n",
    "mean(x)\n",
    "\n",
    "# mean(subset(x, x<10))\n",
    "mean(x[1:9], na.rm=T)"
   ]
  },
  {
   "cell_type": "markdown",
   "metadata": {},
   "source": [
    "### 실습 2.2 다음의 행렬의 역행렬을 구하시오.\n"
   ]
  },
  {
   "cell_type": "markdown",
   "metadata": {},
   "source": [
    "\\begin{pmatrix} 1 & 2 & 3 \\\\ 0 & 7 & 5 \\\\ 3 & 2 & 9 \\end{pmatrix} "
   ]
  },
  {
   "cell_type": "code",
   "execution_count": 43,
   "metadata": {},
   "outputs": [
    {
     "data": {
      "text/html": [
       "<table>\n",
       "<tbody>\n",
       "\t<tr><td> 2.65</td><td>-0.6 </td><td>-0.55</td></tr>\n",
       "\t<tr><td> 0.75</td><td> 0.0 </td><td>-0.25</td></tr>\n",
       "\t<tr><td>-1.05</td><td> 0.2 </td><td> 0.35</td></tr>\n",
       "</tbody>\n",
       "</table>\n"
      ],
      "text/latex": [
       "\\begin{tabular}{lll}\n",
       "\t  2.65 & -0.6  & -0.55\\\\\n",
       "\t  0.75 &  0.0  & -0.25\\\\\n",
       "\t -1.05 &  0.2  &  0.35\\\\\n",
       "\\end{tabular}\n"
      ],
      "text/markdown": [
       "\n",
       "|  2.65 | -0.6  | -0.55 |\n",
       "|  0.75 |  0.0  | -0.25 |\n",
       "| -1.05 |  0.2  |  0.35 |\n",
       "\n"
      ],
      "text/plain": [
       "     [,1]  [,2] [,3] \n",
       "[1,]  2.65 -0.6 -0.55\n",
       "[2,]  0.75  0.0 -0.25\n",
       "[3,] -1.05  0.2  0.35"
      ]
     },
     "metadata": {},
     "output_type": "display_data"
    }
   ],
   "source": [
    "a = c(1, 0, 3, 2, 7, 2, 3, 5, 9)\n",
    "A = matrix(a, 3, 3)\n",
    "round( solve(A), 3 )"
   ]
  }
 ],
 "metadata": {
  "kernelspec": {
   "display_name": "R",
   "language": "R",
   "name": "ir"
  },
  "language_info": {
   "codemirror_mode": "r",
   "file_extension": ".r",
   "mimetype": "text/x-r-source",
   "name": "R",
   "pygments_lexer": "r",
   "version": "3.6.1"
  }
 },
 "nbformat": 4,
 "nbformat_minor": 4
}
