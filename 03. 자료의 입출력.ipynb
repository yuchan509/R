{
 "cells": [
  {
   "cell_type": "markdown",
   "metadata": {},
   "source": [
    "#### 파일 읽기."
   ]
  },
  {
   "cell_type": "markdown",
   "metadata": {},
   "source": [
    "- setwd(' 파일 경로 ') : 파일 경로 설정.\n",
    "---\n",
    "- getwd() : 현재 경로.\n",
    "---\n",
    "- read.table() : 데이터 읽기.\n",
    "---\n",
    "- header : 자료의 1행이 변수명인 경우 True(T) 값 지정.\n",
    "---\n",
    "- colnames( data ) = c('변수명') : 변수명이 지정되지 않았거나, 수정할 경우 이용.\n",
    "---\n",
    "- sep : 파일 형식(구분자) 설정. \n",
    "---\n",
    "- skip : 불필요행(시작 부분) 제외.\n",
    "---\n",
    "- comment.char : 문서에 불필요한 행(주석) 제외.\n",
    "---\n",
    "- na.strings : 결측값 처리.\n",
    "---\n",
    "- read.csv(), read_excel(), read_sas(), read_spss() 등 여러가지 확장자에 따른 읽기 함수 존재.\n",
    "---\n",
    "* list.files('파일 경로') :  파일 목록을 가져옴.\n",
    "    * list.files('하위 폴더') : 작업 폴더 내의 하위 영역의 파일 목록을 가져올 수 있음.\n",
    "    * list.files('특정 폴더', pattern='문자') : 특정 문자가 포함된 파일명만 가져올 수도 있음.\n",
    "    * list.files(full.names=T) : 하위 폴더가 포함된 경로를 포함한 파일명을 불러옴.\n",
    "---    \n",
    "- list.dirs('폴더 경로') :  파일 목록을 가져옴."
   ]
  },
  {
   "cell_type": "markdown",
   "metadata": {},
   "source": [
    "#### 반복문을 통한 폴더 내의 모든 파일을 병합."
   ]
  },
  {
   "cell_type": "code",
   "execution_count": 3,
   "metadata": {},
   "outputs": [
    {
     "data": {
      "text/html": [
       "<ol class=list-inline>\n",
       "\t<li>300</li>\n",
       "\t<li>3</li>\n",
       "</ol>\n"
      ],
      "text/latex": [
       "\\begin{enumerate*}\n",
       "\\item 300\n",
       "\\item 3\n",
       "\\end{enumerate*}\n"
      ],
      "text/markdown": [
       "1. 300\n",
       "2. 3\n",
       "\n",
       "\n"
      ],
      "text/plain": [
       "[1] 300   3"
      ]
     },
     "metadata": {},
     "output_type": "display_data"
    }
   ],
   "source": [
    "fn = list.files(\"DATA_C3/DATAS\", pattern = 'data', full.names = T)\n",
    "Data_a = data.frame()\n",
    "\n",
    "for (i in 1 : length(fn)){\n",
    "    data_i = read.csv(fn[i])\n",
    "    Data_a = rbind(Data_a, data_i)\n",
    "}\n",
    "dim(Data_a)"
   ]
  },
  {
   "cell_type": "markdown",
   "metadata": {},
   "source": [
    "#### 파일 쓰기."
   ]
  },
  {
   "cell_type": "markdown",
   "metadata": {},
   "source": [
    "- wirte.table(데이터명, '파일명')\n",
    "---\n",
    "- sep : 구분자 지정.\n",
    "---\n",
    "- na : 결측값 지정.\n",
    "---\n",
    "- row.names : 행 이름 포함.(T/F)\n",
    "---\n",
    "- col.names : 열 이름 지정.\n",
    "---\n",
    "- wirte.csv() 도 동일한 방식으로 사용."
   ]
  },
  {
   "cell_type": "markdown",
   "metadata": {},
   "source": [
    "#### 실습 1.1 DATA_PRACTICE.csv 파일을 불러와서 다음의 작업을 수행하시오.\n",
    "- 1열은 SEASON, 2열은 PROTEIN으로 변수명을 지정하시오.\n",
    "- 9999 값은 결측값으로 처리할 것.\n",
    "- SEASON이 3인 경우, PROTEIN의 평균을 계산하시오.(결측은 제외)"
   ]
  },
  {
   "cell_type": "code",
   "execution_count": 25,
   "metadata": {},
   "outputs": [
    {
     "data": {
      "text/html": [
       "20.8193965517241"
      ],
      "text/latex": [
       "20.8193965517241"
      ],
      "text/markdown": [
       "20.8193965517241"
      ],
      "text/plain": [
       "[1] 20.8194"
      ]
     },
     "metadata": {},
     "output_type": "display_data"
    }
   ],
   "source": [
    "data = read.csv('DATA_C3/DATA_PRACTICE.csv',na.strings = 9999, \n",
    "                comment.char = '%')\n",
    "colnames(data) = c('SEASON', 'PROTEIN')\n",
    "mean(data$PROTEIN[data$SEASON==3], na.rm=T)"
   ]
  },
  {
   "cell_type": "markdown",
   "metadata": {},
   "source": [
    "#### 실습 1.2 SEASON_3 폴더의 파일들을 하나의 파일로 병합하시오."
   ]
  },
  {
   "cell_type": "code",
   "execution_count": 35,
   "metadata": {},
   "outputs": [
    {
     "data": {
      "text/html": [
       "<ol class=list-inline>\n",
       "\t<li>'DATA_C3/SEASON_3/M-1.csv'</li>\n",
       "\t<li>'DATA_C3/SEASON_3/M-2.csv'</li>\n",
       "\t<li>'DATA_C3/SEASON_3/M-3.csv'</li>\n",
       "\t<li>'DATA_C3/SEASON_3/M-4.csv'</li>\n",
       "</ol>\n"
      ],
      "text/latex": [
       "\\begin{enumerate*}\n",
       "\\item 'DATA\\_C3/SEASON\\_3/M-1.csv'\n",
       "\\item 'DATA\\_C3/SEASON\\_3/M-2.csv'\n",
       "\\item 'DATA\\_C3/SEASON\\_3/M-3.csv'\n",
       "\\item 'DATA\\_C3/SEASON\\_3/M-4.csv'\n",
       "\\end{enumerate*}\n"
      ],
      "text/markdown": [
       "1. 'DATA_C3/SEASON_3/M-1.csv'\n",
       "2. 'DATA_C3/SEASON_3/M-2.csv'\n",
       "3. 'DATA_C3/SEASON_3/M-3.csv'\n",
       "4. 'DATA_C3/SEASON_3/M-4.csv'\n",
       "\n",
       "\n"
      ],
      "text/plain": [
       "[1] \"DATA_C3/SEASON_3/M-1.csv\" \"DATA_C3/SEASON_3/M-2.csv\"\n",
       "[3] \"DATA_C3/SEASON_3/M-3.csv\" \"DATA_C3/SEASON_3/M-4.csv\""
      ]
     },
     "metadata": {},
     "output_type": "display_data"
    },
    {
     "data": {
      "text/html": [
       "<ol class=list-inline>\n",
       "\t<li>110</li>\n",
       "\t<li>5</li>\n",
       "</ol>\n"
      ],
      "text/latex": [
       "\\begin{enumerate*}\n",
       "\\item 110\n",
       "\\item 5\n",
       "\\end{enumerate*}\n"
      ],
      "text/markdown": [
       "1. 110\n",
       "2. 5\n",
       "\n",
       "\n"
      ],
      "text/plain": [
       "[1] 110   5"
      ]
     },
     "metadata": {},
     "output_type": "display_data"
    },
    {
     "data": {
      "text/html": [
       "<table>\n",
       "<thead><tr><th scope=col>GROUP</th><th scope=col>SEASON</th><th scope=col>MOISTURE</th><th scope=col>LIPID</th><th scope=col>PROTEIN</th></tr></thead>\n",
       "<tbody>\n",
       "\t<tr><td>M-1      </td><td>3        </td><td>68.79    </td><td>10.542095</td><td>  20.94  </td></tr>\n",
       "\t<tr><td>M-1      </td><td>3        </td><td>70.91    </td><td> 7.084225</td><td>9999.00  </td></tr>\n",
       "\t<tr><td>M-1      </td><td>3        </td><td>68.04    </td><td> 9.839588</td><td>  22.87  </td></tr>\n",
       "\t<tr><td>M-1      </td><td>3        </td><td>67.08    </td><td>10.441647</td><td>  21.99  </td></tr>\n",
       "\t<tr><td>M-1      </td><td>3        </td><td>67.11    </td><td>10.666334</td><td>9999.00  </td></tr>\n",
       "\t<tr><td>M-1      </td><td>3        </td><td>73.07    </td><td> 4.047251</td><td>  22.29  </td></tr>\n",
       "</tbody>\n",
       "</table>\n"
      ],
      "text/latex": [
       "\\begin{tabular}{r|lllll}\n",
       " GROUP & SEASON & MOISTURE & LIPID & PROTEIN\\\\\n",
       "\\hline\n",
       "\t M-1       & 3         & 68.79     & 10.542095 &   20.94  \\\\\n",
       "\t M-1       & 3         & 70.91     &  7.084225 & 9999.00  \\\\\n",
       "\t M-1       & 3         & 68.04     &  9.839588 &   22.87  \\\\\n",
       "\t M-1       & 3         & 67.08     & 10.441647 &   21.99  \\\\\n",
       "\t M-1       & 3         & 67.11     & 10.666334 & 9999.00  \\\\\n",
       "\t M-1       & 3         & 73.07     &  4.047251 &   22.29  \\\\\n",
       "\\end{tabular}\n"
      ],
      "text/markdown": [
       "\n",
       "| GROUP | SEASON | MOISTURE | LIPID | PROTEIN |\n",
       "|---|---|---|---|---|\n",
       "| M-1       | 3         | 68.79     | 10.542095 |   20.94   |\n",
       "| M-1       | 3         | 70.91     |  7.084225 | 9999.00   |\n",
       "| M-1       | 3         | 68.04     |  9.839588 |   22.87   |\n",
       "| M-1       | 3         | 67.08     | 10.441647 |   21.99   |\n",
       "| M-1       | 3         | 67.11     | 10.666334 | 9999.00   |\n",
       "| M-1       | 3         | 73.07     |  4.047251 |   22.29   |\n",
       "\n"
      ],
      "text/plain": [
       "  GROUP SEASON MOISTURE LIPID     PROTEIN\n",
       "1 M-1   3      68.79    10.542095   20.94\n",
       "2 M-1   3      70.91     7.084225 9999.00\n",
       "3 M-1   3      68.04     9.839588   22.87\n",
       "4 M-1   3      67.08    10.441647   21.99\n",
       "5 M-1   3      67.11    10.666334 9999.00\n",
       "6 M-1   3      73.07     4.047251   22.29"
      ]
     },
     "metadata": {},
     "output_type": "display_data"
    },
    {
     "data": {
      "text/html": [
       "<table>\n",
       "<thead><tr><th></th><th scope=col>GROUP</th><th scope=col>SEASON</th><th scope=col>MOISTURE</th><th scope=col>LIPID</th><th scope=col>PROTEIN</th></tr></thead>\n",
       "<tbody>\n",
       "\t<tr><th scope=row>105</th><td>M-4     </td><td>3       </td><td>74.22   </td><td>3.803098</td><td>19.98   </td></tr>\n",
       "\t<tr><th scope=row>106</th><td>M-4     </td><td>3       </td><td>74.77   </td><td>3.643160</td><td>21.25   </td></tr>\n",
       "\t<tr><th scope=row>107</th><td>M-4     </td><td>3       </td><td>74.60   </td><td>3.561112</td><td>20.09   </td></tr>\n",
       "\t<tr><th scope=row>108</th><td>M-4     </td><td>3       </td><td>71.58   </td><td>7.198482</td><td>19.84   </td></tr>\n",
       "\t<tr><th scope=row>109</th><td>M-4     </td><td>3       </td><td>72.43   </td><td>6.865582</td><td>20.10   </td></tr>\n",
       "\t<tr><th scope=row>110</th><td>M-4     </td><td>3       </td><td>71.83   </td><td>6.895693</td><td>20.10   </td></tr>\n",
       "</tbody>\n",
       "</table>\n"
      ],
      "text/latex": [
       "\\begin{tabular}{r|lllll}\n",
       "  & GROUP & SEASON & MOISTURE & LIPID & PROTEIN\\\\\n",
       "\\hline\n",
       "\t105 & M-4      & 3        & 74.22    & 3.803098 & 19.98   \\\\\n",
       "\t106 & M-4      & 3        & 74.77    & 3.643160 & 21.25   \\\\\n",
       "\t107 & M-4      & 3        & 74.60    & 3.561112 & 20.09   \\\\\n",
       "\t108 & M-4      & 3        & 71.58    & 7.198482 & 19.84   \\\\\n",
       "\t109 & M-4      & 3        & 72.43    & 6.865582 & 20.10   \\\\\n",
       "\t110 & M-4      & 3        & 71.83    & 6.895693 & 20.10   \\\\\n",
       "\\end{tabular}\n"
      ],
      "text/markdown": [
       "\n",
       "| <!--/--> | GROUP | SEASON | MOISTURE | LIPID | PROTEIN |\n",
       "|---|---|---|---|---|---|\n",
       "| 105 | M-4      | 3        | 74.22    | 3.803098 | 19.98    |\n",
       "| 106 | M-4      | 3        | 74.77    | 3.643160 | 21.25    |\n",
       "| 107 | M-4      | 3        | 74.60    | 3.561112 | 20.09    |\n",
       "| 108 | M-4      | 3        | 71.58    | 7.198482 | 19.84    |\n",
       "| 109 | M-4      | 3        | 72.43    | 6.865582 | 20.10    |\n",
       "| 110 | M-4      | 3        | 71.83    | 6.895693 | 20.10    |\n",
       "\n"
      ],
      "text/plain": [
       "    GROUP SEASON MOISTURE LIPID    PROTEIN\n",
       "105 M-4   3      74.22    3.803098 19.98  \n",
       "106 M-4   3      74.77    3.643160 21.25  \n",
       "107 M-4   3      74.60    3.561112 20.09  \n",
       "108 M-4   3      71.58    7.198482 19.84  \n",
       "109 M-4   3      72.43    6.865582 20.10  \n",
       "110 M-4   3      71.83    6.895693 20.10  "
      ]
     },
     "metadata": {},
     "output_type": "display_data"
    }
   ],
   "source": [
    "fn = list.files(\"DATA_C3/SEASON_3\", full.names = T)\n",
    "Data = data.frame()\n",
    "fn\n",
    "\n",
    "for (i in 1 : length(fn)){\n",
    "    data_i = read.csv(fn[i])\n",
    "    Data   = rbind(Data, data_i)\n",
    "}\n",
    "dim(Data)\n",
    "head(Data)\n",
    "tail(Data)"
   ]
  },
  {
   "cell_type": "markdown",
   "metadata": {},
   "source": [
    "#### 실습 1.3 실습 1.2에서 작성한 파일을 다음의 규칙에 맞게 저장하시오.\n",
    "- csv 파일 형식.\n",
    "- 결측값은 -999로 지정.\n",
    "- 행이름 제거, 열이름 포함."
   ]
  },
  {
   "cell_type": "code",
   "execution_count": 37,
   "metadata": {},
   "outputs": [],
   "source": [
    "write.csv('Data', 'test_data', row.names=F, na='-999')"
   ]
  }
 ],
 "metadata": {
  "kernelspec": {
   "display_name": "R",
   "language": "R",
   "name": "ir"
  },
  "language_info": {
   "codemirror_mode": "r",
   "file_extension": ".r",
   "mimetype": "text/x-r-source",
   "name": "R",
   "pygments_lexer": "r",
   "version": "3.6.1"
  }
 },
 "nbformat": 4,
 "nbformat_minor": 4
}
