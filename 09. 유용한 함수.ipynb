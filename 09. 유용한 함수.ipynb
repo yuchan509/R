{
 "cells": [
  {
   "cell_type": "markdown",
   "metadata": {},
   "source": [
    "#### seed\n",
    "* set.seed() : R에서 seed를 사용자가 고정할 수 있는 함수.\n",
    "* R에서 난수를 생성할 때 난수를 결정하는 수.\n",
    "* 기본적으로 R은 seed를 변경하면서 매번 새로운 난수를 생성.\n",
    "* R에서 분포값을 생성하거나 sample 함수 등을 활용할 때 적용.\n",
    "* 만약 seed를 고정할 수 있다면 매번 동일한 난수 생성이 가능."
   ]
  },
  {
   "cell_type": "markdown",
   "metadata": {},
   "source": [
    "#### Itertaion Computation"
   ]
  },
  {
   "cell_type": "code",
   "execution_count": 9,
   "metadata": {},
   "outputs": [
    {
     "data": {
      "text/plain": [
       "   user  system elapsed \n",
       "   3.41    0.00    3.41 "
      ]
     },
     "metadata": {},
     "output_type": "display_data"
    }
   ],
   "source": [
    "# 행렬에서 열들의 합을 계산하는 과정의 시간을 알아보도록 하자.\n",
    "# 행렬 10000 by 10000을 만들고 , colsims에 10000개의 결측을 만듬.\n",
    "big_matrix = matrix(1:100000000, nrow=10000)\n",
    "colsums = rep(NA,dim(big.matrix)[2])\n",
    " \n",
    "system.time( {\n",
    "for(i in 1:dim(big.matrix)[2]){\n",
    "    s = 0\n",
    "    for (j in 1:dim(big.matrix)[1]){\n",
    "        s = s+big.matrix[j,i]\n",
    "    }\n",
    "}\n",
    "} )"
   ]
  },
  {
   "cell_type": "code",
   "execution_count": 10,
   "metadata": {},
   "outputs": [
    {
     "data": {
      "text/plain": [
       "   user  system elapsed \n",
       "   0.48    0.04    0.51 "
      ]
     },
     "metadata": {},
     "output_type": "display_data"
    }
   ],
   "source": [
    "system.time(colsums <- apply(big_matrix, 2, sum))"
   ]
  },
  {
   "cell_type": "code",
   "execution_count": 6,
   "metadata": {},
   "outputs": [
    {
     "data": {
      "text/plain": [
       "   user  system elapsed \n",
       "   0.21    0.18    0.37 "
      ]
     },
     "metadata": {},
     "output_type": "display_data"
    }
   ],
   "source": [
    "system.time(for (i in 1:dim(big.matrix)[2]) {colsums[i]=sum(big.matrix[,i])})"
   ]
  },
  {
   "cell_type": "code",
   "execution_count": 11,
   "metadata": {},
   "outputs": [
    {
     "data": {
      "text/plain": [
       "   user  system elapsed \n",
       "   0.08    0.00    0.07 "
      ]
     },
     "metadata": {},
     "output_type": "display_data"
    }
   ],
   "source": [
    "# 가장 빠름. \n",
    "# 경우에 따라 = 으로 인식 되지 않은 부분이 존재. 그럴 경우 <- 를 이용.\n",
    "system.time(colsums <- colSums(big.matrix)) "
   ]
  },
  {
   "cell_type": "markdown",
   "metadata": {},
   "source": [
    "#### Newton - Raphson\n",
    "- 미분가능한 함수의 도함수를 활용하여 해의 탐색을 함.\n",
    "- 반복을 통하여 해를 찾아내는 가장 기본적인 방법 중 하나."
   ]
  },
  {
   "cell_type": "code",
   "execution_count": 12,
   "metadata": {},
   "outputs": [
    {
     "data": {
      "text/html": [
       "<ol class=list-inline>\n",
       "\t<li>1.26894142137</li>\n",
       "\t<li>1.30910840327402</li>\n",
       "\t<li>1.30979938866897</li>\n",
       "\t<li>1.30979958580413</li>\n",
       "\t<li>1.30979958580415</li>\n",
       "</ol>\n"
      ],
      "text/latex": [
       "\\begin{enumerate*}\n",
       "\\item 1.26894142137\n",
       "\\item 1.30910840327402\n",
       "\\item 1.30979938866897\n",
       "\\item 1.30979958580413\n",
       "\\item 1.30979958580415\n",
       "\\end{enumerate*}\n"
      ],
      "text/markdown": [
       "1. 1.26894142137\n",
       "2. 1.30910840327402\n",
       "3. 1.30979938866897\n",
       "4. 1.30979958580413\n",
       "5. 1.30979958580415\n",
       "\n",
       "\n"
      ],
      "text/plain": [
       "[1] 1.268941 1.309108 1.309799 1.309800 1.309800"
      ]
     },
     "metadata": {},
     "output_type": "display_data"
    }
   ],
   "source": [
    "f = function(x) log(x)-exp(-x)\n",
    "df = function(x) (1/x)+exp(-x)\n",
    "newton = function(f, df, tol = 1e-7, x0 = 1, N = 300){\n",
    "i = 1\n",
    "x1 = x0\n",
    "p = numeric(N)\n",
    "while(i <= N){\n",
    "x1 = (x0 - (f(x0) / df(x0)))\n",
    "p[i] = x1\n",
    "i = i+1\n",
    "if(abs((x1 - x0)/x0) < tol) break\n",
    "x0 = x1\n",
    "}\n",
    "return(p[1:(i - 1)])\n",
    "}\n",
    "newton(f, df)"
   ]
  },
  {
   "cell_type": "code",
   "execution_count": 13,
   "metadata": {},
   "outputs": [
    {
     "name": "stdout",
     "output_type": "stream",
     "text": [
      "At iteration 1 value of x is: 0.2624136 \n",
      "At iteration 2 value of x is: 0.7224658 \n",
      "At iteration 3 value of x is: 1.156032 \n",
      "At iteration 4 value of x is: 1.299908 \n",
      "At iteration 5 value of x is: 1.309759 \n",
      "At iteration 6 value of x is: 1.3098 \n"
     ]
    }
   ],
   "source": [
    "newrap = function(f2, x0, tol=1e-6, max.iter=100){\n",
    "    x = x0\n",
    "    f2.x = f2(x)\n",
    "    iter = 0\n",
    "    \n",
    "    while(abs(f2.x[1]) > tol & (iter < max.iter)){\n",
    "    x = x-(f2.x[1]/f2.x[2])\n",
    "    f2.x = f2(x)\n",
    "    iter = iter+1\n",
    "    cat(\"At iteration\", iter, \"value of x is:\", x, \"\\n\")\n",
    "    }\n",
    "}\n",
    "\n",
    "fx =  function(x){\n",
    "    fx = log(x)-exp(-x)\n",
    "    dfx = 1/x + exp(-x)\n",
    "    return(c(fx, dfx))\n",
    "}\n",
    "newrap(fx,3)"
   ]
  },
  {
   "cell_type": "markdown",
   "metadata": {},
   "source": [
    "#### Differntiation"
   ]
  },
  {
   "cell_type": "code",
   "execution_count": 17,
   "metadata": {},
   "outputs": [
    {
     "data": {
      "text/plain": [
       "2 * x + 3"
      ]
     },
     "metadata": {},
     "output_type": "display_data"
    },
    {
     "data": {
      "text/html": [
       "2"
      ],
      "text/latex": [
       "2"
      ],
      "text/markdown": [
       "2"
      ],
      "text/plain": [
       "[1] 2"
      ]
     },
     "metadata": {},
     "output_type": "display_data"
    },
    {
     "data": {
      "text/html": [
       "0"
      ],
      "text/latex": [
       "0"
      ],
      "text/markdown": [
       "0"
      ],
      "text/plain": [
       "[1] 0"
      ]
     },
     "metadata": {},
     "output_type": "display_data"
    }
   ],
   "source": [
    "# D() 함수를 활용한 도함수 계산.\n",
    "f = expression(x^2+3*x)\n",
    "\n",
    "# 미분.\n",
    "D(f, 'x')\n",
    "\n",
    "# 두번 미분.\n",
    "dfx = D(D(f, 'x'), 'x')\n",
    "dfx \n",
    "\n",
    "# 세번 미분.\n",
    "dfx2 = D(dfx, 'x')\n",
    "dfx2"
   ]
  },
  {
   "cell_type": "markdown",
   "metadata": {},
   "source": [
    "#### Integrate"
   ]
  },
  {
   "cell_type": "code",
   "execution_count": 19,
   "metadata": {},
   "outputs": [
    {
     "data": {
      "text/plain": [
       "0.5 with absolute error < 5.6e-15"
      ]
     },
     "metadata": {},
     "output_type": "display_data"
    }
   ],
   "source": [
    "integrate(cos, 0, pi/6)"
   ]
  },
  {
   "cell_type": "markdown",
   "metadata": {},
   "source": [
    "#### 실습 1.1 여러 방법으로 s값을 계산하고, 시간을 비교하시오."
   ]
  },
  {
   "cell_type": "code",
   "execution_count": 22,
   "metadata": {},
   "outputs": [
    {
     "data": {
      "text/plain": [
       "   user  system elapsed \n",
       "   0.17    0.00    0.17 "
      ]
     },
     "metadata": {},
     "output_type": "display_data"
    },
    {
     "data": {
      "text/plain": [
       "   user  system elapsed \n",
       "   0.97    0.00    0.97 "
      ]
     },
     "metadata": {},
     "output_type": "display_data"
    },
    {
     "data": {
      "text/plain": [
       "   user  system elapsed \n",
       "      0       0       0 "
      ]
     },
     "metadata": {},
     "output_type": "display_data"
    }
   ],
   "source": [
    "sums = rep(NA, 1000000)\n",
    "is = 1:1000000\n",
    "\n",
    "# 1번째 방법.\n",
    "system.time({\n",
    "    s = 0\n",
    "    for(i in is){\n",
    "    s = s+exp(i^(1/i))\n",
    "    }\n",
    "})\n",
    "\n",
    "\n",
    "ft = function(x) exp(x^(1/x))\n",
    "\n",
    "# 2번째 방법.\n",
    "system.time(sums <- sum(sapply(is, ft)))\n",
    "\n",
    "# 3번째 방법. \n",
    "system.time(sums2 <- sum(exp(i^(1/i))))"
   ]
  }
 ],
 "metadata": {
  "kernelspec": {
   "display_name": "R",
   "language": "R",
   "name": "ir"
  },
  "language_info": {
   "codemirror_mode": "r",
   "file_extension": ".r",
   "mimetype": "text/x-r-source",
   "name": "R",
   "pygments_lexer": "r",
   "version": "3.6.1"
  }
 },
 "nbformat": 4,
 "nbformat_minor": 4
}
