{
 "cells": [
  {
   "cell_type": "markdown",
   "metadata": {},
   "source": [
    "#### DATA_001 데이터에서 다음의 작업을 수행하시오.\n",
    "- A군과 B군에 대한 독립표본 t-검정을 수행하여 다음의 표를 작성하시오.\n",
    "- 1 ~ 4까지의 TYPE에 대하여 다음의 95% 신뢰구간을 계산하시오."
   ]
  },
  {
   "cell_type": "code",
   "execution_count": 1,
   "metadata": {},
   "outputs": [
    {
     "data": {
      "text/html": [
       "<table>\n",
       "<thead><tr><th scope=col>GROUP</th><th scope=col>POINT</th><th scope=col>TYPE</th></tr></thead>\n",
       "<tbody>\n",
       "\t<tr><td>A        </td><td> 9.481191</td><td>3        </td></tr>\n",
       "\t<tr><td>A        </td><td>12.906092</td><td>2        </td></tr>\n",
       "\t<tr><td>A        </td><td>11.187425</td><td>3        </td></tr>\n",
       "\t<tr><td>A        </td><td> 9.272283</td><td>4        </td></tr>\n",
       "\t<tr><td>A        </td><td> 9.249437</td><td>2        </td></tr>\n",
       "\t<tr><td>A        </td><td>11.178074</td><td>2        </td></tr>\n",
       "</tbody>\n",
       "</table>\n"
      ],
      "text/latex": [
       "\\begin{tabular}{r|lll}\n",
       " GROUP & POINT & TYPE\\\\\n",
       "\\hline\n",
       "\t A         &  9.481191 & 3        \\\\\n",
       "\t A         & 12.906092 & 2        \\\\\n",
       "\t A         & 11.187425 & 3        \\\\\n",
       "\t A         &  9.272283 & 4        \\\\\n",
       "\t A         &  9.249437 & 2        \\\\\n",
       "\t A         & 11.178074 & 2        \\\\\n",
       "\\end{tabular}\n"
      ],
      "text/markdown": [
       "\n",
       "| GROUP | POINT | TYPE |\n",
       "|---|---|---|\n",
       "| A         |  9.481191 | 3         |\n",
       "| A         | 12.906092 | 2         |\n",
       "| A         | 11.187425 | 3         |\n",
       "| A         |  9.272283 | 4         |\n",
       "| A         |  9.249437 | 2         |\n",
       "| A         | 11.178074 | 2         |\n",
       "\n"
      ],
      "text/plain": [
       "  GROUP POINT     TYPE\n",
       "1 A      9.481191 3   \n",
       "2 A     12.906092 2   \n",
       "3 A     11.187425 3   \n",
       "4 A      9.272283 4   \n",
       "5 A      9.249437 2   \n",
       "6 A     11.178074 2   "
      ]
     },
     "metadata": {},
     "output_type": "display_data"
    },
    {
     "data": {
      "text/html": [
       "<table>\n",
       "<thead><tr><th></th><th scope=col>MEAN</th><th scope=col>SD</th><th scope=col>t</th><th scope=col>p</th></tr></thead>\n",
       "<tbody>\n",
       "\t<tr><th scope=row>A</th><td>10.18 </td><td>1.92  </td><td>-1.214</td><td>0.226 </td></tr>\n",
       "\t<tr><th scope=row>B</th><td>10.52 </td><td>1.99  </td><td>    NA</td><td>   NA </td></tr>\n",
       "</tbody>\n",
       "</table>\n"
      ],
      "text/latex": [
       "\\begin{tabular}{r|llll}\n",
       "  & MEAN & SD & t & p\\\\\n",
       "\\hline\n",
       "\tA & 10.18  & 1.92   & -1.214 & 0.226 \\\\\n",
       "\tB & 10.52  & 1.99   &     NA &    NA \\\\\n",
       "\\end{tabular}\n"
      ],
      "text/markdown": [
       "\n",
       "| <!--/--> | MEAN | SD | t | p |\n",
       "|---|---|---|---|---|\n",
       "| A | 10.18  | 1.92   | -1.214 | 0.226  |\n",
       "| B | 10.52  | 1.99   |     NA |    NA  |\n",
       "\n"
      ],
      "text/plain": [
       "  MEAN  SD   t      p    \n",
       "A 10.18 1.92 -1.214 0.226\n",
       "B 10.52 1.99     NA    NA"
      ]
     },
     "metadata": {},
     "output_type": "display_data"
    }
   ],
   "source": [
    "# 데이터 읽기.\n",
    "data = read.table('DATA_C3/DATA_001.csv', header = T, sep=\",\")\n",
    "head(data)\n",
    "\n",
    "# 데이터 나누기.\n",
    "A_data = data[data$GROUP == 'A',]\n",
    "B_data = data[data$GROUP == 'B',]\n",
    "\n",
    "# 독립표본 t 검정.\n",
    "test = t.test(A_data$POINT, B_data$POINT)\n",
    "\n",
    "# 정보.\n",
    "MEAN = round(tapply(data$POINT, data$GROUP, mean), 2)\n",
    "SD = round(tapply(data$POINT, data$GROUP, sd), 2)\n",
    "p = round(test$p.value, 3)\n",
    "t = round(test$statistic, 3)\n",
    "\n",
    "# 결합.\n",
    "A = cbind(MEAN[1], SD[1], t, p)\n",
    "B = cbind(MEAN[2], SD[2], NA, NA)\n",
    "Data = rbind(A, B)\n",
    "colnames(Data) = c('MEAN', 'SD', 't','p')\n",
    "Data"
   ]
  },
  {
   "cell_type": "code",
   "execution_count": 24,
   "metadata": {},
   "outputs": [
    {
     "data": {
      "text/html": [
       "<table>\n",
       "<thead><tr><th scope=col></th><th scope=col>Mean</th><th scope=col>lower</th><th scope=col>upper</th></tr></thead>\n",
       "<tbody>\n",
       "\t<tr><td>TYPE1   </td><td>10.29881</td><td>9.76212 </td><td>10.83551</td></tr>\n",
       "\t<tr><td>TYPE2   </td><td>10.25463</td><td>9.72356 </td><td>10.7857 </td></tr>\n",
       "\t<tr><td>TYPE3   </td><td>10.55499</td><td>10.00254</td><td>11.10744</td></tr>\n",
       "\t<tr><td>TYPE4   </td><td>10.26921</td><td>9.64917 </td><td>10.88926</td></tr>\n",
       "</tbody>\n",
       "</table>\n"
      ],
      "text/latex": [
       "\\begin{tabular}{r|llll}\n",
       "  & Mean & lower & upper\\\\\n",
       "\\hline\n",
       "\t TYPE1    & 10.29881 & 9.76212  & 10.83551\\\\\n",
       "\t TYPE2    & 10.25463 & 9.72356  & 10.7857 \\\\\n",
       "\t TYPE3    & 10.55499 & 10.00254 & 11.10744\\\\\n",
       "\t TYPE4    & 10.26921 & 9.64917  & 10.88926\\\\\n",
       "\\end{tabular}\n"
      ],
      "text/markdown": [
       "\n",
       "|  | Mean | lower | upper |\n",
       "|---|---|---|---|\n",
       "| TYPE1    | 10.29881 | 9.76212  | 10.83551 |\n",
       "| TYPE2    | 10.25463 | 9.72356  | 10.7857  |\n",
       "| TYPE3    | 10.55499 | 10.00254 | 11.10744 |\n",
       "| TYPE4    | 10.26921 | 9.64917  | 10.88926 |\n",
       "\n"
      ],
      "text/plain": [
       "        Mean     lower    upper   \n",
       "1 TYPE1 10.29881 9.76212  10.83551\n",
       "2 TYPE2 10.25463 9.72356  10.7857 \n",
       "3 TYPE3 10.55499 10.00254 11.10744\n",
       "4 TYPE4 10.26921 9.64917  10.88926"
      ]
     },
     "metadata": {},
     "output_type": "display_data"
    }
   ],
   "source": [
    "# Mean.\n",
    "Mean = round(tapply(data$POINT, data$TYPE, mean), 5)\n",
    "\n",
    "# 신뢰구간 for문을 통해 구하기.\n",
    "confi = tapply(data$POINT, data$TYPE, t.test)\n",
    "lower = list()\n",
    "upper = list()\n",
    "for (i in 1 : 4){\n",
    "    lower[[i]] = round(confi[[i]]$conf.int[1], 5)\n",
    "    upper[[i]] = round(confi[[i]]$conf.int[2], 5)\n",
    "}\n",
    "name1 = c('TYPE1', 'TYPE2','TYPE3','TYPE4')\n",
    "data1 = cbind(name1 ,Mean, lower, upper)\n",
    "colnames(data1) = c('', 'Mean', 'lower', 'upper')\n",
    "data1"
   ]
  }
 ],
 "metadata": {
  "kernelspec": {
   "display_name": "R",
   "language": "R",
   "name": "ir"
  },
  "language_info": {
   "codemirror_mode": "r",
   "file_extension": ".r",
   "mimetype": "text/x-r-source",
   "name": "R",
   "pygments_lexer": "r",
   "version": "3.6.1"
  }
 },
 "nbformat": 4,
 "nbformat_minor": 4
}
