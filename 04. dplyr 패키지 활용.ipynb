{
 "cells": [
  {
   "cell_type": "code",
   "execution_count": 8,
   "metadata": {},
   "outputs": [],
   "source": [
    "# 설치.\n",
    "# install.packages(\"dplyr\")\n",
    "library(dplyr)"
   ]
  },
  {
   "cell_type": "markdown",
   "metadata": {},
   "source": [
    "- < dplyr의 기본 함수 >\n",
    "\n",
    "    * filter : 지정한 조건에 맞는 데이터 추출\n",
    "    * select : 열의 추출\n",
    "    * mutate : 열 추가\n",
    "    * arrange : 정렬\n",
    "    * summaraise : 집계"
   ]
  },
  {
   "cell_type": "code",
   "execution_count": 5,
   "metadata": {},
   "outputs": [
    {
     "data": {
      "text/html": [
       "'C:/Users/pnu/R -data analysis'"
      ],
      "text/latex": [
       "'C:/Users/pnu/R -data analysis'"
      ],
      "text/markdown": [
       "'C:/Users/pnu/R -data analysis'"
      ],
      "text/plain": [
       "[1] \"C:/Users/pnu/R -data analysis\""
      ]
     },
     "metadata": {},
     "output_type": "display_data"
    }
   ],
   "source": [
    "getwd()"
   ]
  },
  {
   "cell_type": "code",
   "execution_count": 6,
   "metadata": {
    "scrolled": true
   },
   "outputs": [
    {
     "data": {
      "text/html": [
       "<table>\n",
       "<thead><tr><th scope=col>GROUP</th><th scope=col>SEASON</th><th scope=col>MOISTURE</th><th scope=col>LIPID</th><th scope=col>PROTEIN</th></tr></thead>\n",
       "<tbody>\n",
       "\t<tr><td>M-1      </td><td>3        </td><td>68.79    </td><td>10.542095</td><td>20.94    </td></tr>\n",
       "\t<tr><td>M-1      </td><td>3        </td><td>68.64    </td><td>10.891383</td><td>21.26    </td></tr>\n",
       "\t<tr><td>M-1      </td><td>3        </td><td>68.75    </td><td> 9.960100</td><td>18.77    </td></tr>\n",
       "\t<tr><td>M-1      </td><td>3        </td><td>69.90    </td><td> 7.202396</td><td>22.57    </td></tr>\n",
       "\t<tr><td>M-1      </td><td>3        </td><td>69.93    </td><td> 6.833447</td><td>18.47    </td></tr>\n",
       "\t<tr><td>M-1      </td><td>3        </td><td>69.88    </td><td> 7.748732</td><td>23.10    </td></tr>\n",
       "</tbody>\n",
       "</table>\n"
      ],
      "text/latex": [
       "\\begin{tabular}{r|lllll}\n",
       " GROUP & SEASON & MOISTURE & LIPID & PROTEIN\\\\\n",
       "\\hline\n",
       "\t M-1       & 3         & 68.79     & 10.542095 & 20.94    \\\\\n",
       "\t M-1       & 3         & 68.64     & 10.891383 & 21.26    \\\\\n",
       "\t M-1       & 3         & 68.75     &  9.960100 & 18.77    \\\\\n",
       "\t M-1       & 3         & 69.90     &  7.202396 & 22.57    \\\\\n",
       "\t M-1       & 3         & 69.93     &  6.833447 & 18.47    \\\\\n",
       "\t M-1       & 3         & 69.88     &  7.748732 & 23.10    \\\\\n",
       "\\end{tabular}\n"
      ],
      "text/markdown": [
       "\n",
       "| GROUP | SEASON | MOISTURE | LIPID | PROTEIN |\n",
       "|---|---|---|---|---|\n",
       "| M-1       | 3         | 68.79     | 10.542095 | 20.94     |\n",
       "| M-1       | 3         | 68.64     | 10.891383 | 21.26     |\n",
       "| M-1       | 3         | 68.75     |  9.960100 | 18.77     |\n",
       "| M-1       | 3         | 69.90     |  7.202396 | 22.57     |\n",
       "| M-1       | 3         | 69.93     |  6.833447 | 18.47     |\n",
       "| M-1       | 3         | 69.88     |  7.748732 | 23.10     |\n",
       "\n"
      ],
      "text/plain": [
       "  GROUP SEASON MOISTURE LIPID     PROTEIN\n",
       "1 M-1   3      68.79    10.542095 20.94  \n",
       "2 M-1   3      68.64    10.891383 21.26  \n",
       "3 M-1   3      68.75     9.960100 18.77  \n",
       "4 M-1   3      69.90     7.202396 22.57  \n",
       "5 M-1   3      69.93     6.833447 18.47  \n",
       "6 M-1   3      69.88     7.748732 23.10  "
      ]
     },
     "metadata": {},
     "output_type": "display_data"
    }
   ],
   "source": [
    "data = read.table(\"DATA_C3/DATA_ORI.txt\", header=T)\n",
    "head(data)"
   ]
  },
  {
   "cell_type": "code",
   "execution_count": 13,
   "metadata": {},
   "outputs": [
    {
     "data": {
      "text/html": [
       "<table>\n",
       "<thead><tr><th scope=col>GROUP</th><th scope=col>SEASON</th><th scope=col>MOISTURE</th><th scope=col>LIPID</th><th scope=col>PROTEIN</th></tr></thead>\n",
       "<tbody>\n",
       "\t<tr><td>M-1      </td><td>3        </td><td>68.79    </td><td>10.542095</td><td>20.94    </td></tr>\n",
       "\t<tr><td>M-1      </td><td>3        </td><td>68.64    </td><td>10.891383</td><td>21.26    </td></tr>\n",
       "\t<tr><td>M-1      </td><td>3        </td><td>68.75    </td><td> 9.960100</td><td>18.77    </td></tr>\n",
       "\t<tr><td>M-1      </td><td>3        </td><td>69.90    </td><td> 7.202396</td><td>22.57    </td></tr>\n",
       "\t<tr><td>M-1      </td><td>3        </td><td>69.93    </td><td> 6.833447</td><td>18.47    </td></tr>\n",
       "\t<tr><td>M-1      </td><td>3        </td><td>69.88    </td><td> 7.748732</td><td>23.10    </td></tr>\n",
       "</tbody>\n",
       "</table>\n"
      ],
      "text/latex": [
       "\\begin{tabular}{r|lllll}\n",
       " GROUP & SEASON & MOISTURE & LIPID & PROTEIN\\\\\n",
       "\\hline\n",
       "\t M-1       & 3         & 68.79     & 10.542095 & 20.94    \\\\\n",
       "\t M-1       & 3         & 68.64     & 10.891383 & 21.26    \\\\\n",
       "\t M-1       & 3         & 68.75     &  9.960100 & 18.77    \\\\\n",
       "\t M-1       & 3         & 69.90     &  7.202396 & 22.57    \\\\\n",
       "\t M-1       & 3         & 69.93     &  6.833447 & 18.47    \\\\\n",
       "\t M-1       & 3         & 69.88     &  7.748732 & 23.10    \\\\\n",
       "\\end{tabular}\n"
      ],
      "text/markdown": [
       "\n",
       "| GROUP | SEASON | MOISTURE | LIPID | PROTEIN |\n",
       "|---|---|---|---|---|\n",
       "| M-1       | 3         | 68.79     | 10.542095 | 20.94     |\n",
       "| M-1       | 3         | 68.64     | 10.891383 | 21.26     |\n",
       "| M-1       | 3         | 68.75     |  9.960100 | 18.77     |\n",
       "| M-1       | 3         | 69.90     |  7.202396 | 22.57     |\n",
       "| M-1       | 3         | 69.93     |  6.833447 | 18.47     |\n",
       "| M-1       | 3         | 69.88     |  7.748732 | 23.10     |\n",
       "\n"
      ],
      "text/plain": [
       "  GROUP SEASON MOISTURE LIPID     PROTEIN\n",
       "1 M-1   3      68.79    10.542095 20.94  \n",
       "2 M-1   3      68.64    10.891383 21.26  \n",
       "3 M-1   3      68.75     9.960100 18.77  \n",
       "4 M-1   3      69.90     7.202396 22.57  \n",
       "5 M-1   3      69.93     6.833447 18.47  \n",
       "6 M-1   3      69.88     7.748732 23.10  "
      ]
     },
     "metadata": {},
     "output_type": "display_data"
    },
    {
     "data": {
      "text/html": [
       "<table>\n",
       "<thead><tr><th scope=col>GROUP</th><th scope=col>SEASON</th><th scope=col>MOISTURE</th><th scope=col>LIPID</th><th scope=col>PROTEIN</th></tr></thead>\n",
       "<tbody>\n",
       "\t<tr><td>M-1      </td><td>3        </td><td>68.79    </td><td>10.542095</td><td>20.94    </td></tr>\n",
       "\t<tr><td>M-1      </td><td>3        </td><td>68.64    </td><td>10.891383</td><td>21.26    </td></tr>\n",
       "\t<tr><td>M-1      </td><td>3        </td><td>68.75    </td><td> 9.960100</td><td>18.77    </td></tr>\n",
       "\t<tr><td>M-1      </td><td>3        </td><td>69.90    </td><td> 7.202396</td><td>22.57    </td></tr>\n",
       "\t<tr><td>M-1      </td><td>3        </td><td>69.93    </td><td> 6.833447</td><td>18.47    </td></tr>\n",
       "\t<tr><td>M-1      </td><td>3        </td><td>69.88    </td><td> 7.748732</td><td>23.10    </td></tr>\n",
       "</tbody>\n",
       "</table>\n"
      ],
      "text/latex": [
       "\\begin{tabular}{r|lllll}\n",
       " GROUP & SEASON & MOISTURE & LIPID & PROTEIN\\\\\n",
       "\\hline\n",
       "\t M-1       & 3         & 68.79     & 10.542095 & 20.94    \\\\\n",
       "\t M-1       & 3         & 68.64     & 10.891383 & 21.26    \\\\\n",
       "\t M-1       & 3         & 68.75     &  9.960100 & 18.77    \\\\\n",
       "\t M-1       & 3         & 69.90     &  7.202396 & 22.57    \\\\\n",
       "\t M-1       & 3         & 69.93     &  6.833447 & 18.47    \\\\\n",
       "\t M-1       & 3         & 69.88     &  7.748732 & 23.10    \\\\\n",
       "\\end{tabular}\n"
      ],
      "text/markdown": [
       "\n",
       "| GROUP | SEASON | MOISTURE | LIPID | PROTEIN |\n",
       "|---|---|---|---|---|\n",
       "| M-1       | 3         | 68.79     | 10.542095 | 20.94     |\n",
       "| M-1       | 3         | 68.64     | 10.891383 | 21.26     |\n",
       "| M-1       | 3         | 68.75     |  9.960100 | 18.77     |\n",
       "| M-1       | 3         | 69.90     |  7.202396 | 22.57     |\n",
       "| M-1       | 3         | 69.93     |  6.833447 | 18.47     |\n",
       "| M-1       | 3         | 69.88     |  7.748732 | 23.10     |\n",
       "\n"
      ],
      "text/plain": [
       "  GROUP SEASON MOISTURE LIPID     PROTEIN\n",
       "1 M-1   3      68.79    10.542095 20.94  \n",
       "2 M-1   3      68.64    10.891383 21.26  \n",
       "3 M-1   3      68.75     9.960100 18.77  \n",
       "4 M-1   3      69.90     7.202396 22.57  \n",
       "5 M-1   3      69.93     6.833447 18.47  \n",
       "6 M-1   3      69.88     7.748732 23.10  "
      ]
     },
     "metadata": {},
     "output_type": "display_data"
    },
    {
     "data": {
      "text/html": [
       "<table>\n",
       "<thead><tr><th scope=col>GROUP</th><th scope=col>SEASON</th><th scope=col>MOISTURE</th><th scope=col>LIPID</th><th scope=col>PROTEIN</th></tr></thead>\n",
       "<tbody>\n",
       "\t<tr><td>M-4      </td><td>3        </td><td>78.99    </td><td>0.6640040</td><td>20.14    </td></tr>\n",
       "\t<tr><td>M-4      </td><td>3        </td><td>78.18    </td><td>0.6179915</td><td>19.56    </td></tr>\n",
       "\t<tr><td>M-4      </td><td>3        </td><td>78.60    </td><td>0.6633747</td><td>19.57    </td></tr>\n",
       "</tbody>\n",
       "</table>\n"
      ],
      "text/latex": [
       "\\begin{tabular}{r|lllll}\n",
       " GROUP & SEASON & MOISTURE & LIPID & PROTEIN\\\\\n",
       "\\hline\n",
       "\t M-4       & 3         & 78.99     & 0.6640040 & 20.14    \\\\\n",
       "\t M-4       & 3         & 78.18     & 0.6179915 & 19.56    \\\\\n",
       "\t M-4       & 3         & 78.60     & 0.6633747 & 19.57    \\\\\n",
       "\\end{tabular}\n"
      ],
      "text/markdown": [
       "\n",
       "| GROUP | SEASON | MOISTURE | LIPID | PROTEIN |\n",
       "|---|---|---|---|---|\n",
       "| M-4       | 3         | 78.99     | 0.6640040 | 20.14     |\n",
       "| M-4       | 3         | 78.18     | 0.6179915 | 19.56     |\n",
       "| M-4       | 3         | 78.60     | 0.6633747 | 19.57     |\n",
       "\n"
      ],
      "text/plain": [
       "  GROUP SEASON MOISTURE LIPID     PROTEIN\n",
       "1 M-4   3      78.99    0.6640040 20.14  \n",
       "2 M-4   3      78.18    0.6179915 19.56  \n",
       "3 M-4   3      78.60    0.6633747 19.57  "
      ]
     },
     "metadata": {},
     "output_type": "display_data"
    }
   ],
   "source": [
    "# filter 함수 : 지정한 조건에 맞는 데이터 추출.\n",
    "head( filter(data, SEASON==3) )\n",
    "head( filter(data,MOISTURE>78 | SEASON==3) )\n",
    "filter(data,MOISTURE>78 & SEASON==3) "
   ]
  },
  {
   "cell_type": "code",
   "execution_count": 14,
   "metadata": {},
   "outputs": [
    {
     "data": {
      "text/html": [
       "<table>\n",
       "<thead><tr><th scope=col>GROUP</th><th scope=col>SEASON</th><th scope=col>MOISTURE</th><th scope=col>LIPID</th><th scope=col>PROTEIN</th></tr></thead>\n",
       "<tbody>\n",
       "\t<tr><td>M-1      </td><td>3        </td><td>68.79    </td><td>10.542095</td><td>20.94    </td></tr>\n",
       "\t<tr><td>M-1      </td><td>3        </td><td>68.64    </td><td>10.891383</td><td>21.26    </td></tr>\n",
       "\t<tr><td>M-1      </td><td>3        </td><td>68.75    </td><td> 9.960100</td><td>18.77    </td></tr>\n",
       "\t<tr><td>M-1      </td><td>3        </td><td>69.90    </td><td> 7.202396</td><td>22.57    </td></tr>\n",
       "\t<tr><td>M-1      </td><td>3        </td><td>69.93    </td><td> 6.833447</td><td>18.47    </td></tr>\n",
       "\t<tr><td>M-1      </td><td>3        </td><td>69.88    </td><td> 7.748732</td><td>23.10    </td></tr>\n",
       "</tbody>\n",
       "</table>\n"
      ],
      "text/latex": [
       "\\begin{tabular}{r|lllll}\n",
       " GROUP & SEASON & MOISTURE & LIPID & PROTEIN\\\\\n",
       "\\hline\n",
       "\t M-1       & 3         & 68.79     & 10.542095 & 20.94    \\\\\n",
       "\t M-1       & 3         & 68.64     & 10.891383 & 21.26    \\\\\n",
       "\t M-1       & 3         & 68.75     &  9.960100 & 18.77    \\\\\n",
       "\t M-1       & 3         & 69.90     &  7.202396 & 22.57    \\\\\n",
       "\t M-1       & 3         & 69.93     &  6.833447 & 18.47    \\\\\n",
       "\t M-1       & 3         & 69.88     &  7.748732 & 23.10    \\\\\n",
       "\\end{tabular}\n"
      ],
      "text/markdown": [
       "\n",
       "| GROUP | SEASON | MOISTURE | LIPID | PROTEIN |\n",
       "|---|---|---|---|---|\n",
       "| M-1       | 3         | 68.79     | 10.542095 | 20.94     |\n",
       "| M-1       | 3         | 68.64     | 10.891383 | 21.26     |\n",
       "| M-1       | 3         | 68.75     |  9.960100 | 18.77     |\n",
       "| M-1       | 3         | 69.90     |  7.202396 | 22.57     |\n",
       "| M-1       | 3         | 69.93     |  6.833447 | 18.47     |\n",
       "| M-1       | 3         | 69.88     |  7.748732 | 23.10     |\n",
       "\n"
      ],
      "text/plain": [
       "  GROUP SEASON MOISTURE LIPID     PROTEIN\n",
       "1 M-1   3      68.79    10.542095 20.94  \n",
       "2 M-1   3      68.64    10.891383 21.26  \n",
       "3 M-1   3      68.75     9.960100 18.77  \n",
       "4 M-1   3      69.90     7.202396 22.57  \n",
       "5 M-1   3      69.93     6.833447 18.47  \n",
       "6 M-1   3      69.88     7.748732 23.10  "
      ]
     },
     "metadata": {},
     "output_type": "display_data"
    },
    {
     "data": {
      "text/html": [
       "<table>\n",
       "<thead><tr><th></th><th scope=col>GROUP</th><th scope=col>SEASON</th><th scope=col>MOISTURE</th><th scope=col>LIPID</th><th scope=col>PROTEIN</th></tr></thead>\n",
       "<tbody>\n",
       "\t<tr><th scope=row>100</th><td>M-4      </td><td>3        </td><td>78.99    </td><td>0.6640040</td><td>20.14    </td></tr>\n",
       "\t<tr><th scope=row>101</th><td>M-4      </td><td>3        </td><td>78.18    </td><td>0.6179915</td><td>19.56    </td></tr>\n",
       "\t<tr><th scope=row>102</th><td>M-4      </td><td>3        </td><td>78.60    </td><td>0.6633747</td><td>19.57    </td></tr>\n",
       "</tbody>\n",
       "</table>\n"
      ],
      "text/latex": [
       "\\begin{tabular}{r|lllll}\n",
       "  & GROUP & SEASON & MOISTURE & LIPID & PROTEIN\\\\\n",
       "\\hline\n",
       "\t100 & M-4       & 3         & 78.99     & 0.6640040 & 20.14    \\\\\n",
       "\t101 & M-4       & 3         & 78.18     & 0.6179915 & 19.56    \\\\\n",
       "\t102 & M-4       & 3         & 78.60     & 0.6633747 & 19.57    \\\\\n",
       "\\end{tabular}\n"
      ],
      "text/markdown": [
       "\n",
       "| <!--/--> | GROUP | SEASON | MOISTURE | LIPID | PROTEIN |\n",
       "|---|---|---|---|---|---|\n",
       "| 100 | M-4       | 3         | 78.99     | 0.6640040 | 20.14     |\n",
       "| 101 | M-4       | 3         | 78.18     | 0.6179915 | 19.56     |\n",
       "| 102 | M-4       | 3         | 78.60     | 0.6633747 | 19.57     |\n",
       "\n"
      ],
      "text/plain": [
       "    GROUP SEASON MOISTURE LIPID     PROTEIN\n",
       "100 M-4   3      78.99    0.6640040 20.14  \n",
       "101 M-4   3      78.18    0.6179915 19.56  \n",
       "102 M-4   3      78.60    0.6633747 19.57  "
      ]
     },
     "metadata": {},
     "output_type": "display_data"
    }
   ],
   "source": [
    "# filter 함수 사용 없이 데이터 추출.\n",
    "#비교(위와 동일)\n",
    "head( data[data$SEASON==3,] )\n",
    "data[data$MOISTURE>78 & data$SEASON==3,]"
   ]
  },
  {
   "cell_type": "code",
   "execution_count": 15,
   "metadata": {},
   "outputs": [
    {
     "data": {
      "text/html": [
       "<table>\n",
       "<thead><tr><th scope=col>SEASON</th></tr></thead>\n",
       "<tbody>\n",
       "\t<tr><td>3</td></tr>\n",
       "\t<tr><td>3</td></tr>\n",
       "\t<tr><td>3</td></tr>\n",
       "\t<tr><td>3</td></tr>\n",
       "\t<tr><td>3</td></tr>\n",
       "\t<tr><td>3</td></tr>\n",
       "</tbody>\n",
       "</table>\n"
      ],
      "text/latex": [
       "\\begin{tabular}{r|l}\n",
       " SEASON\\\\\n",
       "\\hline\n",
       "\t 3\\\\\n",
       "\t 3\\\\\n",
       "\t 3\\\\\n",
       "\t 3\\\\\n",
       "\t 3\\\\\n",
       "\t 3\\\\\n",
       "\\end{tabular}\n"
      ],
      "text/markdown": [
       "\n",
       "| SEASON |\n",
       "|---|\n",
       "| 3 |\n",
       "| 3 |\n",
       "| 3 |\n",
       "| 3 |\n",
       "| 3 |\n",
       "| 3 |\n",
       "\n"
      ],
      "text/plain": [
       "  SEASON\n",
       "1 3     \n",
       "2 3     \n",
       "3 3     \n",
       "4 3     \n",
       "5 3     \n",
       "6 3     "
      ]
     },
     "metadata": {},
     "output_type": "display_data"
    },
    {
     "data": {
      "text/html": [
       "<table>\n",
       "<thead><tr><th scope=col>GROUP</th><th scope=col>SEASON</th></tr></thead>\n",
       "<tbody>\n",
       "\t<tr><td>M-1</td><td>3  </td></tr>\n",
       "\t<tr><td>M-1</td><td>3  </td></tr>\n",
       "\t<tr><td>M-1</td><td>3  </td></tr>\n",
       "\t<tr><td>M-1</td><td>3  </td></tr>\n",
       "\t<tr><td>M-1</td><td>3  </td></tr>\n",
       "\t<tr><td>M-1</td><td>3  </td></tr>\n",
       "</tbody>\n",
       "</table>\n"
      ],
      "text/latex": [
       "\\begin{tabular}{r|ll}\n",
       " GROUP & SEASON\\\\\n",
       "\\hline\n",
       "\t M-1 & 3  \\\\\n",
       "\t M-1 & 3  \\\\\n",
       "\t M-1 & 3  \\\\\n",
       "\t M-1 & 3  \\\\\n",
       "\t M-1 & 3  \\\\\n",
       "\t M-1 & 3  \\\\\n",
       "\\end{tabular}\n"
      ],
      "text/markdown": [
       "\n",
       "| GROUP | SEASON |\n",
       "|---|---|\n",
       "| M-1 | 3   |\n",
       "| M-1 | 3   |\n",
       "| M-1 | 3   |\n",
       "| M-1 | 3   |\n",
       "| M-1 | 3   |\n",
       "| M-1 | 3   |\n",
       "\n"
      ],
      "text/plain": [
       "  GROUP SEASON\n",
       "1 M-1   3     \n",
       "2 M-1   3     \n",
       "3 M-1   3     \n",
       "4 M-1   3     \n",
       "5 M-1   3     \n",
       "6 M-1   3     "
      ]
     },
     "metadata": {},
     "output_type": "display_data"
    },
    {
     "data": {
      "text/html": [
       "<table>\n",
       "<thead><tr><th scope=col>GROUP</th><th scope=col>SEASON</th><th scope=col>PROTEIN</th></tr></thead>\n",
       "<tbody>\n",
       "\t<tr><td>M-1  </td><td>3    </td><td>20.94</td></tr>\n",
       "\t<tr><td>M-1  </td><td>3    </td><td>21.26</td></tr>\n",
       "\t<tr><td>M-1  </td><td>3    </td><td>18.77</td></tr>\n",
       "\t<tr><td>M-1  </td><td>3    </td><td>22.57</td></tr>\n",
       "\t<tr><td>M-1  </td><td>3    </td><td>18.47</td></tr>\n",
       "\t<tr><td>M-1  </td><td>3    </td><td>23.10</td></tr>\n",
       "</tbody>\n",
       "</table>\n"
      ],
      "text/latex": [
       "\\begin{tabular}{r|lll}\n",
       " GROUP & SEASON & PROTEIN\\\\\n",
       "\\hline\n",
       "\t M-1   & 3     & 20.94\\\\\n",
       "\t M-1   & 3     & 21.26\\\\\n",
       "\t M-1   & 3     & 18.77\\\\\n",
       "\t M-1   & 3     & 22.57\\\\\n",
       "\t M-1   & 3     & 18.47\\\\\n",
       "\t M-1   & 3     & 23.10\\\\\n",
       "\\end{tabular}\n"
      ],
      "text/markdown": [
       "\n",
       "| GROUP | SEASON | PROTEIN |\n",
       "|---|---|---|\n",
       "| M-1   | 3     | 20.94 |\n",
       "| M-1   | 3     | 21.26 |\n",
       "| M-1   | 3     | 18.77 |\n",
       "| M-1   | 3     | 22.57 |\n",
       "| M-1   | 3     | 18.47 |\n",
       "| M-1   | 3     | 23.10 |\n",
       "\n"
      ],
      "text/plain": [
       "  GROUP SEASON PROTEIN\n",
       "1 M-1   3      20.94  \n",
       "2 M-1   3      21.26  \n",
       "3 M-1   3      18.77  \n",
       "4 M-1   3      22.57  \n",
       "5 M-1   3      18.47  \n",
       "6 M-1   3      23.10  "
      ]
     },
     "metadata": {},
     "output_type": "display_data"
    }
   ],
   "source": [
    "# select 함수 : 조건에 따라 열(변수)를 추출하는 함수(분석시 유용).\n",
    "head( select(data, SEASON) )\n",
    "head( select(data, GROUP, SEASON) )\n",
    "head( select(data, GROUP, SEASON, PROTEIN) )"
   ]
  },
  {
   "cell_type": "code",
   "execution_count": 20,
   "metadata": {},
   "outputs": [
    {
     "data": {
      "text/html": [
       "<table>\n",
       "<thead><tr><th scope=col>SEASON</th><th scope=col>MOISTURE</th></tr></thead>\n",
       "<tbody>\n",
       "\t<tr><td>3    </td><td>68.79</td></tr>\n",
       "\t<tr><td>3    </td><td>68.64</td></tr>\n",
       "\t<tr><td>3    </td><td>68.75</td></tr>\n",
       "\t<tr><td>3    </td><td>69.90</td></tr>\n",
       "\t<tr><td>3    </td><td>69.93</td></tr>\n",
       "\t<tr><td>3    </td><td>69.88</td></tr>\n",
       "\t<tr><td>3    </td><td>71.90</td></tr>\n",
       "\t<tr><td>3    </td><td>71.59</td></tr>\n",
       "</tbody>\n",
       "</table>\n"
      ],
      "text/latex": [
       "\\begin{tabular}{r|ll}\n",
       " SEASON & MOISTURE\\\\\n",
       "\\hline\n",
       "\t 3     & 68.79\\\\\n",
       "\t 3     & 68.64\\\\\n",
       "\t 3     & 68.75\\\\\n",
       "\t 3     & 69.90\\\\\n",
       "\t 3     & 69.93\\\\\n",
       "\t 3     & 69.88\\\\\n",
       "\t 3     & 71.90\\\\\n",
       "\t 3     & 71.59\\\\\n",
       "\\end{tabular}\n"
      ],
      "text/markdown": [
       "\n",
       "| SEASON | MOISTURE |\n",
       "|---|---|\n",
       "| 3     | 68.79 |\n",
       "| 3     | 68.64 |\n",
       "| 3     | 68.75 |\n",
       "| 3     | 69.90 |\n",
       "| 3     | 69.93 |\n",
       "| 3     | 69.88 |\n",
       "| 3     | 71.90 |\n",
       "| 3     | 71.59 |\n",
       "\n"
      ],
      "text/plain": [
       "  SEASON MOISTURE\n",
       "1 3      68.79   \n",
       "2 3      68.64   \n",
       "3 3      68.75   \n",
       "4 3      69.90   \n",
       "5 3      69.93   \n",
       "6 3      69.88   \n",
       "7 3      71.90   \n",
       "8 3      71.59   "
      ]
     },
     "metadata": {},
     "output_type": "display_data"
    }
   ],
   "source": [
    "# data[,c(2,3)] : 2(SEASON)번째 3(MOISURE)번째 열을 8개만 뽑아옴.\n",
    "data[ 1 : 8,c(\"SEASON\", \"MOISTURE\")]"
   ]
  },
  {
   "cell_type": "code",
   "execution_count": 22,
   "metadata": {},
   "outputs": [
    {
     "data": {
      "text/html": [
       "<table>\n",
       "<thead><tr><th scope=col>GROUP</th><th scope=col>SEASON</th><th scope=col>MOISTURE</th><th scope=col>LIPID</th><th scope=col>PROTEIN</th><th scope=col>rate</th></tr></thead>\n",
       "<tbody>\n",
       "\t<tr><td>M-1      </td><td>3        </td><td>68.79    </td><td>10.542095</td><td>20.94    </td><td>3.285100 </td></tr>\n",
       "\t<tr><td>M-1      </td><td>3        </td><td>68.64    </td><td>10.891383</td><td>21.26    </td><td>3.228598 </td></tr>\n",
       "\t<tr><td>M-1      </td><td>3        </td><td>68.75    </td><td> 9.960100</td><td>18.77    </td><td>3.662760 </td></tr>\n",
       "\t<tr><td>M-1      </td><td>3        </td><td>69.90    </td><td> 7.202396</td><td>22.57    </td><td>3.097031 </td></tr>\n",
       "\t<tr><td>M-1      </td><td>3        </td><td>69.93    </td><td> 6.833447</td><td>18.47    </td><td>3.786140 </td></tr>\n",
       "\t<tr><td>M-1      </td><td>3        </td><td>69.88    </td><td> 7.748732</td><td>23.10    </td><td>3.025108 </td></tr>\n",
       "</tbody>\n",
       "</table>\n"
      ],
      "text/latex": [
       "\\begin{tabular}{r|llllll}\n",
       " GROUP & SEASON & MOISTURE & LIPID & PROTEIN & rate\\\\\n",
       "\\hline\n",
       "\t M-1       & 3         & 68.79     & 10.542095 & 20.94     & 3.285100 \\\\\n",
       "\t M-1       & 3         & 68.64     & 10.891383 & 21.26     & 3.228598 \\\\\n",
       "\t M-1       & 3         & 68.75     &  9.960100 & 18.77     & 3.662760 \\\\\n",
       "\t M-1       & 3         & 69.90     &  7.202396 & 22.57     & 3.097031 \\\\\n",
       "\t M-1       & 3         & 69.93     &  6.833447 & 18.47     & 3.786140 \\\\\n",
       "\t M-1       & 3         & 69.88     &  7.748732 & 23.10     & 3.025108 \\\\\n",
       "\\end{tabular}\n"
      ],
      "text/markdown": [
       "\n",
       "| GROUP | SEASON | MOISTURE | LIPID | PROTEIN | rate |\n",
       "|---|---|---|---|---|---|\n",
       "| M-1       | 3         | 68.79     | 10.542095 | 20.94     | 3.285100  |\n",
       "| M-1       | 3         | 68.64     | 10.891383 | 21.26     | 3.228598  |\n",
       "| M-1       | 3         | 68.75     |  9.960100 | 18.77     | 3.662760  |\n",
       "| M-1       | 3         | 69.90     |  7.202396 | 22.57     | 3.097031  |\n",
       "| M-1       | 3         | 69.93     |  6.833447 | 18.47     | 3.786140  |\n",
       "| M-1       | 3         | 69.88     |  7.748732 | 23.10     | 3.025108  |\n",
       "\n"
      ],
      "text/plain": [
       "  GROUP SEASON MOISTURE LIPID     PROTEIN rate    \n",
       "1 M-1   3      68.79    10.542095 20.94   3.285100\n",
       "2 M-1   3      68.64    10.891383 21.26   3.228598\n",
       "3 M-1   3      68.75     9.960100 18.77   3.662760\n",
       "4 M-1   3      69.90     7.202396 22.57   3.097031\n",
       "5 M-1   3      69.93     6.833447 18.47   3.786140\n",
       "6 M-1   3      69.88     7.748732 23.10   3.025108"
      ]
     },
     "metadata": {},
     "output_type": "display_data"
    },
    {
     "data": {
      "text/html": [
       "<table>\n",
       "<thead><tr><th scope=col>GROUP</th><th scope=col>SEASON</th><th scope=col>MOISTURE</th><th scope=col>LIPID</th><th scope=col>PROTEIN</th><th scope=col>rate</th><th scope=col>per</th></tr></thead>\n",
       "<tbody>\n",
       "\t<tr><td>M-1      </td><td>3        </td><td>68.79    </td><td>10.542095</td><td>20.94    </td><td>3.285100 </td><td>328.5100 </td></tr>\n",
       "\t<tr><td>M-1      </td><td>3        </td><td>68.64    </td><td>10.891383</td><td>21.26    </td><td>3.228598 </td><td>322.8598 </td></tr>\n",
       "\t<tr><td>M-1      </td><td>3        </td><td>68.75    </td><td> 9.960100</td><td>18.77    </td><td>3.662760 </td><td>366.2760 </td></tr>\n",
       "\t<tr><td>M-1      </td><td>3        </td><td>69.90    </td><td> 7.202396</td><td>22.57    </td><td>3.097031 </td><td>309.7031 </td></tr>\n",
       "\t<tr><td>M-1      </td><td>3        </td><td>69.93    </td><td> 6.833447</td><td>18.47    </td><td>3.786140 </td><td>378.6140 </td></tr>\n",
       "\t<tr><td>M-1      </td><td>3        </td><td>69.88    </td><td> 7.748732</td><td>23.10    </td><td>3.025108 </td><td>302.5108 </td></tr>\n",
       "</tbody>\n",
       "</table>\n"
      ],
      "text/latex": [
       "\\begin{tabular}{r|lllllll}\n",
       " GROUP & SEASON & MOISTURE & LIPID & PROTEIN & rate & per\\\\\n",
       "\\hline\n",
       "\t M-1       & 3         & 68.79     & 10.542095 & 20.94     & 3.285100  & 328.5100 \\\\\n",
       "\t M-1       & 3         & 68.64     & 10.891383 & 21.26     & 3.228598  & 322.8598 \\\\\n",
       "\t M-1       & 3         & 68.75     &  9.960100 & 18.77     & 3.662760  & 366.2760 \\\\\n",
       "\t M-1       & 3         & 69.90     &  7.202396 & 22.57     & 3.097031  & 309.7031 \\\\\n",
       "\t M-1       & 3         & 69.93     &  6.833447 & 18.47     & 3.786140  & 378.6140 \\\\\n",
       "\t M-1       & 3         & 69.88     &  7.748732 & 23.10     & 3.025108  & 302.5108 \\\\\n",
       "\\end{tabular}\n"
      ],
      "text/markdown": [
       "\n",
       "| GROUP | SEASON | MOISTURE | LIPID | PROTEIN | rate | per |\n",
       "|---|---|---|---|---|---|---|\n",
       "| M-1       | 3         | 68.79     | 10.542095 | 20.94     | 3.285100  | 328.5100  |\n",
       "| M-1       | 3         | 68.64     | 10.891383 | 21.26     | 3.228598  | 322.8598  |\n",
       "| M-1       | 3         | 68.75     |  9.960100 | 18.77     | 3.662760  | 366.2760  |\n",
       "| M-1       | 3         | 69.90     |  7.202396 | 22.57     | 3.097031  | 309.7031  |\n",
       "| M-1       | 3         | 69.93     |  6.833447 | 18.47     | 3.786140  | 378.6140  |\n",
       "| M-1       | 3         | 69.88     |  7.748732 | 23.10     | 3.025108  | 302.5108  |\n",
       "\n"
      ],
      "text/plain": [
       "  GROUP SEASON MOISTURE LIPID     PROTEIN rate     per     \n",
       "1 M-1   3      68.79    10.542095 20.94   3.285100 328.5100\n",
       "2 M-1   3      68.64    10.891383 21.26   3.228598 322.8598\n",
       "3 M-1   3      68.75     9.960100 18.77   3.662760 366.2760\n",
       "4 M-1   3      69.90     7.202396 22.57   3.097031 309.7031\n",
       "5 M-1   3      69.93     6.833447 18.47   3.786140 378.6140\n",
       "6 M-1   3      69.88     7.748732 23.10   3.025108 302.5108"
      ]
     },
     "metadata": {},
     "output_type": "display_data"
    }
   ],
   "source": [
    "# mutate 함수 : 데이터에 열(변수)을 추가하는 함수.\n",
    "head( mutate(data, rate=MOISTURE/PROTEIN) )\n",
    "head( mutate(data, rate=MOISTURE/PROTEIN, per=rate*100) )"
   ]
  },
  {
   "cell_type": "code",
   "execution_count": 25,
   "metadata": {},
   "outputs": [
    {
     "data": {
      "text/html": [
       "<table>\n",
       "<thead><tr><th scope=col>GROUP</th><th scope=col>SEASON</th><th scope=col>MOISTURE</th><th scope=col>LIPID</th><th scope=col>PROTEIN</th></tr></thead>\n",
       "<tbody>\n",
       "\t<tr><td>M-1      </td><td>3        </td><td>71.91    </td><td> 5.484032</td><td>21.15    </td></tr>\n",
       "\t<tr><td>M-1      </td><td>3        </td><td>71.90    </td><td> 5.175482</td><td>21.05    </td></tr>\n",
       "\t<tr><td>M-1      </td><td>3        </td><td>71.59    </td><td> 6.242545</td><td>20.60    </td></tr>\n",
       "\t<tr><td>M-1      </td><td>3        </td><td>70.30    </td><td> 6.140744</td><td>22.39    </td></tr>\n",
       "\t<tr><td>M-1      </td><td>3        </td><td>69.93    </td><td> 6.833447</td><td>18.47    </td></tr>\n",
       "\t<tr><td>M-1      </td><td>3        </td><td>69.90    </td><td> 7.202396</td><td>22.57    </td></tr>\n",
       "\t<tr><td>M-1      </td><td>3        </td><td>69.88    </td><td> 7.748732</td><td>23.10    </td></tr>\n",
       "\t<tr><td>M-1      </td><td>3        </td><td>68.79    </td><td>10.542095</td><td>20.94    </td></tr>\n",
       "\t<tr><td>M-1      </td><td>3        </td><td>68.75    </td><td> 9.960100</td><td>18.77    </td></tr>\n",
       "\t<tr><td>M-1      </td><td>3        </td><td>68.64    </td><td>10.891383</td><td>21.26    </td></tr>\n",
       "</tbody>\n",
       "</table>\n"
      ],
      "text/latex": [
       "\\begin{tabular}{r|lllll}\n",
       " GROUP & SEASON & MOISTURE & LIPID & PROTEIN\\\\\n",
       "\\hline\n",
       "\t M-1       & 3         & 71.91     &  5.484032 & 21.15    \\\\\n",
       "\t M-1       & 3         & 71.90     &  5.175482 & 21.05    \\\\\n",
       "\t M-1       & 3         & 71.59     &  6.242545 & 20.60    \\\\\n",
       "\t M-1       & 3         & 70.30     &  6.140744 & 22.39    \\\\\n",
       "\t M-1       & 3         & 69.93     &  6.833447 & 18.47    \\\\\n",
       "\t M-1       & 3         & 69.90     &  7.202396 & 22.57    \\\\\n",
       "\t M-1       & 3         & 69.88     &  7.748732 & 23.10    \\\\\n",
       "\t M-1       & 3         & 68.79     & 10.542095 & 20.94    \\\\\n",
       "\t M-1       & 3         & 68.75     &  9.960100 & 18.77    \\\\\n",
       "\t M-1       & 3         & 68.64     & 10.891383 & 21.26    \\\\\n",
       "\\end{tabular}\n"
      ],
      "text/markdown": [
       "\n",
       "| GROUP | SEASON | MOISTURE | LIPID | PROTEIN |\n",
       "|---|---|---|---|---|\n",
       "| M-1       | 3         | 71.91     |  5.484032 | 21.15     |\n",
       "| M-1       | 3         | 71.90     |  5.175482 | 21.05     |\n",
       "| M-1       | 3         | 71.59     |  6.242545 | 20.60     |\n",
       "| M-1       | 3         | 70.30     |  6.140744 | 22.39     |\n",
       "| M-1       | 3         | 69.93     |  6.833447 | 18.47     |\n",
       "| M-1       | 3         | 69.90     |  7.202396 | 22.57     |\n",
       "| M-1       | 3         | 69.88     |  7.748732 | 23.10     |\n",
       "| M-1       | 3         | 68.79     | 10.542095 | 20.94     |\n",
       "| M-1       | 3         | 68.75     |  9.960100 | 18.77     |\n",
       "| M-1       | 3         | 68.64     | 10.891383 | 21.26     |\n",
       "\n"
      ],
      "text/plain": [
       "   GROUP SEASON MOISTURE LIPID     PROTEIN\n",
       "1  M-1   3      71.91     5.484032 21.15  \n",
       "2  M-1   3      71.90     5.175482 21.05  \n",
       "3  M-1   3      71.59     6.242545 20.60  \n",
       "4  M-1   3      70.30     6.140744 22.39  \n",
       "5  M-1   3      69.93     6.833447 18.47  \n",
       "6  M-1   3      69.90     7.202396 22.57  \n",
       "7  M-1   3      69.88     7.748732 23.10  \n",
       "8  M-1   3      68.79    10.542095 20.94  \n",
       "9  M-1   3      68.75     9.960100 18.77  \n",
       "10 M-1   3      68.64    10.891383 21.26  "
      ]
     },
     "metadata": {},
     "output_type": "display_data"
    }
   ],
   "source": [
    "## arrange 함수 : 지정한 열(변수)를 기준으로 오름차순/내림차순 정렬. 내림일 경우, desc()를 함께 사용.\n",
    "arrange(data[1:10,], SEASON, desc(MOISTURE))"
   ]
  },
  {
   "cell_type": "code",
   "execution_count": 27,
   "metadata": {},
   "outputs": [
    {
     "data": {
      "text/html": [
       "<table>\n",
       "<thead><tr><th scope=col>mean(MOISTURE)</th><th scope=col>mean(PROTEIN)</th></tr></thead>\n",
       "<tbody>\n",
       "\t<tr><td>68.29043</td><td>NA      </td></tr>\n",
       "</tbody>\n",
       "</table>\n"
      ],
      "text/latex": [
       "\\begin{tabular}{r|ll}\n",
       " mean(MOISTURE) & mean(PROTEIN)\\\\\n",
       "\\hline\n",
       "\t 68.29043 & NA      \\\\\n",
       "\\end{tabular}\n"
      ],
      "text/markdown": [
       "\n",
       "| mean(MOISTURE) | mean(PROTEIN) |\n",
       "|---|---|\n",
       "| 68.29043 | NA       |\n",
       "\n"
      ],
      "text/plain": [
       "  mean(MOISTURE) mean(PROTEIN)\n",
       "1 68.29043       NA           "
      ]
     },
     "metadata": {},
     "output_type": "display_data"
    },
    {
     "data": {
      "text/html": [
       "<table>\n",
       "<thead><tr><th scope=col>mean(PROTEIN, na.rm = TRUE)</th></tr></thead>\n",
       "<tbody>\n",
       "\t<tr><td>20.54975</td></tr>\n",
       "</tbody>\n",
       "</table>\n"
      ],
      "text/latex": [
       "\\begin{tabular}{r|l}\n",
       " mean(PROTEIN, na.rm = TRUE)\\\\\n",
       "\\hline\n",
       "\t 20.54975\\\\\n",
       "\\end{tabular}\n"
      ],
      "text/markdown": [
       "\n",
       "| mean(PROTEIN, na.rm = TRUE) |\n",
       "|---|\n",
       "| 20.54975 |\n",
       "\n"
      ],
      "text/plain": [
       "  mean(PROTEIN, na.rm = TRUE)\n",
       "1 20.54975                   "
      ]
     },
     "metadata": {},
     "output_type": "display_data"
    }
   ],
   "source": [
    "## summarise 함수 : 기초통계량 계산, 결과값은 데이터 프레임 전환.\n",
    "summarise(data,mean(MOISTURE),mean(PROTEIN))\n",
    "\n",
    "# 결측이 존재하는 경우.\n",
    "summarise(data, mean(PROTEIN, na.rm=TRUE)) "
   ]
  },
  {
   "cell_type": "code",
   "execution_count": 29,
   "metadata": {},
   "outputs": [
    {
     "data": {
      "text/html": [
       "<table>\n",
       "<thead><tr><th scope=col>SEASON</th><th scope=col>mean(MOISTURE)</th><th scope=col>sd(MOISTURE)</th></tr></thead>\n",
       "<tbody>\n",
       "\t<tr><td>3       </td><td>72.66900</td><td>3.469044</td></tr>\n",
       "\t<tr><td>4       </td><td>71.30953</td><td>4.568269</td></tr>\n",
       "\t<tr><td>5       </td><td>70.04175</td><td>4.731216</td></tr>\n",
       "\t<tr><td>6       </td><td>63.56992</td><td>3.914364</td></tr>\n",
       "\t<tr><td>7       </td><td>63.86196</td><td>4.384471</td></tr>\n",
       "</tbody>\n",
       "</table>\n"
      ],
      "text/latex": [
       "\\begin{tabular}{r|lll}\n",
       " SEASON & mean(MOISTURE) & sd(MOISTURE)\\\\\n",
       "\\hline\n",
       "\t 3        & 72.66900 & 3.469044\\\\\n",
       "\t 4        & 71.30953 & 4.568269\\\\\n",
       "\t 5        & 70.04175 & 4.731216\\\\\n",
       "\t 6        & 63.56992 & 3.914364\\\\\n",
       "\t 7        & 63.86196 & 4.384471\\\\\n",
       "\\end{tabular}\n"
      ],
      "text/markdown": [
       "\n",
       "| SEASON | mean(MOISTURE) | sd(MOISTURE) |\n",
       "|---|---|---|\n",
       "| 3        | 72.66900 | 3.469044 |\n",
       "| 4        | 71.30953 | 4.568269 |\n",
       "| 5        | 70.04175 | 4.731216 |\n",
       "| 6        | 63.56992 | 3.914364 |\n",
       "| 7        | 63.86196 | 4.384471 |\n",
       "\n"
      ],
      "text/plain": [
       "  SEASON mean(MOISTURE) sd(MOISTURE)\n",
       "1 3      72.66900       3.469044    \n",
       "2 4      71.30953       4.568269    \n",
       "3 5      70.04175       4.731216    \n",
       "4 6      63.56992       3.914364    \n",
       "5 7      63.86196       4.384471    "
      ]
     },
     "metadata": {},
     "output_type": "display_data"
    }
   ],
   "source": [
    "## by_group 함수 : 지정한 열의 수준에 따라 그룹화된 결과를 출력\n",
    "data1 = group_by(data,SEASON)\n",
    "summarise(data1, mean(MOISTURE), sd(MOISTURE))"
   ]
  },
  {
   "cell_type": "markdown",
   "metadata": {},
   "source": [
    "### 실습 1.1 DATA_ORI.txt 파일을 불러와서 다음의 작업을 수행하시오. (R기본 코드를 사용한 방법과 dplyr을 활용한 방법 모두 쓸 것.)\n",
    "\n",
    "- 1). 3,4,5 SEASON만 추출하시오.\n",
    "- 2). GROUP,LIPID값만 추출하시오.\n",
    "- 3). Group에 따른 평균, 표준편차를 계산하시오."
   ]
  },
  {
   "cell_type": "code",
   "execution_count": 30,
   "metadata": {},
   "outputs": [
    {
     "data": {
      "text/html": [
       "<table>\n",
       "<thead><tr><th scope=col>GROUP</th><th scope=col>mean(LIPID)</th><th scope=col>sd(LIPID)</th></tr></thead>\n",
       "<tbody>\n",
       "\t<tr><td>M-1     </td><td>9.270583</td><td>3.980397</td></tr>\n",
       "\t<tr><td>M-2     </td><td>7.759602</td><td>4.096502</td></tr>\n",
       "\t<tr><td>M-3     </td><td>6.852270</td><td>4.416319</td></tr>\n",
       "\t<tr><td>M-4     </td><td>2.734679</td><td>2.780121</td></tr>\n",
       "</tbody>\n",
       "</table>\n"
      ],
      "text/latex": [
       "\\begin{tabular}{r|lll}\n",
       " GROUP & mean(LIPID) & sd(LIPID)\\\\\n",
       "\\hline\n",
       "\t M-1      & 9.270583 & 3.980397\\\\\n",
       "\t M-2      & 7.759602 & 4.096502\\\\\n",
       "\t M-3      & 6.852270 & 4.416319\\\\\n",
       "\t M-4      & 2.734679 & 2.780121\\\\\n",
       "\\end{tabular}\n"
      ],
      "text/markdown": [
       "\n",
       "| GROUP | mean(LIPID) | sd(LIPID) |\n",
       "|---|---|---|\n",
       "| M-1      | 9.270583 | 3.980397 |\n",
       "| M-2      | 7.759602 | 4.096502 |\n",
       "| M-3      | 6.852270 | 4.416319 |\n",
       "| M-4      | 2.734679 | 2.780121 |\n",
       "\n"
      ],
      "text/plain": [
       "  GROUP mean(LIPID) sd(LIPID)\n",
       "1 M-1   9.270583    3.980397 \n",
       "2 M-2   7.759602    4.096502 \n",
       "3 M-3   6.852270    4.416319 \n",
       "4 M-4   2.734679    2.780121 "
      ]
     },
     "metadata": {},
     "output_type": "display_data"
    }
   ],
   "source": [
    "# dplyr 패키지를 활용하면 간단한 코드 구현만으로도 데이터 전처리가 용이.\n",
    "data = read.table(\"DATA_C3/DATA_ORI.txt\", header=T)\n",
    "data1 = filter(data, SEASON<=5)\n",
    "data1_1 = select(data1, GROUP, LIPID)\n",
    "data1_2 = group_by(data1_1, GROUP) \n",
    "a = summarise(data1_2, mean(LIPID), sd(LIPID))\n",
    "a"
   ]
  },
  {
   "cell_type": "code",
   "execution_count": 60,
   "metadata": {},
   "outputs": [
    {
     "data": {
      "text/html": [
       "<table>\n",
       "<thead><tr><th scope=col>Group</th><th scope=col>M-1</th><th scope=col>M-2</th><th scope=col>M-3</th><th scope=col>M-4</th></tr></thead>\n",
       "<tbody>\n",
       "\t<tr><td>Mean    </td><td>9.270583</td><td>7.759602</td><td>6.852270</td><td>2.734679</td></tr>\n",
       "\t<tr><td>Std     </td><td>3.980397</td><td>4.096502</td><td>4.416319</td><td>2.780121</td></tr>\n",
       "</tbody>\n",
       "</table>\n"
      ],
      "text/latex": [
       "\\begin{tabular}{r|lllll}\n",
       " Group & M-1 & M-2 & M-3 & M-4\\\\\n",
       "\\hline\n",
       "\t Mean     & 9.270583 & 7.759602 & 6.852270 & 2.734679\\\\\n",
       "\t Std      & 3.980397 & 4.096502 & 4.416319 & 2.780121\\\\\n",
       "\\end{tabular}\n"
      ],
      "text/markdown": [
       "\n",
       "| Group | M-1 | M-2 | M-3 | M-4 |\n",
       "|---|---|---|---|---|\n",
       "| Mean     | 9.270583 | 7.759602 | 6.852270 | 2.734679 |\n",
       "| Std      | 3.980397 | 4.096502 | 4.416319 | 2.780121 |\n",
       "\n"
      ],
      "text/plain": [
       "  Group M-1      M-2      M-3      M-4     \n",
       "1 Mean  9.270583 7.759602 6.852270 2.734679\n",
       "2 Std   3.980397 4.096502 4.416319 2.780121"
      ]
     },
     "metadata": {},
     "output_type": "display_data"
    }
   ],
   "source": [
    "# 패키지를 활용하지 않고도 아래와 같이 구할 수는 있으나 다소 번거로움이 존재.\n",
    "data2   = data[data$SEASON==3 | data$SEASON==4 | data$SEASON==5,]\n",
    "data2_1 = data2[,c(\"GROUP\", \"LIPID\")]\n",
    "\n",
    "dataM_1 = data2_1[data2_1$GROUP==\"M-1\",] \n",
    "dataM_2 = data2_1[data2_1$GROUP==\"M-2\",]  \n",
    "dataM_3 = data2_1[data2_1$GROUP==\"M-3\",] \n",
    "dataM_4 = data2_1[data2_1$GROUP==\"M-4\",] \n",
    "\n",
    "m1 = mean(dataM_1$LIPID)\n",
    "m2 = mean(dataM_2$LIPID)\n",
    "m3 = mean(dataM_3$LIPID)\n",
    "m4 = mean(dataM_4$LIPID)\n",
    "m  = data.frame(m1,m2,m3,m4)\n",
    "\n",
    "sd1 = sd(dataM_1$LIPID)\n",
    "sd2 = sd(dataM_2$LIPID)\n",
    "sd3 = sd(dataM_3$LIPID)\n",
    "sd4 = sd(dataM_4$LIPID)\n",
    "s  = data.frame(sd1,sd2,sd3,sd4)\n",
    "\n",
    "name1 = rbind('Mean', 'Std')\n",
    "colnames(name1) = c('Group')\n",
    "\n",
    "colnames(m) = c('M-1', 'M-2', 'M-3', \"M-4\")\n",
    "colnames(s) = c('M-1', 'M-2', 'M-3', \"M-4\")\n",
    "t = rbind(m,s)\n",
    "cbind(name1, t)"
   ]
  }
 ],
 "metadata": {
  "kernelspec": {
   "display_name": "R",
   "language": "R",
   "name": "ir"
  },
  "language_info": {
   "codemirror_mode": "r",
   "file_extension": ".r",
   "mimetype": "text/x-r-source",
   "name": "R",
   "pygments_lexer": "r",
   "version": "3.6.1"
  }
 },
 "nbformat": 4,
 "nbformat_minor": 4
}
